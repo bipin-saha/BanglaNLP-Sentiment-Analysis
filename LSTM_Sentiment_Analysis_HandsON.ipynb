{
  "nbformat": 4,
  "nbformat_minor": 0,
  "metadata": {
    "colab": {
      "provenance": [],
      "gpuType": "T4"
    },
    "kernelspec": {
      "name": "python3",
      "display_name": "Python 3"
    },
    "language_info": {
      "name": "python"
    },
    "accelerator": "GPU"
  },
  "cells": [
    {
      "cell_type": "code",
      "execution_count": null,
      "metadata": {
        "colab": {
          "base_uri": "https://localhost:8080/"
        },
        "id": "ub7wUDqb9QXe",
        "outputId": "7fbfb04e-8862-4795-e76a-e7ef244c1f8d"
      },
      "outputs": [
        {
          "output_type": "stream",
          "name": "stdout",
          "text": [
            "Cloning into 'Bangla-Sentiment-Analysis'...\n",
            "remote: Enumerating objects: 14, done.\u001b[K\n",
            "remote: Counting objects: 100% (14/14), done.\u001b[K\n",
            "remote: Compressing objects: 100% (12/12), done.\u001b[K\n",
            "remote: Total 14 (delta 1), reused 0 (delta 0), pack-reused 0\u001b[K\n",
            "Receiving objects: 100% (14/14), 2.44 MiB | 4.52 MiB/s, done.\n",
            "Resolving deltas: 100% (1/1), done.\n"
          ]
        }
      ],
      "source": [
        "!git clone https://github.com/mahedishato/Bangla-Sentiment-Analysis.git"
      ]
    },
    {
      "cell_type": "code",
      "source": [
        "import pandas as pd, numpy as np, plotly.express as px, seaborn as sns, re\n",
        "from sklearn.model_selection import train_test_split\n",
        "import keras"
      ],
      "metadata": {
        "id": "bys8cHbddvz_"
      },
      "execution_count": null,
      "outputs": []
    },
    {
      "cell_type": "code",
      "source": [
        "from keras.preprocessing.text import Tokenizer"
      ],
      "metadata": {
        "id": "4wEqzb6_dxbE"
      },
      "execution_count": null,
      "outputs": []
    },
    {
      "cell_type": "code",
      "source": [
        "def text_to_word_list(text):\n",
        "    text = text.split()\n",
        "    return text\n",
        "\n",
        "def replace_strings(text):\n",
        "    emoji_pattern = re.compile(\"[\"\n",
        "                           u\"\\U0001F600-\\U0001F64F\"  # emoticons\n",
        "                           u\"\\U0001F300-\\U0001F5FF\"  # symbols & pictographs\n",
        "                           u\"\\U0001F680-\\U0001F6FF\"  # transport & map symbols\n",
        "                           u\"\\U0001F1E0-\\U0001F1FF\"  # flags (iOS)\n",
        "                           u\"\\U00002702-\\U000027B0\"\n",
        "                           u\"\\U000024C2-\\U0001F251\"\n",
        "                           u\"\\u00C0-\\u017F\"          #latin\n",
        "                           u\"\\u2000-\\u206F\"          #generalPunctuations\n",
        "\n",
        "                           \"]+\", flags=re.UNICODE)\n",
        "    english_pattern=re.compile('[a-zA-Z0-9]+', flags=re.I)\n",
        "    #latin_pattern=re.compile('[A-Za-z\\u00C0-\\u00D6\\u00D8-\\u00f6\\u00f8-\\u00ff\\s]*',)\n",
        "\n",
        "    text=emoji_pattern.sub(r'', text)\n",
        "    text=english_pattern.sub(r'', text)\n",
        "\n",
        "    return text\n",
        "\n",
        "def remove_punctuations(my_str):\n",
        "    # define punctuation\n",
        "    punctuations = '''````£|¢|Ñ+-*/=EROero৳০১২৩৪৫৬৭৮৯012–34567•89।!()-[]{};:'\"“\\’,<>./?@#$%^&*_~‘—॥”‰⚽️✌�￰৷￰'''\n",
        "\n",
        "    no_punct = \"\"\n",
        "    for char in my_str:\n",
        "        if char not in punctuations:\n",
        "            no_punct = no_punct + char\n",
        "\n",
        "    # display the unpunctuated string\n",
        "    return no_punct\n",
        "\n",
        "\n",
        "\n",
        "def joining(text):\n",
        "    out=' '.join(text)\n",
        "    return out\n",
        "\n",
        "def preprocessing(text):\n",
        "    out=remove_punctuations(replace_strings(text))\n",
        "    return out"
      ],
      "metadata": {
        "id": "QIuINUHBd5g1"
      },
      "execution_count": null,
      "outputs": []
    },
    {
      "cell_type": "code",
      "source": [
        "df = pd.read_excel('/content/Bangla-Sentiment-Analysis/predicted_unsupervised_sentiment.xlsx')\n",
        "display(df)"
      ],
      "metadata": {
        "colab": {
          "base_uri": "https://localhost:8080/",
          "height": 423
        },
        "id": "imqV_UPJeDRq",
        "outputId": "bf20ff71-43f6-459d-a870-833f27a5a764"
      },
      "execution_count": null,
      "outputs": [
        {
          "output_type": "display_data",
          "data": {
            "text/plain": [
              "      Unnamed: 0  Unnamed: 1  Unnamed: 2  \\\n",
              "0              0         NaN         NaN   \n",
              "1              1         NaN         NaN   \n",
              "2              2         NaN         NaN   \n",
              "3              3         NaN         NaN   \n",
              "4              4         NaN         NaN   \n",
              "...          ...         ...         ...   \n",
              "6647        6647         NaN         NaN   \n",
              "6648        6648         NaN         NaN   \n",
              "6649        6649         NaN         NaN   \n",
              "6650        6650         NaN         NaN   \n",
              "6651        6651         NaN         NaN   \n",
              "\n",
              "                                               sentence  sentiment  \n",
              "0                               ওয়ও আমি গর্বিত বাঙ্গালি          1  \n",
              "1     বাংলাদেশ এর কিছু মানুষ নিজে কিছু করতে পারবেনা ...          0  \n",
              "2                                    রামোসের ঘুম আসে না          0  \n",
              "3                     কোহলির প্রতি শ্রদ্ধা হারিয়ে ফেলছি          1  \n",
              "4     থ্যাঙ্ক ইউ মাছরাঙ্গা টেলিভিশনকিন্তু ছাপোষা আন্...          0  \n",
              "...                                                 ...        ...  \n",
              "6647  আমি কখনো আশা করিনি যে আমি আমার স্বপ্নের প্রিয় ...          1  \n",
              "6648  মিডিয়া লিটনকে একজন খারাপ মানুষ হিসেবে প্রতিষ্ঠ...          0  \n",
              "6649  বাংলাদেশের জন্ম কিংবা তার পূর্বের ইতিহাস অনেকে...          0  \n",
              "6650  আপনারা সিম নিবন্দন করালেন বাংলাদেশে অপরাধ কমবে...          0  \n",
              "6651  কত দিন যে মোবাইল ছুড়ে ফেলতে ইচ্ছা হয়েছে তার ...          0  \n",
              "\n",
              "[6652 rows x 5 columns]"
            ],
            "text/html": [
              "\n",
              "  <div id=\"df-01686aa6-a4d0-4e53-9f91-4fd7dfcc006d\" class=\"colab-df-container\">\n",
              "    <div>\n",
              "<style scoped>\n",
              "    .dataframe tbody tr th:only-of-type {\n",
              "        vertical-align: middle;\n",
              "    }\n",
              "\n",
              "    .dataframe tbody tr th {\n",
              "        vertical-align: top;\n",
              "    }\n",
              "\n",
              "    .dataframe thead th {\n",
              "        text-align: right;\n",
              "    }\n",
              "</style>\n",
              "<table border=\"1\" class=\"dataframe\">\n",
              "  <thead>\n",
              "    <tr style=\"text-align: right;\">\n",
              "      <th></th>\n",
              "      <th>Unnamed: 0</th>\n",
              "      <th>Unnamed: 1</th>\n",
              "      <th>Unnamed: 2</th>\n",
              "      <th>sentence</th>\n",
              "      <th>sentiment</th>\n",
              "    </tr>\n",
              "  </thead>\n",
              "  <tbody>\n",
              "    <tr>\n",
              "      <th>0</th>\n",
              "      <td>0</td>\n",
              "      <td>NaN</td>\n",
              "      <td>NaN</td>\n",
              "      <td>ওয়ও আমি গর্বিত বাঙ্গালি</td>\n",
              "      <td>1</td>\n",
              "    </tr>\n",
              "    <tr>\n",
              "      <th>1</th>\n",
              "      <td>1</td>\n",
              "      <td>NaN</td>\n",
              "      <td>NaN</td>\n",
              "      <td>বাংলাদেশ এর কিছু মানুষ নিজে কিছু করতে পারবেনা ...</td>\n",
              "      <td>0</td>\n",
              "    </tr>\n",
              "    <tr>\n",
              "      <th>2</th>\n",
              "      <td>2</td>\n",
              "      <td>NaN</td>\n",
              "      <td>NaN</td>\n",
              "      <td>রামোসের ঘুম আসে না</td>\n",
              "      <td>0</td>\n",
              "    </tr>\n",
              "    <tr>\n",
              "      <th>3</th>\n",
              "      <td>3</td>\n",
              "      <td>NaN</td>\n",
              "      <td>NaN</td>\n",
              "      <td>কোহলির প্রতি শ্রদ্ধা হারিয়ে ফেলছি</td>\n",
              "      <td>1</td>\n",
              "    </tr>\n",
              "    <tr>\n",
              "      <th>4</th>\n",
              "      <td>4</td>\n",
              "      <td>NaN</td>\n",
              "      <td>NaN</td>\n",
              "      <td>থ্যাঙ্ক ইউ মাছরাঙ্গা টেলিভিশনকিন্তু ছাপোষা আন্...</td>\n",
              "      <td>0</td>\n",
              "    </tr>\n",
              "    <tr>\n",
              "      <th>...</th>\n",
              "      <td>...</td>\n",
              "      <td>...</td>\n",
              "      <td>...</td>\n",
              "      <td>...</td>\n",
              "      <td>...</td>\n",
              "    </tr>\n",
              "    <tr>\n",
              "      <th>6647</th>\n",
              "      <td>6647</td>\n",
              "      <td>NaN</td>\n",
              "      <td>NaN</td>\n",
              "      <td>আমি কখনো আশা করিনি যে আমি আমার স্বপ্নের প্রিয় ...</td>\n",
              "      <td>1</td>\n",
              "    </tr>\n",
              "    <tr>\n",
              "      <th>6648</th>\n",
              "      <td>6648</td>\n",
              "      <td>NaN</td>\n",
              "      <td>NaN</td>\n",
              "      <td>মিডিয়া লিটনকে একজন খারাপ মানুষ হিসেবে প্রতিষ্ঠ...</td>\n",
              "      <td>0</td>\n",
              "    </tr>\n",
              "    <tr>\n",
              "      <th>6649</th>\n",
              "      <td>6649</td>\n",
              "      <td>NaN</td>\n",
              "      <td>NaN</td>\n",
              "      <td>বাংলাদেশের জন্ম কিংবা তার পূর্বের ইতিহাস অনেকে...</td>\n",
              "      <td>0</td>\n",
              "    </tr>\n",
              "    <tr>\n",
              "      <th>6650</th>\n",
              "      <td>6650</td>\n",
              "      <td>NaN</td>\n",
              "      <td>NaN</td>\n",
              "      <td>আপনারা সিম নিবন্দন করালেন বাংলাদেশে অপরাধ কমবে...</td>\n",
              "      <td>0</td>\n",
              "    </tr>\n",
              "    <tr>\n",
              "      <th>6651</th>\n",
              "      <td>6651</td>\n",
              "      <td>NaN</td>\n",
              "      <td>NaN</td>\n",
              "      <td>কত দিন যে মোবাইল ছুড়ে ফেলতে ইচ্ছা হয়েছে তার ...</td>\n",
              "      <td>0</td>\n",
              "    </tr>\n",
              "  </tbody>\n",
              "</table>\n",
              "<p>6652 rows × 5 columns</p>\n",
              "</div>\n",
              "    <div class=\"colab-df-buttons\">\n",
              "\n",
              "  <div class=\"colab-df-container\">\n",
              "    <button class=\"colab-df-convert\" onclick=\"convertToInteractive('df-01686aa6-a4d0-4e53-9f91-4fd7dfcc006d')\"\n",
              "            title=\"Convert this dataframe to an interactive table.\"\n",
              "            style=\"display:none;\">\n",
              "\n",
              "  <svg xmlns=\"http://www.w3.org/2000/svg\" height=\"24px\" viewBox=\"0 -960 960 960\">\n",
              "    <path d=\"M120-120v-720h720v720H120Zm60-500h600v-160H180v160Zm220 220h160v-160H400v160Zm0 220h160v-160H400v160ZM180-400h160v-160H180v160Zm440 0h160v-160H620v160ZM180-180h160v-160H180v160Zm440 0h160v-160H620v160Z\"/>\n",
              "  </svg>\n",
              "    </button>\n",
              "\n",
              "  <style>\n",
              "    .colab-df-container {\n",
              "      display:flex;\n",
              "      gap: 12px;\n",
              "    }\n",
              "\n",
              "    .colab-df-convert {\n",
              "      background-color: #E8F0FE;\n",
              "      border: none;\n",
              "      border-radius: 50%;\n",
              "      cursor: pointer;\n",
              "      display: none;\n",
              "      fill: #1967D2;\n",
              "      height: 32px;\n",
              "      padding: 0 0 0 0;\n",
              "      width: 32px;\n",
              "    }\n",
              "\n",
              "    .colab-df-convert:hover {\n",
              "      background-color: #E2EBFA;\n",
              "      box-shadow: 0px 1px 2px rgba(60, 64, 67, 0.3), 0px 1px 3px 1px rgba(60, 64, 67, 0.15);\n",
              "      fill: #174EA6;\n",
              "    }\n",
              "\n",
              "    .colab-df-buttons div {\n",
              "      margin-bottom: 4px;\n",
              "    }\n",
              "\n",
              "    [theme=dark] .colab-df-convert {\n",
              "      background-color: #3B4455;\n",
              "      fill: #D2E3FC;\n",
              "    }\n",
              "\n",
              "    [theme=dark] .colab-df-convert:hover {\n",
              "      background-color: #434B5C;\n",
              "      box-shadow: 0px 1px 3px 1px rgba(0, 0, 0, 0.15);\n",
              "      filter: drop-shadow(0px 1px 2px rgba(0, 0, 0, 0.3));\n",
              "      fill: #FFFFFF;\n",
              "    }\n",
              "  </style>\n",
              "\n",
              "    <script>\n",
              "      const buttonEl =\n",
              "        document.querySelector('#df-01686aa6-a4d0-4e53-9f91-4fd7dfcc006d button.colab-df-convert');\n",
              "      buttonEl.style.display =\n",
              "        google.colab.kernel.accessAllowed ? 'block' : 'none';\n",
              "\n",
              "      async function convertToInteractive(key) {\n",
              "        const element = document.querySelector('#df-01686aa6-a4d0-4e53-9f91-4fd7dfcc006d');\n",
              "        const dataTable =\n",
              "          await google.colab.kernel.invokeFunction('convertToInteractive',\n",
              "                                                    [key], {});\n",
              "        if (!dataTable) return;\n",
              "\n",
              "        const docLinkHtml = 'Like what you see? Visit the ' +\n",
              "          '<a target=\"_blank\" href=https://colab.research.google.com/notebooks/data_table.ipynb>data table notebook</a>'\n",
              "          + ' to learn more about interactive tables.';\n",
              "        element.innerHTML = '';\n",
              "        dataTable['output_type'] = 'display_data';\n",
              "        await google.colab.output.renderOutput(dataTable, element);\n",
              "        const docLink = document.createElement('div');\n",
              "        docLink.innerHTML = docLinkHtml;\n",
              "        element.appendChild(docLink);\n",
              "      }\n",
              "    </script>\n",
              "  </div>\n",
              "\n",
              "\n",
              "<div id=\"df-276d78e6-c384-40db-b909-da5a08546b22\">\n",
              "  <button class=\"colab-df-quickchart\" onclick=\"quickchart('df-276d78e6-c384-40db-b909-da5a08546b22')\"\n",
              "            title=\"Suggest charts\"\n",
              "            style=\"display:none;\">\n",
              "\n",
              "<svg xmlns=\"http://www.w3.org/2000/svg\" height=\"24px\"viewBox=\"0 0 24 24\"\n",
              "     width=\"24px\">\n",
              "    <g>\n",
              "        <path d=\"M19 3H5c-1.1 0-2 .9-2 2v14c0 1.1.9 2 2 2h14c1.1 0 2-.9 2-2V5c0-1.1-.9-2-2-2zM9 17H7v-7h2v7zm4 0h-2V7h2v10zm4 0h-2v-4h2v4z\"/>\n",
              "    </g>\n",
              "</svg>\n",
              "  </button>\n",
              "\n",
              "<style>\n",
              "  .colab-df-quickchart {\n",
              "      --bg-color: #E8F0FE;\n",
              "      --fill-color: #1967D2;\n",
              "      --hover-bg-color: #E2EBFA;\n",
              "      --hover-fill-color: #174EA6;\n",
              "      --disabled-fill-color: #AAA;\n",
              "      --disabled-bg-color: #DDD;\n",
              "  }\n",
              "\n",
              "  [theme=dark] .colab-df-quickchart {\n",
              "      --bg-color: #3B4455;\n",
              "      --fill-color: #D2E3FC;\n",
              "      --hover-bg-color: #434B5C;\n",
              "      --hover-fill-color: #FFFFFF;\n",
              "      --disabled-bg-color: #3B4455;\n",
              "      --disabled-fill-color: #666;\n",
              "  }\n",
              "\n",
              "  .colab-df-quickchart {\n",
              "    background-color: var(--bg-color);\n",
              "    border: none;\n",
              "    border-radius: 50%;\n",
              "    cursor: pointer;\n",
              "    display: none;\n",
              "    fill: var(--fill-color);\n",
              "    height: 32px;\n",
              "    padding: 0;\n",
              "    width: 32px;\n",
              "  }\n",
              "\n",
              "  .colab-df-quickchart:hover {\n",
              "    background-color: var(--hover-bg-color);\n",
              "    box-shadow: 0 1px 2px rgba(60, 64, 67, 0.3), 0 1px 3px 1px rgba(60, 64, 67, 0.15);\n",
              "    fill: var(--button-hover-fill-color);\n",
              "  }\n",
              "\n",
              "  .colab-df-quickchart-complete:disabled,\n",
              "  .colab-df-quickchart-complete:disabled:hover {\n",
              "    background-color: var(--disabled-bg-color);\n",
              "    fill: var(--disabled-fill-color);\n",
              "    box-shadow: none;\n",
              "  }\n",
              "\n",
              "  .colab-df-spinner {\n",
              "    border: 2px solid var(--fill-color);\n",
              "    border-color: transparent;\n",
              "    border-bottom-color: var(--fill-color);\n",
              "    animation:\n",
              "      spin 1s steps(1) infinite;\n",
              "  }\n",
              "\n",
              "  @keyframes spin {\n",
              "    0% {\n",
              "      border-color: transparent;\n",
              "      border-bottom-color: var(--fill-color);\n",
              "      border-left-color: var(--fill-color);\n",
              "    }\n",
              "    20% {\n",
              "      border-color: transparent;\n",
              "      border-left-color: var(--fill-color);\n",
              "      border-top-color: var(--fill-color);\n",
              "    }\n",
              "    30% {\n",
              "      border-color: transparent;\n",
              "      border-left-color: var(--fill-color);\n",
              "      border-top-color: var(--fill-color);\n",
              "      border-right-color: var(--fill-color);\n",
              "    }\n",
              "    40% {\n",
              "      border-color: transparent;\n",
              "      border-right-color: var(--fill-color);\n",
              "      border-top-color: var(--fill-color);\n",
              "    }\n",
              "    60% {\n",
              "      border-color: transparent;\n",
              "      border-right-color: var(--fill-color);\n",
              "    }\n",
              "    80% {\n",
              "      border-color: transparent;\n",
              "      border-right-color: var(--fill-color);\n",
              "      border-bottom-color: var(--fill-color);\n",
              "    }\n",
              "    90% {\n",
              "      border-color: transparent;\n",
              "      border-bottom-color: var(--fill-color);\n",
              "    }\n",
              "  }\n",
              "</style>\n",
              "\n",
              "  <script>\n",
              "    async function quickchart(key) {\n",
              "      const quickchartButtonEl =\n",
              "        document.querySelector('#' + key + ' button');\n",
              "      quickchartButtonEl.disabled = true;  // To prevent multiple clicks.\n",
              "      quickchartButtonEl.classList.add('colab-df-spinner');\n",
              "      try {\n",
              "        const charts = await google.colab.kernel.invokeFunction(\n",
              "            'suggestCharts', [key], {});\n",
              "      } catch (error) {\n",
              "        console.error('Error during call to suggestCharts:', error);\n",
              "      }\n",
              "      quickchartButtonEl.classList.remove('colab-df-spinner');\n",
              "      quickchartButtonEl.classList.add('colab-df-quickchart-complete');\n",
              "    }\n",
              "    (() => {\n",
              "      let quickchartButtonEl =\n",
              "        document.querySelector('#df-276d78e6-c384-40db-b909-da5a08546b22 button');\n",
              "      quickchartButtonEl.style.display =\n",
              "        google.colab.kernel.accessAllowed ? 'block' : 'none';\n",
              "    })();\n",
              "  </script>\n",
              "</div>\n",
              "    </div>\n",
              "  </div>\n"
            ]
          },
          "metadata": {}
        }
      ]
    },
    {
      "cell_type": "code",
      "source": [
        "df.shape"
      ],
      "metadata": {
        "colab": {
          "base_uri": "https://localhost:8080/"
        },
        "id": "jwffhZDKeJgN",
        "outputId": "869921aa-ba9d-4739-bd0f-bf6d4b4a786c"
      },
      "execution_count": null,
      "outputs": [
        {
          "output_type": "execute_result",
          "data": {
            "text/plain": [
              "(6652, 5)"
            ]
          },
          "metadata": {},
          "execution_count": 6
        }
      ]
    },
    {
      "cell_type": "code",
      "source": [
        "# Display general information about the DataFrame\n",
        "print(\"DataFrame Information:\")\n",
        "print(df.info())\n",
        "\n",
        "# Display the number of rows and columns in the DataFrame\n",
        "print(\"\\nDataFrame Shape:\")\n",
        "print(df.shape)\n",
        "\n",
        "# Display the total number of elements in the DataFrame\n",
        "print(\"\\nDataFrame Size:\")\n",
        "print(df.size)\n",
        "\n",
        "# Display descriptive statistics of the DataFrame\n",
        "print(\"\\nDataFrame Descriptive Statistics:\")\n",
        "print(df.describe())\n",
        "\n",
        "# Display the first few rows of the DataFrame\n",
        "print(\"\\nFirst few rows of the DataFrame:\")\n",
        "print(df.head())\n",
        "\n",
        "# Display the last few rows of the DataFrame\n",
        "print(\"\\nLast few rows of the DataFrame:\")\n",
        "print(df.tail())"
      ],
      "metadata": {
        "colab": {
          "base_uri": "https://localhost:8080/"
        },
        "id": "Gmqfx-K6eNzb",
        "outputId": "f0713968-aaeb-48fb-d611-756e385eca71"
      },
      "execution_count": null,
      "outputs": [
        {
          "output_type": "stream",
          "name": "stdout",
          "text": [
            "DataFrame Information:\n",
            "<class 'pandas.core.frame.DataFrame'>\n",
            "RangeIndex: 6652 entries, 0 to 6651\n",
            "Data columns (total 5 columns):\n",
            " #   Column      Non-Null Count  Dtype  \n",
            "---  ------      --------------  -----  \n",
            " 0   Unnamed: 0  6652 non-null   int64  \n",
            " 1   Unnamed: 1  0 non-null      float64\n",
            " 2   Unnamed: 2  0 non-null      float64\n",
            " 3   sentence    6652 non-null   object \n",
            " 4   sentiment   6652 non-null   int64  \n",
            "dtypes: float64(2), int64(2), object(1)\n",
            "memory usage: 260.0+ KB\n",
            "None\n",
            "\n",
            "DataFrame Shape:\n",
            "(6652, 5)\n",
            "\n",
            "DataFrame Size:\n",
            "33260\n",
            "\n",
            "DataFrame Descriptive Statistics:\n",
            "        Unnamed: 0  Unnamed: 1  Unnamed: 2    sentiment\n",
            "count  6652.000000         0.0         0.0  6652.000000\n",
            "mean   3325.500000         NaN         NaN     0.456554\n",
            "std    1920.411327         NaN         NaN     0.498146\n",
            "min       0.000000         NaN         NaN     0.000000\n",
            "25%    1662.750000         NaN         NaN     0.000000\n",
            "50%    3325.500000         NaN         NaN     0.000000\n",
            "75%    4988.250000         NaN         NaN     1.000000\n",
            "max    6651.000000         NaN         NaN     1.000000\n",
            "\n",
            "First few rows of the DataFrame:\n",
            "   Unnamed: 0  Unnamed: 1  Unnamed: 2  \\\n",
            "0           0         NaN         NaN   \n",
            "1           1         NaN         NaN   \n",
            "2           2         NaN         NaN   \n",
            "3           3         NaN         NaN   \n",
            "4           4         NaN         NaN   \n",
            "\n",
            "                                            sentence  sentiment  \n",
            "0                            ওয়ও আমি গর্বিত বাঙ্গালি          1  \n",
            "1  বাংলাদেশ এর কিছু মানুষ নিজে কিছু করতে পারবেনা ...          0  \n",
            "2                                 রামোসের ঘুম আসে না          0  \n",
            "3                  কোহলির প্রতি শ্রদ্ধা হারিয়ে ফেলছি          1  \n",
            "4  থ্যাঙ্ক ইউ মাছরাঙ্গা টেলিভিশনকিন্তু ছাপোষা আন্...          0  \n",
            "\n",
            "Last few rows of the DataFrame:\n",
            "      Unnamed: 0  Unnamed: 1  Unnamed: 2  \\\n",
            "6647        6647         NaN         NaN   \n",
            "6648        6648         NaN         NaN   \n",
            "6649        6649         NaN         NaN   \n",
            "6650        6650         NaN         NaN   \n",
            "6651        6651         NaN         NaN   \n",
            "\n",
            "                                               sentence  sentiment  \n",
            "6647  আমি কখনো আশা করিনি যে আমি আমার স্বপ্নের প্রিয় ...          1  \n",
            "6648  মিডিয়া লিটনকে একজন খারাপ মানুষ হিসেবে প্রতিষ্ঠ...          0  \n",
            "6649  বাংলাদেশের জন্ম কিংবা তার পূর্বের ইতিহাস অনেকে...          0  \n",
            "6650  আপনারা সিম নিবন্দন করালেন বাংলাদেশে অপরাধ কমবে...          0  \n",
            "6651  কত দিন যে মোবাইল ছুড়ে ফেলতে ইচ্ছা হয়েছে তার ...          0  \n"
          ]
        }
      ]
    },
    {
      "cell_type": "code",
      "source": [
        "df['sentiment'].value_counts()"
      ],
      "metadata": {
        "colab": {
          "base_uri": "https://localhost:8080/"
        },
        "id": "OMaclDMreQ1E",
        "outputId": "b42ba423-4ade-40c6-aca4-912c381db4ff"
      },
      "execution_count": null,
      "outputs": [
        {
          "output_type": "execute_result",
          "data": {
            "text/plain": [
              "0    3615\n",
              "1    3037\n",
              "Name: sentiment, dtype: int64"
            ]
          },
          "metadata": {},
          "execution_count": 8
        }
      ]
    },
    {
      "cell_type": "code",
      "source": [
        "df.reset_index(drop=True, inplace=True)\n",
        "df['sentence'] = df.sentence.apply(lambda x: preprocessing(str(x)))"
      ],
      "metadata": {
        "id": "zWbUoTZheUHa"
      },
      "execution_count": null,
      "outputs": []
    },
    {
      "cell_type": "code",
      "source": [
        "train1, test1 = train_test_split(df,random_state=69, test_size=0.2)\n",
        "training_sentences = []\n",
        "testing_sentences = []\n",
        "\n",
        "train_sentences=train1['sentence'].values\n",
        "train_labels=train1['sentiment'].values\n",
        "for i in range(train_sentences.shape[0]):\n",
        "    #print(train_sentences[i])\n",
        "    x=str(train_sentences[i])\n",
        "    training_sentences.append(x)\n",
        "\n",
        "training_sentences=np.array(training_sentences)"
      ],
      "metadata": {
        "id": "TDzt_e15eXtS"
      },
      "execution_count": null,
      "outputs": []
    },
    {
      "cell_type": "code",
      "source": [
        "test_sentences=test1['sentence'].values\n",
        "test_labels=test1['sentiment'].values\n",
        "\n",
        "for i in range(test_sentences.shape[0]):\n",
        "    x=str(test_sentences[i])\n",
        "    testing_sentences.append(x)\n",
        "\n",
        "testing_sentences=np.array(testing_sentences)\n",
        "\n",
        "\n",
        "train_labels=keras.utils.to_categorical(train_labels)\n",
        "\n",
        "\n",
        "test_labels=keras.utils.to_categorical(test_labels)"
      ],
      "metadata": {
        "id": "l2bn49a0eacf"
      },
      "execution_count": null,
      "outputs": []
    },
    {
      "cell_type": "code",
      "source": [
        "print(\"Training Set Length: \"+str(len(train1)))\n",
        "print(\"Testing Set Length: \"+str(len(test1)))\n",
        "print(\"training_sentences shape: \"+str(training_sentences.shape))\n",
        "print(\"testing_sentences shape: \"+str(testing_sentences.shape))\n",
        "print(\"train_labels shape: \"+str(train_labels.shape))\n",
        "print(\"test_labels shape: \"+str(test_labels.shape))"
      ],
      "metadata": {
        "colab": {
          "base_uri": "https://localhost:8080/"
        },
        "id": "yRgbU6cBedHA",
        "outputId": "a3a9202a-9e5c-4c76-fc55-ec69a8136207"
      },
      "execution_count": null,
      "outputs": [
        {
          "output_type": "stream",
          "name": "stdout",
          "text": [
            "Training Set Length: 5321\n",
            "Testing Set Length: 1331\n",
            "training_sentences shape: (5321,)\n",
            "testing_sentences shape: (1331,)\n",
            "train_labels shape: (5321, 2)\n",
            "test_labels shape: (1331, 2)\n"
          ]
        }
      ]
    },
    {
      "cell_type": "code",
      "source": [
        "training_sentences[3]"
      ],
      "metadata": {
        "colab": {
          "base_uri": "https://localhost:8080/",
          "height": 36
        },
        "id": "xWHPIlbAegQw",
        "outputId": "ea4c908e-a03e-4501-9e92-c2f49e435892"
      },
      "execution_count": null,
      "outputs": [
        {
          "output_type": "execute_result",
          "data": {
            "text/plain": [
              "'টাকা কি গাছে ধরে'"
            ],
            "application/vnd.google.colaboratory.intrinsic+json": {
              "type": "string"
            }
          },
          "metadata": {},
          "execution_count": 13
        }
      ]
    },
    {
      "cell_type": "code",
      "source": [
        "train_labels[3]"
      ],
      "metadata": {
        "colab": {
          "base_uri": "https://localhost:8080/"
        },
        "id": "_sctdrh3eitN",
        "outputId": "4c19be27-bdf2-42a2-ffbc-cdb1eedd2476"
      },
      "execution_count": null,
      "outputs": [
        {
          "output_type": "execute_result",
          "data": {
            "text/plain": [
              "array([1., 0.], dtype=float32)"
            ]
          },
          "metadata": {},
          "execution_count": 14
        }
      ]
    },
    {
      "cell_type": "code",
      "source": [
        "print(training_sentences.shape)\n",
        "print(train_labels.shape)"
      ],
      "metadata": {
        "colab": {
          "base_uri": "https://localhost:8080/"
        },
        "id": "91kiF8odelT0",
        "outputId": "83048be7-7d3c-4166-a4ff-c54741889f06"
      },
      "execution_count": null,
      "outputs": [
        {
          "output_type": "stream",
          "name": "stdout",
          "text": [
            "(5321,)\n",
            "(5321, 2)\n"
          ]
        }
      ]
    },
    {
      "cell_type": "code",
      "source": [
        "vocab_size = 20000\n",
        "embedding_dim = 300\n",
        "max_length = 150\n",
        "trunc_type='post'\n",
        "oov_tok = \"\""
      ],
      "metadata": {
        "id": "QQ0wObC8eoXj"
      },
      "execution_count": null,
      "outputs": []
    },
    {
      "cell_type": "code",
      "source": [
        "tokenizer = Tokenizer(num_words = vocab_size, oov_token=oov_tok)\n",
        "tokenizer.fit_on_texts(training_sentences)\n",
        "word_index = tokenizer.word_index\n",
        "print(len(word_index))"
      ],
      "metadata": {
        "colab": {
          "base_uri": "https://localhost:8080/"
        },
        "id": "UGz0YH5Peq-v",
        "outputId": "f3c1d8e6-857e-4508-c8b0-77b499705dc7"
      },
      "execution_count": null,
      "outputs": [
        {
          "output_type": "stream",
          "name": "stdout",
          "text": [
            "18247\n"
          ]
        }
      ]
    },
    {
      "cell_type": "code",
      "source": [
        "from keras.preprocessing.sequence import pad_sequences"
      ],
      "metadata": {
        "id": "bU8sL1AxeuRb"
      },
      "execution_count": null,
      "outputs": []
    },
    {
      "cell_type": "code",
      "source": [
        "sequences = tokenizer.texts_to_sequences(training_sentences)\n",
        "padded = pad_sequences(sequences,maxlen=max_length, truncating=trunc_type)\n",
        "\n",
        "\n",
        "test_sequences = tokenizer.texts_to_sequences(testing_sentences)\n",
        "testing_padded = pad_sequences(test_sequences,maxlen=max_length)"
      ],
      "metadata": {
        "id": "-n5QHBX1evav"
      },
      "execution_count": null,
      "outputs": []
    },
    {
      "cell_type": "code",
      "source": [
        "print(\"Sentence :--> \\n\")\n",
        "print(training_sentences[3]+\"\\n\")\n",
        "print(\"Sentence Tokenized and Converted into Sequence :--> \\n\")\n",
        "print(str(sequences[3])+\"\\n\")\n",
        "print(\"After Padding the Sequence with padding length 100 :--> \\n\")\n",
        "print(padded[3])"
      ],
      "metadata": {
        "colab": {
          "base_uri": "https://localhost:8080/"
        },
        "id": "ilTEfac-e1wE",
        "outputId": "f47ee56a-9f86-42a6-91a6-d31f3f281edd"
      },
      "execution_count": null,
      "outputs": [
        {
          "output_type": "stream",
          "name": "stdout",
          "text": [
            "Sentence :--> \n",
            "\n",
            "টাকা কি গাছে ধরে\n",
            "\n",
            "Sentence Tokenized and Converted into Sequence :--> \n",
            "\n",
            "[14, 7, 1157, 158]\n",
            "\n",
            "After Padding the Sequence with padding length 100 :--> \n",
            "\n",
            "[   0    0    0    0    0    0    0    0    0    0    0    0    0    0\n",
            "    0    0    0    0    0    0    0    0    0    0    0    0    0    0\n",
            "    0    0    0    0    0    0    0    0    0    0    0    0    0    0\n",
            "    0    0    0    0    0    0    0    0    0    0    0    0    0    0\n",
            "    0    0    0    0    0    0    0    0    0    0    0    0    0    0\n",
            "    0    0    0    0    0    0    0    0    0    0    0    0    0    0\n",
            "    0    0    0    0    0    0    0    0    0    0    0    0    0    0\n",
            "    0    0    0    0    0    0    0    0    0    0    0    0    0    0\n",
            "    0    0    0    0    0    0    0    0    0    0    0    0    0    0\n",
            "    0    0    0    0    0    0    0    0    0    0    0    0    0    0\n",
            "    0    0    0    0    0    0   14    7 1157  158]\n"
          ]
        }
      ]
    },
    {
      "cell_type": "code",
      "source": [
        "print(\"Padded shape(training): \"+str(padded.shape))\n",
        "print(\"Padded shape(testing): \"+str(testing_padded.shape))"
      ],
      "metadata": {
        "colab": {
          "base_uri": "https://localhost:8080/"
        },
        "id": "AJ1gtpUofB-2",
        "outputId": "2570dabd-d911-4cdc-aff8-d37f0c0de361"
      },
      "execution_count": null,
      "outputs": [
        {
          "output_type": "stream",
          "name": "stdout",
          "text": [
            "Padded shape(training): (5321, 150)\n",
            "Padded shape(testing): (1331, 150)\n"
          ]
        }
      ]
    },
    {
      "cell_type": "code",
      "source": [
        "import tensorflow as tf\n",
        "from tensorflow.keras.models import Sequential\n",
        "from tensorflow.keras.layers import Embedding, Conv1D, LSTM, Dropout, Dense, Bidirectional, Flatten\n",
        "from tensorflow.keras import regularizers\n",
        "from tensorflow.keras.optimizers import Adam"
      ],
      "metadata": {
        "id": "udffXaHDfKx-"
      },
      "execution_count": null,
      "outputs": []
    },
    {
      "cell_type": "code",
      "source": [
        "with tf.device('/gpu:0'):\n",
        "    model = Sequential()\n",
        "    model.add(Embedding(vocab_size, embedding_dim, input_length=max_length))\n",
        "    model.add(Conv1D(128, kernel_size=3, activation=\"relu\"))\n",
        "    model.add(Bidirectional(LSTM(128, return_sequences=True)))\n",
        "    model.add(Dropout(0.2))\n",
        "    model.add(Bidirectional(LSTM(128)))\n",
        "    model.add(Dense(64, activation='relu'))\n",
        "    model.add(Dense(32, activation='relu'))\n",
        "    model.add(Flatten())\n",
        "    model.add(Dense(100, kernel_regularizer=regularizers.l2(0.01), activation=\"relu\"))\n",
        "    model.add(Dropout(0.2))\n",
        "    model.add(Dense(2, activation='sigmoid'))\n",
        "    adam = Adam(learning_rate=0.0001, beta_1=0.9, beta_2=0.999, epsilon=1e-07, amsgrad=False)\n",
        "    model.summary()\n",
        "    model.compile(loss='binary_crossentropy', optimizer=adam, metrics=['accuracy'])\n",
        "\n"
      ],
      "metadata": {
        "colab": {
          "base_uri": "https://localhost:8080/"
        },
        "id": "yOMXIEjQfOTJ",
        "outputId": "bc339b35-ffba-4f6c-f58b-e2258d30c863"
      },
      "execution_count": null,
      "outputs": [
        {
          "output_type": "stream",
          "name": "stdout",
          "text": [
            "Model: \"sequential\"\n",
            "_________________________________________________________________\n",
            " Layer (type)                Output Shape              Param #   \n",
            "=================================================================\n",
            " embedding (Embedding)       (None, 150, 300)          6000000   \n",
            "                                                                 \n",
            " conv1d (Conv1D)             (None, 148, 128)          115328    \n",
            "                                                                 \n",
            " bidirectional (Bidirection  (None, 148, 256)          263168    \n",
            " al)                                                             \n",
            "                                                                 \n",
            " dropout (Dropout)           (None, 148, 256)          0         \n",
            "                                                                 \n",
            " bidirectional_1 (Bidirecti  (None, 256)               394240    \n",
            " onal)                                                           \n",
            "                                                                 \n",
            " dense (Dense)               (None, 64)                16448     \n",
            "                                                                 \n",
            " dense_1 (Dense)             (None, 32)                2080      \n",
            "                                                                 \n",
            " flatten (Flatten)           (None, 32)                0         \n",
            "                                                                 \n",
            " dense_2 (Dense)             (None, 100)               3300      \n",
            "                                                                 \n",
            " dropout_1 (Dropout)         (None, 100)               0         \n",
            "                                                                 \n",
            " dense_3 (Dense)             (None, 2)                 202       \n",
            "                                                                 \n",
            "=================================================================\n",
            "Total params: 6794766 (25.92 MB)\n",
            "Trainable params: 6794766 (25.92 MB)\n",
            "Non-trainable params: 0 (0.00 Byte)\n",
            "_________________________________________________________________\n"
          ]
        }
      ]
    },
    {
      "cell_type": "markdown",
      "source": [
        "### **MODEL 2**"
      ],
      "metadata": {
        "id": "5BKs5i6gqqGN"
      }
    },
    {
      "cell_type": "code",
      "source": [
        "from tensorflow.keras.layers import Embedding, Conv1D, Bidirectional, LSTM, Dropout, Dense, Flatten, BatchNormalization\n",
        "\n",
        "# Define your model\n",
        "with tf.device('/gpu:0'):\n",
        "    model = Sequential()\n",
        "\n",
        "    # Embedding Layer\n",
        "    #embedding_matrix = load_pretrained_embeddings()  # Implement a function to load pre-trained embeddings\n",
        "    model.add(Embedding(vocab_size, embedding_dim, input_length=max_length, trainable=False))\n",
        "\n",
        "    # Convolutional Layers\n",
        "    model.add(Conv1D(128, kernel_size=3, activation=\"relu\"))\n",
        "    model.add(Conv1D(128, kernel_size=5, activation=\"relu\"))\n",
        "\n",
        "    # LSTM Layers\n",
        "    model.add(Bidirectional(LSTM(256, return_sequences=True)))\n",
        "    model.add(Dropout(0.5))\n",
        "    model.add(Bidirectional(LSTM(256)))\n",
        "\n",
        "    # Dense Layers with Regularization\n",
        "    model.add(Dense(64, activation='relu'))\n",
        "    model.add(Dense(32, activation='relu'))\n",
        "    model.add(Dropout(0.5))\n",
        "    model.add(Dense(100, kernel_regularizer=regularizers.l2(0.001), activation=\"relu\"))\n",
        "\n",
        "    # Batch Normalization\n",
        "    model.add(BatchNormalization())\n",
        "\n",
        "    # Output Layer\n",
        "    model.add(Dense(2, activation='sigmoid'))\n",
        "\n",
        "    # Adam Optimizer\n",
        "    adam = Adam(learning_rate=0.001, beta_1=0.9, beta_2=0.999, epsilon=1e-07, amsgrad=False)\n",
        "\n",
        "    # Model Summary\n",
        "    model.summary()\n",
        "\n",
        "    # Compile the model\n",
        "    model.compile(loss='binary_crossentropy', optimizer=adam, metrics=['accuracy'])\n"
      ],
      "metadata": {
        "colab": {
          "base_uri": "https://localhost:8080/"
        },
        "id": "tYqzl5atqpwc",
        "outputId": "43d3d66e-1648-4709-8354-c3ea1633e373"
      },
      "execution_count": null,
      "outputs": [
        {
          "output_type": "stream",
          "name": "stdout",
          "text": [
            "Model: \"sequential_1\"\n",
            "_________________________________________________________________\n",
            " Layer (type)                Output Shape              Param #   \n",
            "=================================================================\n",
            " embedding_1 (Embedding)     (None, 150, 300)          6000000   \n",
            "                                                                 \n",
            " conv1d_1 (Conv1D)           (None, 148, 128)          115328    \n",
            "                                                                 \n",
            " conv1d_2 (Conv1D)           (None, 144, 128)          82048     \n",
            "                                                                 \n",
            " bidirectional_2 (Bidirecti  (None, 144, 512)          788480    \n",
            " onal)                                                           \n",
            "                                                                 \n",
            " dropout_2 (Dropout)         (None, 144, 512)          0         \n",
            "                                                                 \n",
            " bidirectional_3 (Bidirecti  (None, 512)               1574912   \n",
            " onal)                                                           \n",
            "                                                                 \n",
            " dense_4 (Dense)             (None, 64)                32832     \n",
            "                                                                 \n",
            " dense_5 (Dense)             (None, 32)                2080      \n",
            "                                                                 \n",
            " dropout_3 (Dropout)         (None, 32)                0         \n",
            "                                                                 \n",
            " dense_6 (Dense)             (None, 100)               3300      \n",
            "                                                                 \n",
            " batch_normalization (Batch  (None, 100)               400       \n",
            " Normalization)                                                  \n",
            "                                                                 \n",
            " dense_7 (Dense)             (None, 2)                 202       \n",
            "                                                                 \n",
            "=================================================================\n",
            "Total params: 8599582 (32.80 MB)\n",
            "Trainable params: 2599382 (9.92 MB)\n",
            "Non-trainable params: 6000200 (22.89 MB)\n",
            "_________________________________________________________________\n"
          ]
        }
      ]
    },
    {
      "cell_type": "code",
      "source": [
        "history=model.fit(padded,train_labels,epochs=100,batch_size=512,\n",
        "                  validation_data=(testing_padded,test_labels),\n",
        "                  use_multiprocessing=True, workers=8)"
      ],
      "metadata": {
        "colab": {
          "base_uri": "https://localhost:8080/"
        },
        "id": "8JY24wRXfS8Y",
        "outputId": "ea2a0e0f-4caa-432e-d47d-283881af79af"
      },
      "execution_count": null,
      "outputs": [
        {
          "output_type": "stream",
          "name": "stdout",
          "text": [
            "Epoch 1/100\n",
            "11/11 [==============================] - 14s 539ms/step - loss: 0.7373 - accuracy: 0.5264 - val_loss: 0.7320 - val_accuracy: 0.5470\n",
            "Epoch 2/100\n",
            "11/11 [==============================] - 5s 427ms/step - loss: 0.6966 - accuracy: 0.6063 - val_loss: 0.7186 - val_accuracy: 0.5470\n",
            "Epoch 3/100\n",
            "11/11 [==============================] - 5s 431ms/step - loss: 0.6133 - accuracy: 0.6984 - val_loss: 0.7052 - val_accuracy: 0.5470\n",
            "Epoch 4/100\n",
            "11/11 [==============================] - 5s 435ms/step - loss: 0.5202 - accuracy: 0.7765 - val_loss: 0.7047 - val_accuracy: 0.5470\n",
            "Epoch 5/100\n",
            "11/11 [==============================] - 5s 437ms/step - loss: 0.4528 - accuracy: 0.8156 - val_loss: 0.6750 - val_accuracy: 0.5515\n",
            "Epoch 6/100\n",
            "11/11 [==============================] - 5s 442ms/step - loss: 0.3734 - accuracy: 0.8519 - val_loss: 0.6739 - val_accuracy: 0.5635\n",
            "Epoch 7/100\n",
            "11/11 [==============================] - 5s 441ms/step - loss: 0.2487 - accuracy: 0.9214 - val_loss: 0.6344 - val_accuracy: 0.6289\n",
            "Epoch 8/100\n",
            "11/11 [==============================] - 5s 438ms/step - loss: 0.1692 - accuracy: 0.9502 - val_loss: 0.6339 - val_accuracy: 0.6491\n",
            "Epoch 9/100\n",
            "11/11 [==============================] - 5s 436ms/step - loss: 0.1209 - accuracy: 0.9705 - val_loss: 0.6016 - val_accuracy: 0.6912\n",
            "Epoch 10/100\n",
            "11/11 [==============================] - 4s 403ms/step - loss: 0.0854 - accuracy: 0.9840 - val_loss: 0.5803 - val_accuracy: 0.7318\n",
            "Epoch 11/100\n",
            "11/11 [==============================] - 5s 428ms/step - loss: 0.0676 - accuracy: 0.9880 - val_loss: 0.5760 - val_accuracy: 0.7183\n",
            "Epoch 12/100\n",
            "11/11 [==============================] - 5s 429ms/step - loss: 0.0519 - accuracy: 0.9927 - val_loss: 0.5624 - val_accuracy: 0.7528\n",
            "Epoch 13/100\n",
            "11/11 [==============================] - 5s 426ms/step - loss: 0.0515 - accuracy: 0.9912 - val_loss: 0.7507 - val_accuracy: 0.6521\n",
            "Epoch 14/100\n",
            "11/11 [==============================] - 4s 397ms/step - loss: 0.1225 - accuracy: 0.9605 - val_loss: 0.5589 - val_accuracy: 0.7205\n",
            "Epoch 15/100\n",
            "11/11 [==============================] - 5s 429ms/step - loss: 0.0619 - accuracy: 0.9889 - val_loss: 0.5414 - val_accuracy: 0.7453\n",
            "Epoch 16/100\n",
            "11/11 [==============================] - 5s 424ms/step - loss: 0.0457 - accuracy: 0.9915 - val_loss: 0.5971 - val_accuracy: 0.7100\n",
            "Epoch 17/100\n",
            "11/11 [==============================] - 5s 425ms/step - loss: 0.0346 - accuracy: 0.9951 - val_loss: 0.5207 - val_accuracy: 0.7633\n",
            "Epoch 18/100\n",
            "11/11 [==============================] - 4s 400ms/step - loss: 0.0285 - accuracy: 0.9981 - val_loss: 0.5300 - val_accuracy: 0.7648\n",
            "Epoch 19/100\n",
            "11/11 [==============================] - 5s 428ms/step - loss: 0.0224 - accuracy: 0.9991 - val_loss: 0.5139 - val_accuracy: 0.7686\n",
            "Epoch 20/100\n",
            "11/11 [==============================] - 4s 401ms/step - loss: 0.0222 - accuracy: 0.9991 - val_loss: 0.5735 - val_accuracy: 0.7461\n",
            "Epoch 21/100\n",
            "11/11 [==============================] - 4s 404ms/step - loss: 0.0211 - accuracy: 0.9989 - val_loss: 0.6361 - val_accuracy: 0.7318\n",
            "Epoch 22/100\n",
            "11/11 [==============================] - 5s 430ms/step - loss: 0.0192 - accuracy: 0.9994 - val_loss: 0.6256 - val_accuracy: 0.7333\n",
            "Epoch 23/100\n",
            "11/11 [==============================] - 5s 431ms/step - loss: 0.0224 - accuracy: 0.9970 - val_loss: 0.6415 - val_accuracy: 0.7348\n",
            "Epoch 24/100\n",
            "11/11 [==============================] - 5s 436ms/step - loss: 0.0293 - accuracy: 0.9961 - val_loss: 0.6498 - val_accuracy: 0.7348\n",
            "Epoch 25/100\n",
            "11/11 [==============================] - 4s 402ms/step - loss: 0.0420 - accuracy: 0.9893 - val_loss: 0.7117 - val_accuracy: 0.6950\n",
            "Epoch 26/100\n",
            "11/11 [==============================] - 5s 431ms/step - loss: 0.0505 - accuracy: 0.9876 - val_loss: 0.5596 - val_accuracy: 0.7431\n",
            "Epoch 27/100\n",
            "11/11 [==============================] - 5s 434ms/step - loss: 0.0284 - accuracy: 0.9964 - val_loss: 0.6653 - val_accuracy: 0.7491\n",
            "Epoch 28/100\n",
            "11/11 [==============================] - 4s 402ms/step - loss: 0.0185 - accuracy: 0.9991 - val_loss: 0.7224 - val_accuracy: 0.7378\n",
            "Epoch 29/100\n",
            "11/11 [==============================] - 5s 428ms/step - loss: 0.0138 - accuracy: 0.9996 - val_loss: 0.8953 - val_accuracy: 0.7288\n",
            "Epoch 30/100\n",
            "11/11 [==============================] - 5s 432ms/step - loss: 0.0124 - accuracy: 0.9994 - val_loss: 0.9243 - val_accuracy: 0.7318\n",
            "Epoch 31/100\n",
            "11/11 [==============================] - 4s 401ms/step - loss: 0.0132 - accuracy: 0.9989 - val_loss: 0.9141 - val_accuracy: 0.7340\n",
            "Epoch 32/100\n",
            "11/11 [==============================] - 5s 428ms/step - loss: 0.0131 - accuracy: 0.9989 - val_loss: 0.8302 - val_accuracy: 0.7483\n",
            "Epoch 33/100\n",
            "11/11 [==============================] - 5s 430ms/step - loss: 0.0346 - accuracy: 0.9906 - val_loss: 0.8368 - val_accuracy: 0.7325\n",
            "Epoch 34/100\n",
            "11/11 [==============================] - 4s 400ms/step - loss: 0.0236 - accuracy: 0.9957 - val_loss: 0.9181 - val_accuracy: 0.7273\n",
            "Epoch 35/100\n",
            "11/11 [==============================] - 5s 428ms/step - loss: 0.0159 - accuracy: 0.9979 - val_loss: 0.8159 - val_accuracy: 0.7408\n",
            "Epoch 36/100\n",
            "11/11 [==============================] - 4s 403ms/step - loss: 0.0107 - accuracy: 0.9994 - val_loss: 0.7592 - val_accuracy: 0.7648\n",
            "Epoch 37/100\n",
            "11/11 [==============================] - 5s 429ms/step - loss: 0.0084 - accuracy: 1.0000 - val_loss: 0.7627 - val_accuracy: 0.7739\n",
            "Epoch 38/100\n",
            "11/11 [==============================] - 5s 428ms/step - loss: 0.0077 - accuracy: 1.0000 - val_loss: 0.8227 - val_accuracy: 0.7724\n",
            "Epoch 39/100\n",
            "11/11 [==============================] - 5s 430ms/step - loss: 0.0073 - accuracy: 1.0000 - val_loss: 0.8806 - val_accuracy: 0.7656\n",
            "Epoch 40/100\n",
            "11/11 [==============================] - 4s 401ms/step - loss: 0.0071 - accuracy: 0.9998 - val_loss: 0.8842 - val_accuracy: 0.7716\n",
            "Epoch 41/100\n",
            "11/11 [==============================] - 5s 427ms/step - loss: 0.0066 - accuracy: 0.9998 - val_loss: 0.9232 - val_accuracy: 0.7724\n",
            "Epoch 42/100\n",
            "11/11 [==============================] - 5s 432ms/step - loss: 0.0060 - accuracy: 1.0000 - val_loss: 0.9547 - val_accuracy: 0.7716\n",
            "Epoch 43/100\n",
            "11/11 [==============================] - 5s 430ms/step - loss: 0.0060 - accuracy: 1.0000 - val_loss: 1.0036 - val_accuracy: 0.7739\n",
            "Epoch 44/100\n",
            "11/11 [==============================] - 4s 401ms/step - loss: 0.0055 - accuracy: 1.0000 - val_loss: 1.0540 - val_accuracy: 0.7776\n",
            "Epoch 45/100\n",
            "11/11 [==============================] - 5s 432ms/step - loss: 0.0052 - accuracy: 1.0000 - val_loss: 1.0771 - val_accuracy: 0.7731\n",
            "Epoch 46/100\n",
            "11/11 [==============================] - 4s 401ms/step - loss: 0.0049 - accuracy: 1.0000 - val_loss: 1.1012 - val_accuracy: 0.7731\n",
            "Epoch 47/100\n",
            "11/11 [==============================] - 4s 401ms/step - loss: 0.0046 - accuracy: 1.0000 - val_loss: 1.1199 - val_accuracy: 0.7739\n",
            "Epoch 48/100\n",
            "11/11 [==============================] - 4s 403ms/step - loss: 0.0043 - accuracy: 1.0000 - val_loss: 1.1272 - val_accuracy: 0.7754\n",
            "Epoch 49/100\n",
            "11/11 [==============================] - 5s 429ms/step - loss: 0.0043 - accuracy: 1.0000 - val_loss: 1.1552 - val_accuracy: 0.7731\n",
            "Epoch 50/100\n",
            "11/11 [==============================] - 4s 401ms/step - loss: 0.0047 - accuracy: 0.9998 - val_loss: 1.3225 - val_accuracy: 0.7769\n",
            "Epoch 51/100\n",
            "11/11 [==============================] - 5s 431ms/step - loss: 0.0041 - accuracy: 1.0000 - val_loss: 1.4452 - val_accuracy: 0.7724\n",
            "Epoch 52/100\n",
            "11/11 [==============================] - 5s 429ms/step - loss: 0.0039 - accuracy: 1.0000 - val_loss: 1.3257 - val_accuracy: 0.7761\n",
            "Epoch 53/100\n",
            "11/11 [==============================] - 5s 428ms/step - loss: 0.0036 - accuracy: 1.0000 - val_loss: 1.3224 - val_accuracy: 0.7739\n",
            "Epoch 54/100\n",
            "11/11 [==============================] - 5s 430ms/step - loss: 0.0034 - accuracy: 1.0000 - val_loss: 1.3290 - val_accuracy: 0.7708\n",
            "Epoch 55/100\n",
            "11/11 [==============================] - 5s 428ms/step - loss: 0.0032 - accuracy: 1.0000 - val_loss: 1.3417 - val_accuracy: 0.7791\n",
            "Epoch 56/100\n",
            "11/11 [==============================] - 5s 428ms/step - loss: 0.0031 - accuracy: 1.0000 - val_loss: 1.3594 - val_accuracy: 0.7799\n",
            "Epoch 57/100\n",
            "11/11 [==============================] - 5s 430ms/step - loss: 0.0030 - accuracy: 1.0000 - val_loss: 1.4241 - val_accuracy: 0.7769\n",
            "Epoch 58/100\n",
            "11/11 [==============================] - 4s 401ms/step - loss: 0.0028 - accuracy: 1.0000 - val_loss: 1.4180 - val_accuracy: 0.7769\n",
            "Epoch 59/100\n",
            "11/11 [==============================] - 4s 400ms/step - loss: 0.0027 - accuracy: 1.0000 - val_loss: 1.4682 - val_accuracy: 0.7761\n",
            "Epoch 60/100\n",
            "11/11 [==============================] - 5s 429ms/step - loss: 0.0025 - accuracy: 1.0000 - val_loss: 1.5025 - val_accuracy: 0.7769\n",
            "Epoch 61/100\n",
            "11/11 [==============================] - 5s 428ms/step - loss: 0.0026 - accuracy: 1.0000 - val_loss: 1.5294 - val_accuracy: 0.7776\n",
            "Epoch 62/100\n",
            "11/11 [==============================] - 4s 399ms/step - loss: 0.0023 - accuracy: 1.0000 - val_loss: 1.5746 - val_accuracy: 0.7731\n",
            "Epoch 63/100\n",
            "11/11 [==============================] - 4s 401ms/step - loss: 0.0022 - accuracy: 1.0000 - val_loss: 1.5936 - val_accuracy: 0.7746\n",
            "Epoch 64/100\n",
            "11/11 [==============================] - 5s 428ms/step - loss: 0.0022 - accuracy: 1.0000 - val_loss: 1.6079 - val_accuracy: 0.7746\n",
            "Epoch 65/100\n",
            "11/11 [==============================] - 4s 400ms/step - loss: 0.0025 - accuracy: 0.9998 - val_loss: 1.7094 - val_accuracy: 0.7724\n",
            "Epoch 66/100\n",
            "11/11 [==============================] - 5s 428ms/step - loss: 0.0020 - accuracy: 1.0000 - val_loss: 1.7500 - val_accuracy: 0.7739\n",
            "Epoch 67/100\n",
            "11/11 [==============================] - 5s 428ms/step - loss: 0.0018 - accuracy: 1.0000 - val_loss: 1.5594 - val_accuracy: 0.7814\n",
            "Epoch 68/100\n",
            "11/11 [==============================] - 4s 401ms/step - loss: 0.0027 - accuracy: 0.9996 - val_loss: 1.6291 - val_accuracy: 0.7776\n",
            "Epoch 69/100\n",
            "11/11 [==============================] - 4s 402ms/step - loss: 0.0076 - accuracy: 0.9985 - val_loss: 1.9037 - val_accuracy: 0.7258\n",
            "Epoch 70/100\n",
            "11/11 [==============================] - 5s 429ms/step - loss: 0.0156 - accuracy: 0.9962 - val_loss: 1.3832 - val_accuracy: 0.7566\n",
            "Epoch 71/100\n",
            "11/11 [==============================] - 5s 428ms/step - loss: 0.0208 - accuracy: 0.9938 - val_loss: 1.4826 - val_accuracy: 0.7423\n",
            "Epoch 72/100\n",
            "11/11 [==============================] - 4s 404ms/step - loss: 0.0172 - accuracy: 0.9955 - val_loss: 1.7922 - val_accuracy: 0.7355\n",
            "Epoch 73/100\n",
            "11/11 [==============================] - 4s 402ms/step - loss: 0.0073 - accuracy: 0.9985 - val_loss: 2.2985 - val_accuracy: 0.7183\n",
            "Epoch 74/100\n",
            "11/11 [==============================] - 5s 429ms/step - loss: 0.0167 - accuracy: 0.9957 - val_loss: 2.7710 - val_accuracy: 0.7032\n",
            "Epoch 75/100\n",
            "11/11 [==============================] - 5s 430ms/step - loss: 0.0786 - accuracy: 0.9788 - val_loss: 1.3327 - val_accuracy: 0.7273\n",
            "Epoch 76/100\n",
            "11/11 [==============================] - 5s 428ms/step - loss: 0.0470 - accuracy: 0.9833 - val_loss: 1.4259 - val_accuracy: 0.7348\n",
            "Epoch 77/100\n",
            "11/11 [==============================] - 4s 402ms/step - loss: 0.0186 - accuracy: 0.9949 - val_loss: 1.5739 - val_accuracy: 0.7618\n",
            "Epoch 78/100\n",
            "11/11 [==============================] - 4s 401ms/step - loss: 0.0203 - accuracy: 0.9934 - val_loss: 2.3520 - val_accuracy: 0.7047\n",
            "Epoch 79/100\n",
            "11/11 [==============================] - 5s 429ms/step - loss: 0.0233 - accuracy: 0.9934 - val_loss: 1.8420 - val_accuracy: 0.7476\n",
            "Epoch 80/100\n",
            "11/11 [==============================] - 4s 402ms/step - loss: 0.0091 - accuracy: 0.9979 - val_loss: 1.9588 - val_accuracy: 0.7318\n",
            "Epoch 81/100\n",
            "11/11 [==============================] - 5s 431ms/step - loss: 0.0042 - accuracy: 0.9998 - val_loss: 1.8580 - val_accuracy: 0.7400\n",
            "Epoch 82/100\n",
            "11/11 [==============================] - 5s 427ms/step - loss: 0.0033 - accuracy: 0.9996 - val_loss: 1.8717 - val_accuracy: 0.7551\n",
            "Epoch 83/100\n",
            "11/11 [==============================] - 4s 401ms/step - loss: 0.0029 - accuracy: 0.9996 - val_loss: 1.8736 - val_accuracy: 0.7408\n",
            "Epoch 84/100\n",
            "11/11 [==============================] - 4s 402ms/step - loss: 0.0034 - accuracy: 0.9994 - val_loss: 1.9679 - val_accuracy: 0.7438\n",
            "Epoch 85/100\n",
            "11/11 [==============================] - 5s 429ms/step - loss: 0.0067 - accuracy: 0.9983 - val_loss: 1.6365 - val_accuracy: 0.7596\n",
            "Epoch 86/100\n",
            "11/11 [==============================] - 5s 427ms/step - loss: 0.0044 - accuracy: 0.9992 - val_loss: 1.7898 - val_accuracy: 0.7348\n",
            "Epoch 87/100\n",
            "11/11 [==============================] - 5s 430ms/step - loss: 0.0036 - accuracy: 0.9994 - val_loss: 2.0221 - val_accuracy: 0.7370\n",
            "Epoch 88/100\n",
            "11/11 [==============================] - 4s 400ms/step - loss: 0.0025 - accuracy: 0.9998 - val_loss: 2.0397 - val_accuracy: 0.7453\n",
            "Epoch 89/100\n",
            "11/11 [==============================] - 4s 402ms/step - loss: 0.0029 - accuracy: 0.9998 - val_loss: 1.9546 - val_accuracy: 0.7355\n",
            "Epoch 90/100\n",
            "11/11 [==============================] - 4s 403ms/step - loss: 0.0026 - accuracy: 0.9994 - val_loss: 1.7740 - val_accuracy: 0.7581\n",
            "Epoch 91/100\n",
            "11/11 [==============================] - 5s 430ms/step - loss: 0.0021 - accuracy: 0.9998 - val_loss: 1.7749 - val_accuracy: 0.7611\n",
            "Epoch 92/100\n",
            "11/11 [==============================] - 5s 429ms/step - loss: 0.0014 - accuracy: 1.0000 - val_loss: 1.8239 - val_accuracy: 0.7415\n",
            "Epoch 93/100\n",
            "11/11 [==============================] - 4s 402ms/step - loss: 0.0015 - accuracy: 1.0000 - val_loss: 1.8826 - val_accuracy: 0.7453\n",
            "Epoch 94/100\n",
            "11/11 [==============================] - 4s 400ms/step - loss: 0.0016 - accuracy: 0.9998 - val_loss: 1.9662 - val_accuracy: 0.7498\n",
            "Epoch 95/100\n",
            "11/11 [==============================] - 4s 401ms/step - loss: 0.0013 - accuracy: 1.0000 - val_loss: 1.8873 - val_accuracy: 0.7513\n",
            "Epoch 96/100\n",
            "11/11 [==============================] - 4s 403ms/step - loss: 0.0013 - accuracy: 1.0000 - val_loss: 1.8077 - val_accuracy: 0.7513\n",
            "Epoch 97/100\n",
            "11/11 [==============================] - 4s 401ms/step - loss: 0.0011 - accuracy: 1.0000 - val_loss: 1.7765 - val_accuracy: 0.7528\n",
            "Epoch 98/100\n",
            "11/11 [==============================] - 4s 402ms/step - loss: 0.0012 - accuracy: 1.0000 - val_loss: 1.7947 - val_accuracy: 0.7543\n",
            "Epoch 99/100\n",
            "11/11 [==============================] - 4s 405ms/step - loss: 9.7026e-04 - accuracy: 1.0000 - val_loss: 1.7776 - val_accuracy: 0.7573\n",
            "Epoch 100/100\n",
            "11/11 [==============================] - 5s 428ms/step - loss: 9.8561e-04 - accuracy: 1.0000 - val_loss: 1.7441 - val_accuracy: 0.7618\n"
          ]
        }
      ]
    },
    {
      "cell_type": "code",
      "source": [
        "import matplotlib.pyplot as plt"
      ],
      "metadata": {
        "id": "zAXW3tqNhc70"
      },
      "execution_count": null,
      "outputs": []
    },
    {
      "cell_type": "code",
      "source": [
        "print(history.history.keys())\n",
        "loss = history.history['loss']\n",
        "val_loss = history.history['val_loss']\n",
        "plt.plot(loss)\n",
        "plt.plot(val_loss)\n",
        "plt.title('model loss')\n",
        "plt.ylabel('loss')\n",
        "plt.xlabel('epoch')\n",
        "plt.legend(['loss', 'val_loss'])\n",
        "plt.show()\n",
        "\n",
        "accuracy = history.history['accuracy']\n",
        "val_accuracy= history.history['val_accuracy']\n",
        "plt.plot(accuracy)\n",
        "plt.plot(val_accuracy)\n",
        "plt.title('model accuracy')\n",
        "plt.ylabel('accuracy')\n",
        "plt.xlabel('epoch')\n",
        "plt.legend(['accuracy', 'val_accuracy'])\n",
        "plt.show()"
      ],
      "metadata": {
        "colab": {
          "base_uri": "https://localhost:8080/",
          "height": 944
        },
        "id": "DH3honh7hgDE",
        "outputId": "90f1288c-4fae-4003-fd58-0a6c79240c5c"
      },
      "execution_count": null,
      "outputs": [
        {
          "output_type": "stream",
          "name": "stdout",
          "text": [
            "dict_keys(['loss', 'accuracy', 'val_loss', 'val_accuracy'])\n"
          ]
        },
        {
          "output_type": "display_data",
          "data": {
            "text/plain": [
              "<Figure size 640x480 with 1 Axes>"
            ],
            "image/png": "[encoded data removed]"
          },
          "metadata": {}
        },
        {
          "output_type": "display_data",
          "data": {
            "text/plain": [
              "<Figure size 640x480 with 1 Axes>"
            ],
            "image/png": "[encoded data removed]"
          },
          "metadata": {}
        }
      ]
    },
    {
      "cell_type": "code",
      "source": [
        "model.save_weights('model_weights_sentiment_82%.h5')"
      ],
      "metadata": {
        "id": "qnoX1KZyhibL"
      },
      "execution_count": null,
      "outputs": []
    },
    {
      "cell_type": "code",
      "source": [],
      "metadata": {
        "id": "jCQIyFTTpKBX"
      },
      "execution_count": null,
      "outputs": []
    },
    {
      "cell_type": "code",
      "source": [
        "twt = [input()]\n",
        "#twt\n",
        "#vectorizing the tweet by the pre-fitted tokenizer instance\n",
        "twt = tokenizer.texts_to_sequences(twt)\n",
        "#padding the tweet to have exactly the same shape as `embedding_2` input\n",
        "twt = pad_sequences(twt, maxlen=200, dtype='int32', value=0)\n",
        "#print(twt)\n",
        "\n",
        "sentiment = model.predict(twt,batch_size=1,verbose = 2)[0]\n",
        "if(np.argmax(sentiment) == 0):\n",
        "    print(\"negative\")\n",
        "elif (np.argmax(sentiment) == 1):\n",
        "    print(\"positive\")"
      ],
      "metadata": {
        "colab": {
          "base_uri": "https://localhost:8080/"
        },
        "id": "Qpzg7pnRiRkO",
        "outputId": "f5c28bbc-f1b6-48a8-8b63-04568e5443e4"
      },
      "execution_count": null,
      "outputs": [
        {
          "output_type": "stream",
          "name": "stdout",
          "text": [
            "৩ মিনিটের ‘ডাঙ্কি’ ড্রপ: অ্যাকশনের ভিড়ে আবেগের গল্প (ভিডিও)\n",
            "1/1 - 0s - 22ms/epoch - 22ms/step\n",
            "positive\n"
          ]
        }
      ]
    }
  ]
}