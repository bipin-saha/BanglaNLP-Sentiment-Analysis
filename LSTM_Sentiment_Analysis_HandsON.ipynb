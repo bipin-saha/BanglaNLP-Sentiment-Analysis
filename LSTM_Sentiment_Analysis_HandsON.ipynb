{
  "nbformat": 4,
  "nbformat_minor": 0,
  "metadata": {
    "colab": {
      "provenance": [],
      "gpuType": "T4"
    },
    "kernelspec": {
      "name": "python3",
      "display_name": "Python 3"
    },
    "language_info": {
      "name": "python"
    },
    "accelerator": "GPU"
  },
  "cells": [
    {
      "cell_type": "code",
      "execution_count": null,
      "metadata": {
        "colab": {
          "base_uri": "https://localhost:8080/"
        },
        "id": "ub7wUDqb9QXe",
        "outputId": "7fbfb04e-8862-4795-e76a-e7ef244c1f8d"
      },
      "outputs": [
        {
          "output_type": "stream",
          "name": "stdout",
          "text": [
            "Cloning into 'Bangla-Sentiment-Analysis'...\n",
            "remote: Enumerating objects: 14, done.\u001b[K\n",
            "remote: Counting objects: 100% (14/14), done.\u001b[K\n",
            "remote: Compressing objects: 100% (12/12), done.\u001b[K\n",
            "remote: Total 14 (delta 1), reused 0 (delta 0), pack-reused 0\u001b[K\n",
            "Receiving objects: 100% (14/14), 2.44 MiB | 4.52 MiB/s, done.\n",
            "Resolving deltas: 100% (1/1), done.\n"
          ]
        }
      ],
      "source": [
        "!git clone https://github.com/mahedishato/Bangla-Sentiment-Analysis.git"
      ]
    },
    {
      "cell_type": "code",
      "source": [
        "import pandas as pd, numpy as np, plotly.express as px, seaborn as sns, re\n",
        "from sklearn.model_selection import train_test_split\n",
        "import keras"
      ],
      "metadata": {
        "id": "bys8cHbddvz_"
      },
      "execution_count": 1,
      "outputs": []
    },
    {
      "cell_type": "code",
      "source": [
        "from keras.preprocessing.text import Tokenizer"
      ],
      "metadata": {
        "id": "4wEqzb6_dxbE"
      },
      "execution_count": 2,
      "outputs": []
    },
    {
      "cell_type": "code",
      "source": [
        "def text_to_word_list(text):\n",
        "    text = text.split()\n",
        "    return text\n",
        "\n",
        "def replace_strings(text):\n",
        "    emoji_pattern = re.compile(\"[\"\n",
        "                           u\"\\U0001F600-\\U0001F64F\"  # emoticons\n",
        "                           u\"\\U0001F300-\\U0001F5FF\"  # symbols & pictographs\n",
        "                           u\"\\U0001F680-\\U0001F6FF\"  # transport & map symbols\n",
        "                           u\"\\U0001F1E0-\\U0001F1FF\"  # flags (iOS)\n",
        "                           u\"\\U00002702-\\U000027B0\"\n",
        "                           u\"\\U000024C2-\\U0001F251\"\n",
        "                           u\"\\u00C0-\\u017F\"          #latin\n",
        "                           u\"\\u2000-\\u206F\"          #generalPunctuations\n",
        "\n",
        "                           \"]+\", flags=re.UNICODE)\n",
        "    english_pattern=re.compile('[a-zA-Z0-9]+', flags=re.I)\n",
        "    #latin_pattern=re.compile('[A-Za-z\\u00C0-\\u00D6\\u00D8-\\u00f6\\u00f8-\\u00ff\\s]*',)\n",
        "\n",
        "    text=emoji_pattern.sub(r'', text)\n",
        "    text=english_pattern.sub(r'', text)\n",
        "\n",
        "    return text\n",
        "\n",
        "def remove_punctuations(my_str):\n",
        "    # define punctuation\n",
        "    punctuations = '''````£|¢|Ñ+-*/=EROero৳০১২৩৪৫৬৭৮৯012–34567•89।!()-[]{};:'\"“\\’,<>./?@#$%^&*_~‘—॥”‰⚽️✌�￰৷￰'''\n",
        "\n",
        "    no_punct = \"\"\n",
        "    for char in my_str:\n",
        "        if char not in punctuations:\n",
        "            no_punct = no_punct + char\n",
        "\n",
        "    # display the unpunctuated string\n",
        "    return no_punct\n",
        "\n",
        "\n",
        "\n",
        "def joining(text):\n",
        "    out=' '.join(text)\n",
        "    return out\n",
        "\n",
        "def preprocessing(text):\n",
        "    out=remove_punctuations(replace_strings(text))\n",
        "    return out"
      ],
      "metadata": {
        "id": "QIuINUHBd5g1"
      },
      "execution_count": 3,
      "outputs": []
    },
    {
      "cell_type": "code",
      "source": [
        "df = pd.read_csv('/content/file16k.csv')\n",
        "display(df)"
      ],
      "metadata": {
        "colab": {
          "base_uri": "https://localhost:8080/",
          "height": 423
        },
        "id": "imqV_UPJeDRq",
        "outputId": "c69482b9-2247-418f-e67b-7400c50a631d"
      },
      "execution_count": 4,
      "outputs": [
        {
          "output_type": "display_data",
          "data": {
            "text/plain": [
              "       Unnamed: 0.1  Unnamed: 0  Unnamed: 1  Unnamed: 2  \\\n",
              "0                 0         0.0         NaN         NaN   \n",
              "1                 1         1.0         NaN         NaN   \n",
              "2                 2         2.0         NaN         NaN   \n",
              "3                 3         3.0         NaN         NaN   \n",
              "4                 4         4.0         NaN         NaN   \n",
              "...             ...         ...         ...         ...   \n",
              "16107          9455         NaN         NaN         NaN   \n",
              "16108          9456         NaN         NaN         NaN   \n",
              "16109          9457         NaN         NaN         NaN   \n",
              "16110          9458         NaN         NaN         NaN   \n",
              "16111          9459         NaN         NaN         NaN   \n",
              "\n",
              "                                                sentence  sentiment  \n",
              "0                                ওয়ও আমি গর্বিত বাঙ্গালি          1  \n",
              "1      বাংলাদেশ এর কিছু মানুষ নিজে কিছু করতে পারবেনা ...          0  \n",
              "2                                     রামোসের ঘুম আসে না          0  \n",
              "3                      কোহলির প্রতি শ্রদ্ধা হারিয়ে ফেলছি          1  \n",
              "4      থ্যাঙ্ক ইউ মাছরাঙ্গা টেলিভিশনকিন্তু ছাপোষা আন্...          0  \n",
              "...                                                  ...        ...  \n",
              "16107                      পাশ্চাত্য যুগে পুরোনো নাম ছিঃ          0  \n",
              "16108                     মধ্যযুগীয় যুগে পুরোনো নাম ছিঃ          0  \n",
              "16109                        প্রাচীন যুগে পুরোনো নাম ছিঃ          0  \n",
              "16110                        রেনেসাঁ যুগে পুরোনো নাম ছিঃ          0  \n",
              "16111                       ঐতিহ্যগত যুগে পুরোনো নাম ছিঃ          0  \n",
              "\n",
              "[16112 rows x 6 columns]"
            ],
            "text/html": [
              "\n",
              "  <div id=\"df-fd37fd15-fdca-4faf-b16c-70f846b11ba6\" class=\"colab-df-container\">\n",
              "    <div>\n",
              "<style scoped>\n",
              "    .dataframe tbody tr th:only-of-type {\n",
              "        vertical-align: middle;\n",
              "    }\n",
              "\n",
              "    .dataframe tbody tr th {\n",
              "        vertical-align: top;\n",
              "    }\n",
              "\n",
              "    .dataframe thead th {\n",
              "        text-align: right;\n",
              "    }\n",
              "</style>\n",
              "<table border=\"1\" class=\"dataframe\">\n",
              "  <thead>\n",
              "    <tr style=\"text-align: right;\">\n",
              "      <th></th>\n",
              "      <th>Unnamed: 0.1</th>\n",
              "      <th>Unnamed: 0</th>\n",
              "      <th>Unnamed: 1</th>\n",
              "      <th>Unnamed: 2</th>\n",
              "      <th>sentence</th>\n",
              "      <th>sentiment</th>\n",
              "    </tr>\n",
              "  </thead>\n",
              "  <tbody>\n",
              "    <tr>\n",
              "      <th>0</th>\n",
              "      <td>0</td>\n",
              "      <td>0.0</td>\n",
              "      <td>NaN</td>\n",
              "      <td>NaN</td>\n",
              "      <td>ওয়ও আমি গর্বিত বাঙ্গালি</td>\n",
              "      <td>1</td>\n",
              "    </tr>\n",
              "    <tr>\n",
              "      <th>1</th>\n",
              "      <td>1</td>\n",
              "      <td>1.0</td>\n",
              "      <td>NaN</td>\n",
              "      <td>NaN</td>\n",
              "      <td>বাংলাদেশ এর কিছু মানুষ নিজে কিছু করতে পারবেনা ...</td>\n",
              "      <td>0</td>\n",
              "    </tr>\n",
              "    <tr>\n",
              "      <th>2</th>\n",
              "      <td>2</td>\n",
              "      <td>2.0</td>\n",
              "      <td>NaN</td>\n",
              "      <td>NaN</td>\n",
              "      <td>রামোসের ঘুম আসে না</td>\n",
              "      <td>0</td>\n",
              "    </tr>\n",
              "    <tr>\n",
              "      <th>3</th>\n",
              "      <td>3</td>\n",
              "      <td>3.0</td>\n",
              "      <td>NaN</td>\n",
              "      <td>NaN</td>\n",
              "      <td>কোহলির প্রতি শ্রদ্ধা হারিয়ে ফেলছি</td>\n",
              "      <td>1</td>\n",
              "    </tr>\n",
              "    <tr>\n",
              "      <th>4</th>\n",
              "      <td>4</td>\n",
              "      <td>4.0</td>\n",
              "      <td>NaN</td>\n",
              "      <td>NaN</td>\n",
              "      <td>থ্যাঙ্ক ইউ মাছরাঙ্গা টেলিভিশনকিন্তু ছাপোষা আন্...</td>\n",
              "      <td>0</td>\n",
              "    </tr>\n",
              "    <tr>\n",
              "      <th>...</th>\n",
              "      <td>...</td>\n",
              "      <td>...</td>\n",
              "      <td>...</td>\n",
              "      <td>...</td>\n",
              "      <td>...</td>\n",
              "      <td>...</td>\n",
              "    </tr>\n",
              "    <tr>\n",
              "      <th>16107</th>\n",
              "      <td>9455</td>\n",
              "      <td>NaN</td>\n",
              "      <td>NaN</td>\n",
              "      <td>NaN</td>\n",
              "      <td>পাশ্চাত্য যুগে পুরোনো নাম ছিঃ</td>\n",
              "      <td>0</td>\n",
              "    </tr>\n",
              "    <tr>\n",
              "      <th>16108</th>\n",
              "      <td>9456</td>\n",
              "      <td>NaN</td>\n",
              "      <td>NaN</td>\n",
              "      <td>NaN</td>\n",
              "      <td>মধ্যযুগীয় যুগে পুরোনো নাম ছিঃ</td>\n",
              "      <td>0</td>\n",
              "    </tr>\n",
              "    <tr>\n",
              "      <th>16109</th>\n",
              "      <td>9457</td>\n",
              "      <td>NaN</td>\n",
              "      <td>NaN</td>\n",
              "      <td>NaN</td>\n",
              "      <td>প্রাচীন যুগে পুরোনো নাম ছিঃ</td>\n",
              "      <td>0</td>\n",
              "    </tr>\n",
              "    <tr>\n",
              "      <th>16110</th>\n",
              "      <td>9458</td>\n",
              "      <td>NaN</td>\n",
              "      <td>NaN</td>\n",
              "      <td>NaN</td>\n",
              "      <td>রেনেসাঁ যুগে পুরোনো নাম ছিঃ</td>\n",
              "      <td>0</td>\n",
              "    </tr>\n",
              "    <tr>\n",
              "      <th>16111</th>\n",
              "      <td>9459</td>\n",
              "      <td>NaN</td>\n",
              "      <td>NaN</td>\n",
              "      <td>NaN</td>\n",
              "      <td>ঐতিহ্যগত যুগে পুরোনো নাম ছিঃ</td>\n",
              "      <td>0</td>\n",
              "    </tr>\n",
              "  </tbody>\n",
              "</table>\n",
              "<p>16112 rows × 6 columns</p>\n",
              "</div>\n",
              "    <div class=\"colab-df-buttons\">\n",
              "\n",
              "  <div class=\"colab-df-container\">\n",
              "    <button class=\"colab-df-convert\" onclick=\"convertToInteractive('df-fd37fd15-fdca-4faf-b16c-70f846b11ba6')\"\n",
              "            title=\"Convert this dataframe to an interactive table.\"\n",
              "            style=\"display:none;\">\n",
              "\n",
              "  <svg xmlns=\"http://www.w3.org/2000/svg\" height=\"24px\" viewBox=\"0 -960 960 960\">\n",
              "    <path d=\"M120-120v-720h720v720H120Zm60-500h600v-160H180v160Zm220 220h160v-160H400v160Zm0 220h160v-160H400v160ZM180-400h160v-160H180v160Zm440 0h160v-160H620v160ZM180-180h160v-160H180v160Zm440 0h160v-160H620v160Z\"/>\n",
              "  </svg>\n",
              "    </button>\n",
              "\n",
              "  <style>\n",
              "    .colab-df-container {\n",
              "      display:flex;\n",
              "      gap: 12px;\n",
              "    }\n",
              "\n",
              "    .colab-df-convert {\n",
              "      background-color: #E8F0FE;\n",
              "      border: none;\n",
              "      border-radius: 50%;\n",
              "      cursor: pointer;\n",
              "      display: none;\n",
              "      fill: #1967D2;\n",
              "      height: 32px;\n",
              "      padding: 0 0 0 0;\n",
              "      width: 32px;\n",
              "    }\n",
              "\n",
              "    .colab-df-convert:hover {\n",
              "      background-color: #E2EBFA;\n",
              "      box-shadow: 0px 1px 2px rgba(60, 64, 67, 0.3), 0px 1px 3px 1px rgba(60, 64, 67, 0.15);\n",
              "      fill: #174EA6;\n",
              "    }\n",
              "\n",
              "    .colab-df-buttons div {\n",
              "      margin-bottom: 4px;\n",
              "    }\n",
              "\n",
              "    [theme=dark] .colab-df-convert {\n",
              "      background-color: #3B4455;\n",
              "      fill: #D2E3FC;\n",
              "    }\n",
              "\n",
              "    [theme=dark] .colab-df-convert:hover {\n",
              "      background-color: #434B5C;\n",
              "      box-shadow: 0px 1px 3px 1px rgba(0, 0, 0, 0.15);\n",
              "      filter: drop-shadow(0px 1px 2px rgba(0, 0, 0, 0.3));\n",
              "      fill: #FFFFFF;\n",
              "    }\n",
              "  </style>\n",
              "\n",
              "    <script>\n",
              "      const buttonEl =\n",
              "        document.querySelector('#df-fd37fd15-fdca-4faf-b16c-70f846b11ba6 button.colab-df-convert');\n",
              "      buttonEl.style.display =\n",
              "        google.colab.kernel.accessAllowed ? 'block' : 'none';\n",
              "\n",
              "      async function convertToInteractive(key) {\n",
              "        const element = document.querySelector('#df-fd37fd15-fdca-4faf-b16c-70f846b11ba6');\n",
              "        const dataTable =\n",
              "          await google.colab.kernel.invokeFunction('convertToInteractive',\n",
              "                                                    [key], {});\n",
              "        if (!dataTable) return;\n",
              "\n",
              "        const docLinkHtml = 'Like what you see? Visit the ' +\n",
              "          '<a target=\"_blank\" href=https://colab.research.google.com/notebooks/data_table.ipynb>data table notebook</a>'\n",
              "          + ' to learn more about interactive tables.';\n",
              "        element.innerHTML = '';\n",
              "        dataTable['output_type'] = 'display_data';\n",
              "        await google.colab.output.renderOutput(dataTable, element);\n",
              "        const docLink = document.createElement('div');\n",
              "        docLink.innerHTML = docLinkHtml;\n",
              "        element.appendChild(docLink);\n",
              "      }\n",
              "    </script>\n",
              "  </div>\n",
              "\n",
              "\n",
              "<div id=\"df-10740002-2fd5-4f2b-8466-4b45aa1e7cd5\">\n",
              "  <button class=\"colab-df-quickchart\" onclick=\"quickchart('df-10740002-2fd5-4f2b-8466-4b45aa1e7cd5')\"\n",
              "            title=\"Suggest charts\"\n",
              "            style=\"display:none;\">\n",
              "\n",
              "<svg xmlns=\"http://www.w3.org/2000/svg\" height=\"24px\"viewBox=\"0 0 24 24\"\n",
              "     width=\"24px\">\n",
              "    <g>\n",
              "        <path d=\"M19 3H5c-1.1 0-2 .9-2 2v14c0 1.1.9 2 2 2h14c1.1 0 2-.9 2-2V5c0-1.1-.9-2-2-2zM9 17H7v-7h2v7zm4 0h-2V7h2v10zm4 0h-2v-4h2v4z\"/>\n",
              "    </g>\n",
              "</svg>\n",
              "  </button>\n",
              "\n",
              "<style>\n",
              "  .colab-df-quickchart {\n",
              "      --bg-color: #E8F0FE;\n",
              "      --fill-color: #1967D2;\n",
              "      --hover-bg-color: #E2EBFA;\n",
              "      --hover-fill-color: #174EA6;\n",
              "      --disabled-fill-color: #AAA;\n",
              "      --disabled-bg-color: #DDD;\n",
              "  }\n",
              "\n",
              "  [theme=dark] .colab-df-quickchart {\n",
              "      --bg-color: #3B4455;\n",
              "      --fill-color: #D2E3FC;\n",
              "      --hover-bg-color: #434B5C;\n",
              "      --hover-fill-color: #FFFFFF;\n",
              "      --disabled-bg-color: #3B4455;\n",
              "      --disabled-fill-color: #666;\n",
              "  }\n",
              "\n",
              "  .colab-df-quickchart {\n",
              "    background-color: var(--bg-color);\n",
              "    border: none;\n",
              "    border-radius: 50%;\n",
              "    cursor: pointer;\n",
              "    display: none;\n",
              "    fill: var(--fill-color);\n",
              "    height: 32px;\n",
              "    padding: 0;\n",
              "    width: 32px;\n",
              "  }\n",
              "\n",
              "  .colab-df-quickchart:hover {\n",
              "    background-color: var(--hover-bg-color);\n",
              "    box-shadow: 0 1px 2px rgba(60, 64, 67, 0.3), 0 1px 3px 1px rgba(60, 64, 67, 0.15);\n",
              "    fill: var(--button-hover-fill-color);\n",
              "  }\n",
              "\n",
              "  .colab-df-quickchart-complete:disabled,\n",
              "  .colab-df-quickchart-complete:disabled:hover {\n",
              "    background-color: var(--disabled-bg-color);\n",
              "    fill: var(--disabled-fill-color);\n",
              "    box-shadow: none;\n",
              "  }\n",
              "\n",
              "  .colab-df-spinner {\n",
              "    border: 2px solid var(--fill-color);\n",
              "    border-color: transparent;\n",
              "    border-bottom-color: var(--fill-color);\n",
              "    animation:\n",
              "      spin 1s steps(1) infinite;\n",
              "  }\n",
              "\n",
              "  @keyframes spin {\n",
              "    0% {\n",
              "      border-color: transparent;\n",
              "      border-bottom-color: var(--fill-color);\n",
              "      border-left-color: var(--fill-color);\n",
              "    }\n",
              "    20% {\n",
              "      border-color: transparent;\n",
              "      border-left-color: var(--fill-color);\n",
              "      border-top-color: var(--fill-color);\n",
              "    }\n",
              "    30% {\n",
              "      border-color: transparent;\n",
              "      border-left-color: var(--fill-color);\n",
              "      border-top-color: var(--fill-color);\n",
              "      border-right-color: var(--fill-color);\n",
              "    }\n",
              "    40% {\n",
              "      border-color: transparent;\n",
              "      border-right-color: var(--fill-color);\n",
              "      border-top-color: var(--fill-color);\n",
              "    }\n",
              "    60% {\n",
              "      border-color: transparent;\n",
              "      border-right-color: var(--fill-color);\n",
              "    }\n",
              "    80% {\n",
              "      border-color: transparent;\n",
              "      border-right-color: var(--fill-color);\n",
              "      border-bottom-color: var(--fill-color);\n",
              "    }\n",
              "    90% {\n",
              "      border-color: transparent;\n",
              "      border-bottom-color: var(--fill-color);\n",
              "    }\n",
              "  }\n",
              "</style>\n",
              "\n",
              "  <script>\n",
              "    async function quickchart(key) {\n",
              "      const quickchartButtonEl =\n",
              "        document.querySelector('#' + key + ' button');\n",
              "      quickchartButtonEl.disabled = true;  // To prevent multiple clicks.\n",
              "      quickchartButtonEl.classList.add('colab-df-spinner');\n",
              "      try {\n",
              "        const charts = await google.colab.kernel.invokeFunction(\n",
              "            'suggestCharts', [key], {});\n",
              "      } catch (error) {\n",
              "        console.error('Error during call to suggestCharts:', error);\n",
              "      }\n",
              "      quickchartButtonEl.classList.remove('colab-df-spinner');\n",
              "      quickchartButtonEl.classList.add('colab-df-quickchart-complete');\n",
              "    }\n",
              "    (() => {\n",
              "      let quickchartButtonEl =\n",
              "        document.querySelector('#df-10740002-2fd5-4f2b-8466-4b45aa1e7cd5 button');\n",
              "      quickchartButtonEl.style.display =\n",
              "        google.colab.kernel.accessAllowed ? 'block' : 'none';\n",
              "    })();\n",
              "  </script>\n",
              "</div>\n",
              "    </div>\n",
              "  </div>\n"
            ]
          },
          "metadata": {}
        }
      ]
    },
    {
      "cell_type": "code",
      "source": [
        "df.shape"
      ],
      "metadata": {
        "colab": {
          "base_uri": "https://localhost:8080/"
        },
        "id": "jwffhZDKeJgN",
        "outputId": "4736ed1f-5c7d-4f99-98fd-b4689a3dcfde"
      },
      "execution_count": 5,
      "outputs": [
        {
          "output_type": "execute_result",
          "data": {
            "text/plain": [
              "(16112, 6)"
            ]
          },
          "metadata": {},
          "execution_count": 5
        }
      ]
    },
    {
      "cell_type": "code",
      "source": [
        "# Display general information about the DataFrame\n",
        "print(\"DataFrame Information:\")\n",
        "print(df.info())\n",
        "\n",
        "# Display the number of rows and columns in the DataFrame\n",
        "print(\"\\nDataFrame Shape:\")\n",
        "print(df.shape)\n",
        "\n",
        "# Display the total number of elements in the DataFrame\n",
        "print(\"\\nDataFrame Size:\")\n",
        "print(df.size)\n",
        "\n",
        "# Display descriptive statistics of the DataFrame\n",
        "print(\"\\nDataFrame Descriptive Statistics:\")\n",
        "print(df.describe())\n",
        "\n",
        "# Display the first few rows of the DataFrame\n",
        "print(\"\\nFirst few rows of the DataFrame:\")\n",
        "print(df.head())\n",
        "\n",
        "# Display the last few rows of the DataFrame\n",
        "print(\"\\nLast few rows of the DataFrame:\")\n",
        "print(df.tail())"
      ],
      "metadata": {
        "colab": {
          "base_uri": "https://localhost:8080/"
        },
        "id": "Gmqfx-K6eNzb",
        "outputId": "40695266-b50e-4021-8995-d9d6e0b4497c"
      },
      "execution_count": 6,
      "outputs": [
        {
          "output_type": "stream",
          "name": "stdout",
          "text": [
            "DataFrame Information:\n",
            "<class 'pandas.core.frame.DataFrame'>\n",
            "RangeIndex: 16112 entries, 0 to 16111\n",
            "Data columns (total 6 columns):\n",
            " #   Column        Non-Null Count  Dtype  \n",
            "---  ------        --------------  -----  \n",
            " 0   Unnamed: 0.1  16112 non-null  int64  \n",
            " 1   Unnamed: 0    6652 non-null   float64\n",
            " 2   Unnamed: 1    0 non-null      float64\n",
            " 3   Unnamed: 2    0 non-null      float64\n",
            " 4   sentence      16112 non-null  object \n",
            " 5   sentiment     16112 non-null  int64  \n",
            "dtypes: float64(3), int64(2), object(1)\n",
            "memory usage: 755.4+ KB\n",
            "None\n",
            "\n",
            "DataFrame Shape:\n",
            "(16112, 6)\n",
            "\n",
            "DataFrame Size:\n",
            "96672\n",
            "\n",
            "DataFrame Descriptive Statistics:\n",
            "       Unnamed: 0.1   Unnamed: 0  Unnamed: 1  Unnamed: 2     sentiment\n",
            "count  16112.000000  6652.000000         0.0         0.0  16112.000000\n",
            "mean    4149.844588  3325.500000         NaN         NaN      0.449789\n",
            "std     2525.727021  1920.411327         NaN         NaN      0.497488\n",
            "min        0.000000     0.000000         NaN         NaN      0.000000\n",
            "25%     2013.750000  1662.750000         NaN         NaN      0.000000\n",
            "50%     4027.500000  3325.500000         NaN         NaN      0.000000\n",
            "75%     6041.250000  4988.250000         NaN         NaN      1.000000\n",
            "max     9459.000000  6651.000000         NaN         NaN      1.000000\n",
            "\n",
            "First few rows of the DataFrame:\n",
            "   Unnamed: 0.1  Unnamed: 0  Unnamed: 1  Unnamed: 2  \\\n",
            "0             0         0.0         NaN         NaN   \n",
            "1             1         1.0         NaN         NaN   \n",
            "2             2         2.0         NaN         NaN   \n",
            "3             3         3.0         NaN         NaN   \n",
            "4             4         4.0         NaN         NaN   \n",
            "\n",
            "                                            sentence  sentiment  \n",
            "0                            ওয়ও আমি গর্বিত বাঙ্গালি          1  \n",
            "1  বাংলাদেশ এর কিছু মানুষ নিজে কিছু করতে পারবেনা ...          0  \n",
            "2                                 রামোসের ঘুম আসে না          0  \n",
            "3                  কোহলির প্রতি শ্রদ্ধা হারিয়ে ফেলছি          1  \n",
            "4  থ্যাঙ্ক ইউ মাছরাঙ্গা টেলিভিশনকিন্তু ছাপোষা আন্...          0  \n",
            "\n",
            "Last few rows of the DataFrame:\n",
            "       Unnamed: 0.1  Unnamed: 0  Unnamed: 1  Unnamed: 2  \\\n",
            "16107          9455         NaN         NaN         NaN   \n",
            "16108          9456         NaN         NaN         NaN   \n",
            "16109          9457         NaN         NaN         NaN   \n",
            "16110          9458         NaN         NaN         NaN   \n",
            "16111          9459         NaN         NaN         NaN   \n",
            "\n",
            "                             sentence  sentiment  \n",
            "16107   পাশ্চাত্য যুগে পুরোনো নাম ছিঃ          0  \n",
            "16108  মধ্যযুগীয় যুগে পুরোনো নাম ছিঃ          0  \n",
            "16109     প্রাচীন যুগে পুরোনো নাম ছিঃ          0  \n",
            "16110     রেনেসাঁ যুগে পুরোনো নাম ছিঃ          0  \n",
            "16111    ঐতিহ্যগত যুগে পুরোনো নাম ছিঃ          0  \n"
          ]
        }
      ]
    },
    {
      "cell_type": "code",
      "source": [
        "df['sentiment'].value_counts()"
      ],
      "metadata": {
        "colab": {
          "base_uri": "https://localhost:8080/"
        },
        "id": "OMaclDMreQ1E",
        "outputId": "97ecbb7e-b505-4b04-d2c0-855861f666fb"
      },
      "execution_count": 7,
      "outputs": [
        {
          "output_type": "execute_result",
          "data": {
            "text/plain": [
              "0    8865\n",
              "1    7247\n",
              "Name: sentiment, dtype: int64"
            ]
          },
          "metadata": {},
          "execution_count": 7
        }
      ]
    },
    {
      "cell_type": "code",
      "source": [
        "df.reset_index(drop=True, inplace=True)\n",
        "df['sentence'] = df.sentence.apply(lambda x: preprocessing(str(x)))"
      ],
      "metadata": {
        "id": "zWbUoTZheUHa"
      },
      "execution_count": 8,
      "outputs": []
    },
    {
      "cell_type": "code",
      "source": [
        "train1, test1 = train_test_split(df,random_state=69, test_size=0.2)\n",
        "training_sentences = []\n",
        "testing_sentences = []\n",
        "\n",
        "train_sentences=train1['sentence'].values\n",
        "train_labels=train1['sentiment'].values\n",
        "for i in range(train_sentences.shape[0]):\n",
        "    #print(train_sentences[i])\n",
        "    x=str(train_sentences[i])\n",
        "    training_sentences.append(x)\n",
        "\n",
        "training_sentences=np.array(training_sentences)"
      ],
      "metadata": {
        "id": "TDzt_e15eXtS"
      },
      "execution_count": 9,
      "outputs": []
    },
    {
      "cell_type": "code",
      "source": [
        "test_sentences=test1['sentence'].values\n",
        "test_labels=test1['sentiment'].values\n",
        "\n",
        "for i in range(test_sentences.shape[0]):\n",
        "    x=str(test_sentences[i])\n",
        "    testing_sentences.append(x)\n",
        "\n",
        "testing_sentences=np.array(testing_sentences)\n",
        "\n",
        "\n",
        "train_labels=keras.utils.to_categorical(train_labels)\n",
        "\n",
        "\n",
        "test_labels=keras.utils.to_categorical(test_labels)"
      ],
      "metadata": {
        "id": "l2bn49a0eacf"
      },
      "execution_count": 10,
      "outputs": []
    },
    {
      "cell_type": "code",
      "source": [
        "print(\"Training Set Length: \"+str(len(train1)))\n",
        "print(\"Testing Set Length: \"+str(len(test1)))\n",
        "print(\"training_sentences shape: \"+str(training_sentences.shape))\n",
        "print(\"testing_sentences shape: \"+str(testing_sentences.shape))\n",
        "print(\"train_labels shape: \"+str(train_labels.shape))\n",
        "print(\"test_labels shape: \"+str(test_labels.shape))"
      ],
      "metadata": {
        "colab": {
          "base_uri": "https://localhost:8080/"
        },
        "id": "yRgbU6cBedHA",
        "outputId": "2ebd49e3-e1e7-46e5-83d3-9c73fd1427d9"
      },
      "execution_count": 11,
      "outputs": [
        {
          "output_type": "stream",
          "name": "stdout",
          "text": [
            "Training Set Length: 12889\n",
            "Testing Set Length: 3223\n",
            "training_sentences shape: (12889,)\n",
            "testing_sentences shape: (3223,)\n",
            "train_labels shape: (12889, 2)\n",
            "test_labels shape: (3223, 2)\n"
          ]
        }
      ]
    },
    {
      "cell_type": "code",
      "source": [
        "training_sentences[3]"
      ],
      "metadata": {
        "colab": {
          "base_uri": "https://localhost:8080/",
          "height": 36
        },
        "id": "xWHPIlbAegQw",
        "outputId": "c4066d29-4390-4151-9566-352a170aec3a"
      },
      "execution_count": 12,
      "outputs": [
        {
          "output_type": "execute_result",
          "data": {
            "text/plain": [
              "'বিসিবি কে সাধুবাদ জানাই এই কঠিন কিন্তু বাস্তবমুখী সিদ্ধান্ত নেয়ার জন্য'"
            ],
            "application/vnd.google.colaboratory.intrinsic+json": {
              "type": "string"
            }
          },
          "metadata": {},
          "execution_count": 12
        }
      ]
    },
    {
      "cell_type": "code",
      "source": [
        "train_labels[3]"
      ],
      "metadata": {
        "colab": {
          "base_uri": "https://localhost:8080/"
        },
        "id": "_sctdrh3eitN",
        "outputId": "e0bd6d13-bdb4-4adf-b016-b354b2f8f8af"
      },
      "execution_count": 13,
      "outputs": [
        {
          "output_type": "execute_result",
          "data": {
            "text/plain": [
              "array([1., 0.], dtype=float32)"
            ]
          },
          "metadata": {},
          "execution_count": 13
        }
      ]
    },
    {
      "cell_type": "code",
      "source": [
        "print(training_sentences.shape)\n",
        "print(train_labels.shape)"
      ],
      "metadata": {
        "colab": {
          "base_uri": "https://localhost:8080/"
        },
        "id": "91kiF8odelT0",
        "outputId": "c664e362-31d1-489d-dd64-cb0263d7bf3c"
      },
      "execution_count": 14,
      "outputs": [
        {
          "output_type": "stream",
          "name": "stdout",
          "text": [
            "(12889,)\n",
            "(12889, 2)\n"
          ]
        }
      ]
    },
    {
      "cell_type": "code",
      "source": [
        "vocab_size = 20000\n",
        "embedding_dim = 300\n",
        "max_length = 150\n",
        "trunc_type='post'\n",
        "oov_tok = \"\""
      ],
      "metadata": {
        "id": "QQ0wObC8eoXj"
      },
      "execution_count": 15,
      "outputs": []
    },
    {
      "cell_type": "code",
      "source": [
        "tokenizer = Tokenizer(num_words = vocab_size, oov_token=oov_tok)\n",
        "tokenizer.fit_on_texts(training_sentences)\n",
        "word_index = tokenizer.word_index\n",
        "print(len(word_index))"
      ],
      "metadata": {
        "colab": {
          "base_uri": "https://localhost:8080/"
        },
        "id": "UGz0YH5Peq-v",
        "outputId": "406fbbf1-f336-436d-c8b4-7c0728375db1"
      },
      "execution_count": 16,
      "outputs": [
        {
          "output_type": "stream",
          "name": "stdout",
          "text": [
            "21411\n"
          ]
        }
      ]
    },
    {
      "cell_type": "code",
      "source": [
        "from keras.preprocessing.sequence import pad_sequences"
      ],
      "metadata": {
        "id": "bU8sL1AxeuRb"
      },
      "execution_count": 17,
      "outputs": []
    },
    {
      "cell_type": "code",
      "source": [
        "sequences = tokenizer.texts_to_sequences(training_sentences)\n",
        "padded = pad_sequences(sequences,maxlen=max_length, truncating=trunc_type)\n",
        "\n",
        "\n",
        "test_sequences = tokenizer.texts_to_sequences(testing_sentences)\n",
        "testing_padded = pad_sequences(test_sequences,maxlen=max_length)"
      ],
      "metadata": {
        "id": "-n5QHBX1evav"
      },
      "execution_count": 18,
      "outputs": []
    },
    {
      "cell_type": "code",
      "source": [
        "print(\"Sentence :--> \\n\")\n",
        "print(training_sentences[3]+\"\\n\")\n",
        "print(\"Sentence Tokenized and Converted into Sequence :--> \\n\")\n",
        "print(str(sequences[3])+\"\\n\")\n",
        "print(\"After Padding the Sequence with padding length 100 :--> \\n\")\n",
        "print(padded[3])"
      ],
      "metadata": {
        "colab": {
          "base_uri": "https://localhost:8080/"
        },
        "id": "ilTEfac-e1wE",
        "outputId": "566da2e3-790d-4d9a-ca1d-7b7f54e55871"
      },
      "execution_count": 19,
      "outputs": [
        {
          "output_type": "stream",
          "name": "stdout",
          "text": [
            "Sentence :--> \n",
            "\n",
            "বিসিবি কে সাধুবাদ জানাই এই কঠিন কিন্তু বাস্তবমুখী সিদ্ধান্ত নেয়ার জন্য\n",
            "\n",
            "Sentence Tokenized and Converted into Sequence :--> \n",
            "\n",
            "[549, 25, 1912, 273, 5, 347, 44, 3868, 522, 1718, 6]\n",
            "\n",
            "After Padding the Sequence with padding length 100 :--> \n",
            "\n",
            "[   0    0    0    0    0    0    0    0    0    0    0    0    0    0\n",
            "    0    0    0    0    0    0    0    0    0    0    0    0    0    0\n",
            "    0    0    0    0    0    0    0    0    0    0    0    0    0    0\n",
            "    0    0    0    0    0    0    0    0    0    0    0    0    0    0\n",
            "    0    0    0    0    0    0    0    0    0    0    0    0    0    0\n",
            "    0    0    0    0    0    0    0    0    0    0    0    0    0    0\n",
            "    0    0    0    0    0    0    0    0    0    0    0    0    0    0\n",
            "    0    0    0    0    0    0    0    0    0    0    0    0    0    0\n",
            "    0    0    0    0    0    0    0    0    0    0    0    0    0    0\n",
            "    0    0    0    0    0    0    0    0    0    0    0    0    0  549\n",
            "   25 1912  273    5  347   44 3868  522 1718    6]\n"
          ]
        }
      ]
    },
    {
      "cell_type": "code",
      "source": [
        "print(\"Padded shape(training): \"+str(padded.shape))\n",
        "print(\"Padded shape(testing): \"+str(testing_padded.shape))"
      ],
      "metadata": {
        "colab": {
          "base_uri": "https://localhost:8080/"
        },
        "id": "AJ1gtpUofB-2",
        "outputId": "65da4ebb-1b2c-415c-a958-6119fb5f4399"
      },
      "execution_count": 20,
      "outputs": [
        {
          "output_type": "stream",
          "name": "stdout",
          "text": [
            "Padded shape(training): (12889, 150)\n",
            "Padded shape(testing): (3223, 150)\n"
          ]
        }
      ]
    },
    {
      "cell_type": "code",
      "source": [
        "import tensorflow as tf\n",
        "from tensorflow.keras.models import Sequential\n",
        "from tensorflow.keras.layers import Embedding, Conv1D, LSTM, Dropout, Dense, Bidirectional, Flatten\n",
        "from tensorflow.keras import regularizers\n",
        "from tensorflow.keras.optimizers import Adam"
      ],
      "metadata": {
        "id": "udffXaHDfKx-"
      },
      "execution_count": 21,
      "outputs": []
    },
    {
      "cell_type": "code",
      "source": [
        "with tf.device('/gpu:0'):\n",
        "    model = Sequential()\n",
        "    model.add(Embedding(vocab_size, embedding_dim, input_length=max_length))\n",
        "    model.add(Conv1D(128, kernel_size=3, activation=\"relu\"))\n",
        "    model.add(Bidirectional(LSTM(128, return_sequences=True)))\n",
        "    model.add(Dropout(0.2))\n",
        "    model.add(Bidirectional(LSTM(128)))\n",
        "    model.add(Dense(64, activation='relu'))\n",
        "    model.add(Dense(32, activation='relu'))\n",
        "    model.add(Flatten())\n",
        "    model.add(Dense(100, kernel_regularizer=regularizers.l2(0.01), activation=\"relu\"))\n",
        "    model.add(Dropout(0.2))\n",
        "    model.add(Dense(2, activation='sigmoid'))\n",
        "    adam = Adam(learning_rate=0.0001, beta_1=0.9, beta_2=0.999, epsilon=1e-07, amsgrad=False)\n",
        "    model.summary()\n",
        "    model.compile(loss='binary_crossentropy', optimizer=adam, metrics=['accuracy'])\n",
        "\n"
      ],
      "metadata": {
        "colab": {
          "base_uri": "https://localhost:8080/"
        },
        "id": "yOMXIEjQfOTJ",
        "outputId": "cdf6a216-609f-4285-9978-633374a0f2b4"
      },
      "execution_count": 22,
      "outputs": [
        {
          "output_type": "stream",
          "name": "stdout",
          "text": [
            "Model: \"sequential\"\n",
            "_________________________________________________________________\n",
            " Layer (type)                Output Shape              Param #   \n",
            "=================================================================\n",
            " embedding (Embedding)       (None, 150, 300)          6000000   \n",
            "                                                                 \n",
            " conv1d (Conv1D)             (None, 148, 128)          115328    \n",
            "                                                                 \n",
            " bidirectional (Bidirection  (None, 148, 256)          263168    \n",
            " al)                                                             \n",
            "                                                                 \n",
            " dropout (Dropout)           (None, 148, 256)          0         \n",
            "                                                                 \n",
            " bidirectional_1 (Bidirecti  (None, 256)               394240    \n",
            " onal)                                                           \n",
            "                                                                 \n",
            " dense (Dense)               (None, 64)                16448     \n",
            "                                                                 \n",
            " dense_1 (Dense)             (None, 32)                2080      \n",
            "                                                                 \n",
            " flatten (Flatten)           (None, 32)                0         \n",
            "                                                                 \n",
            " dense_2 (Dense)             (None, 100)               3300      \n",
            "                                                                 \n",
            " dropout_1 (Dropout)         (None, 100)               0         \n",
            "                                                                 \n",
            " dense_3 (Dense)             (None, 2)                 202       \n",
            "                                                                 \n",
            "=================================================================\n",
            "Total params: 6794766 (25.92 MB)\n",
            "Trainable params: 6794766 (25.92 MB)\n",
            "Non-trainable params: 0 (0.00 Byte)\n",
            "_________________________________________________________________\n"
          ]
        }
      ]
    },
    {
      "cell_type": "markdown",
      "source": [
        "### **MODEL 2**"
      ],
      "metadata": {
        "id": "5BKs5i6gqqGN"
      }
    },
    {
      "cell_type": "code",
      "source": [
        "from tensorflow.keras.layers import Embedding, Conv1D, Bidirectional, LSTM, Dropout, Dense, Flatten, BatchNormalization\n",
        "\n",
        "# Define your model\n",
        "with tf.device('/gpu:0'):\n",
        "    model = Sequential()\n",
        "\n",
        "    # Embedding Layer\n",
        "    #embedding_matrix = load_pretrained_embeddings()  # Implement a function to load pre-trained embeddings\n",
        "    model.add(Embedding(vocab_size, embedding_dim, input_length=max_length, trainable=False))\n",
        "\n",
        "    # Convolutional Layers\n",
        "    model.add(Conv1D(128, kernel_size=3, activation=\"relu\"))\n",
        "    model.add(Conv1D(128, kernel_size=5, activation=\"relu\"))\n",
        "\n",
        "    # LSTM Layers\n",
        "    model.add(Bidirectional(LSTM(256, return_sequences=True)))\n",
        "    model.add(Dropout(0.5))\n",
        "    model.add(Bidirectional(LSTM(256)))\n",
        "\n",
        "    # Dense Layers with Regularization\n",
        "    model.add(Dense(64, activation='relu'))\n",
        "    model.add(Dense(32, activation='relu'))\n",
        "    model.add(Dropout(0.5))\n",
        "    model.add(Dense(100, kernel_regularizer=regularizers.l2(0.001), activation=\"relu\"))\n",
        "\n",
        "    # Batch Normalization\n",
        "    model.add(BatchNormalization())\n",
        "\n",
        "    # Output Layer\n",
        "    model.add(Dense(2, activation='sigmoid'))\n",
        "\n",
        "    # Adam Optimizer\n",
        "    adam = Adam(learning_rate=0.001, beta_1=0.9, beta_2=0.999, epsilon=1e-07, amsgrad=False)\n",
        "\n",
        "    # Model Summary\n",
        "    model.summary()\n",
        "\n",
        "    # Compile the model\n",
        "    model.compile(loss='binary_crossentropy', optimizer=adam, metrics=['accuracy'])\n"
      ],
      "metadata": {
        "colab": {
          "base_uri": "https://localhost:8080/"
        },
        "id": "tYqzl5atqpwc",
        "outputId": "3b90b453-0149-4894-9593-6263062c39e8"
      },
      "execution_count": 24,
      "outputs": [
        {
          "output_type": "stream",
          "name": "stdout",
          "text": [
            "Model: \"sequential_1\"\n",
            "_________________________________________________________________\n",
            " Layer (type)                Output Shape              Param #   \n",
            "=================================================================\n",
            " embedding_1 (Embedding)     (None, 150, 300)          6000000   \n",
            "                                                                 \n",
            " conv1d_1 (Conv1D)           (None, 148, 128)          115328    \n",
            "                                                                 \n",
            " conv1d_2 (Conv1D)           (None, 144, 128)          82048     \n",
            "                                                                 \n",
            " bidirectional_2 (Bidirecti  (None, 144, 512)          788480    \n",
            " onal)                                                           \n",
            "                                                                 \n",
            " dropout_2 (Dropout)         (None, 144, 512)          0         \n",
            "                                                                 \n",
            " bidirectional_3 (Bidirecti  (None, 512)               1574912   \n",
            " onal)                                                           \n",
            "                                                                 \n",
            " dense_4 (Dense)             (None, 64)                32832     \n",
            "                                                                 \n",
            " dense_5 (Dense)             (None, 32)                2080      \n",
            "                                                                 \n",
            " dropout_3 (Dropout)         (None, 32)                0         \n",
            "                                                                 \n",
            " dense_6 (Dense)             (None, 100)               3300      \n",
            "                                                                 \n",
            " batch_normalization (Batch  (None, 100)               400       \n",
            " Normalization)                                                  \n",
            "                                                                 \n",
            " dense_7 (Dense)             (None, 2)                 202       \n",
            "                                                                 \n",
            "=================================================================\n",
            "Total params: 8599582 (32.80 MB)\n",
            "Trainable params: 2599382 (9.92 MB)\n",
            "Non-trainable params: 6000200 (22.89 MB)\n",
            "_________________________________________________________________\n"
          ]
        }
      ]
    },
    {
      "cell_type": "code",
      "source": [
        "history=model.fit(padded,train_labels,epochs=200,batch_size=512,\n",
        "                  validation_data=(testing_padded,test_labels),\n",
        "                  use_multiprocessing=True, workers=8)"
      ],
      "metadata": {
        "colab": {
          "base_uri": "https://localhost:8080/"
        },
        "id": "8JY24wRXfS8Y",
        "outputId": "0ac41d44-9e2a-4709-faf1-34ca7a9eef93"
      },
      "execution_count": 23,
      "outputs": [
        {
          "output_type": "stream",
          "name": "stdout",
          "text": [
            "Epoch 1/200\n",
            "26/26 [==============================] - 28s 341ms/step - loss: 1.1631 - accuracy: 0.5491 - val_loss: 1.1519 - val_accuracy: 0.5424\n",
            "Epoch 2/200\n",
            "26/26 [==============================] - 6s 246ms/step - loss: 1.1390 - accuracy: 0.5647 - val_loss: 1.1211 - val_accuracy: 0.5942\n",
            "Epoch 3/200\n",
            "26/26 [==============================] - 7s 264ms/step - loss: 1.0993 - accuracy: 0.6060 - val_loss: 1.0638 - val_accuracy: 0.6311\n",
            "Epoch 4/200\n",
            "26/26 [==============================] - 6s 244ms/step - loss: 0.9912 - accuracy: 0.7098 - val_loss: 0.8614 - val_accuracy: 0.8349\n",
            "Epoch 5/200\n",
            "26/26 [==============================] - 7s 267ms/step - loss: 0.7063 - accuracy: 0.9023 - val_loss: 0.6936 - val_accuracy: 0.9032\n",
            "Epoch 6/200\n",
            "26/26 [==============================] - 6s 246ms/step - loss: 0.5552 - accuracy: 0.9530 - val_loss: 0.6139 - val_accuracy: 0.9268\n",
            "Epoch 7/200\n",
            "26/26 [==============================] - 7s 261ms/step - loss: 0.4828 - accuracy: 0.9727 - val_loss: 0.5995 - val_accuracy: 0.9302\n",
            "Epoch 8/200\n",
            "26/26 [==============================] - 6s 243ms/step - loss: 0.4412 - accuracy: 0.9818 - val_loss: 0.5925 - val_accuracy: 0.9342\n",
            "Epoch 9/200\n",
            "26/26 [==============================] - 6s 240ms/step - loss: 0.4112 - accuracy: 0.9874 - val_loss: 0.5973 - val_accuracy: 0.9330\n",
            "Epoch 10/200\n",
            "26/26 [==============================] - 7s 268ms/step - loss: 0.3873 - accuracy: 0.9916 - val_loss: 0.5948 - val_accuracy: 0.9339\n",
            "Epoch 11/200\n",
            "26/26 [==============================] - 6s 223ms/step - loss: 0.3669 - accuracy: 0.9939 - val_loss: 0.6103 - val_accuracy: 0.9379\n",
            "Epoch 12/200\n",
            "26/26 [==============================] - 6s 250ms/step - loss: 0.3490 - accuracy: 0.9951 - val_loss: 0.6095 - val_accuracy: 0.9386\n",
            "Epoch 13/200\n",
            "26/26 [==============================] - 5s 200ms/step - loss: 0.3361 - accuracy: 0.9961 - val_loss: 0.6052 - val_accuracy: 0.9373\n",
            "Epoch 14/200\n",
            "26/26 [==============================] - 6s 236ms/step - loss: 0.3215 - accuracy: 0.9974 - val_loss: 0.6184 - val_accuracy: 0.9352\n",
            "Epoch 15/200\n",
            "26/26 [==============================] - 6s 227ms/step - loss: 0.3114 - accuracy: 0.9967 - val_loss: 0.6053 - val_accuracy: 0.9370\n",
            "Epoch 16/200\n",
            "26/26 [==============================] - 6s 212ms/step - loss: 0.3008 - accuracy: 0.9967 - val_loss: 0.5914 - val_accuracy: 0.9379\n",
            "Epoch 17/200\n",
            "26/26 [==============================] - 6s 233ms/step - loss: 0.2855 - accuracy: 0.9988 - val_loss: 0.6035 - val_accuracy: 0.9379\n",
            "Epoch 18/200\n",
            "26/26 [==============================] - 5s 208ms/step - loss: 0.2759 - accuracy: 0.9984 - val_loss: 0.6020 - val_accuracy: 0.9355\n",
            "Epoch 19/200\n",
            "26/26 [==============================] - 6s 248ms/step - loss: 0.2652 - accuracy: 0.9987 - val_loss: 0.6046 - val_accuracy: 0.9358\n",
            "Epoch 20/200\n",
            "26/26 [==============================] - 5s 207ms/step - loss: 0.2546 - accuracy: 0.9990 - val_loss: 0.6102 - val_accuracy: 0.9373\n",
            "Epoch 21/200\n",
            "26/26 [==============================] - 6s 221ms/step - loss: 0.2541 - accuracy: 0.9968 - val_loss: 0.5833 - val_accuracy: 0.9358\n",
            "Epoch 22/200\n",
            "26/26 [==============================] - 6s 222ms/step - loss: 0.2383 - accuracy: 0.9987 - val_loss: 0.6048 - val_accuracy: 0.9293\n",
            "Epoch 23/200\n",
            "26/26 [==============================] - 5s 203ms/step - loss: 0.2305 - accuracy: 0.9988 - val_loss: 0.5899 - val_accuracy: 0.9358\n",
            "Epoch 24/200\n",
            "26/26 [==============================] - 6s 216ms/step - loss: 0.2214 - accuracy: 0.9990 - val_loss: 0.5876 - val_accuracy: 0.9370\n",
            "Epoch 25/200\n",
            "26/26 [==============================] - 5s 210ms/step - loss: 0.2130 - accuracy: 0.9992 - val_loss: 0.5806 - val_accuracy: 0.9352\n",
            "Epoch 26/200\n",
            "26/26 [==============================] - 6s 235ms/step - loss: 0.2047 - accuracy: 0.9994 - val_loss: 0.5876 - val_accuracy: 0.9367\n",
            "Epoch 27/200\n",
            "26/26 [==============================] - 6s 215ms/step - loss: 0.1977 - accuracy: 0.9994 - val_loss: 0.5799 - val_accuracy: 0.9355\n",
            "Epoch 28/200\n",
            "26/26 [==============================] - 5s 207ms/step - loss: 0.1903 - accuracy: 0.9994 - val_loss: 0.5898 - val_accuracy: 0.9311\n",
            "Epoch 29/200\n",
            "26/26 [==============================] - 6s 226ms/step - loss: 0.1839 - accuracy: 0.9991 - val_loss: 0.5845 - val_accuracy: 0.9355\n",
            "Epoch 30/200\n",
            "26/26 [==============================] - 5s 193ms/step - loss: 0.1772 - accuracy: 0.9989 - val_loss: 0.5762 - val_accuracy: 0.9364\n",
            "Epoch 31/200\n",
            "26/26 [==============================] - 6s 222ms/step - loss: 0.1707 - accuracy: 0.9991 - val_loss: 0.5838 - val_accuracy: 0.9311\n",
            "Epoch 32/200\n",
            "26/26 [==============================] - 5s 192ms/step - loss: 0.1636 - accuracy: 0.9996 - val_loss: 0.5856 - val_accuracy: 0.9314\n",
            "Epoch 33/200\n",
            "26/26 [==============================] - 5s 201ms/step - loss: 0.1580 - accuracy: 0.9995 - val_loss: 0.5833 - val_accuracy: 0.9317\n",
            "Epoch 34/200\n",
            "26/26 [==============================] - 6s 243ms/step - loss: 0.1527 - accuracy: 0.9991 - val_loss: 0.5640 - val_accuracy: 0.9305\n",
            "Epoch 35/200\n",
            "26/26 [==============================] - 5s 201ms/step - loss: 0.1500 - accuracy: 0.9985 - val_loss: 0.5423 - val_accuracy: 0.9333\n",
            "Epoch 36/200\n",
            "26/26 [==============================] - 5s 201ms/step - loss: 0.1402 - accuracy: 0.9997 - val_loss: 0.5424 - val_accuracy: 0.9345\n",
            "Epoch 37/200\n",
            "26/26 [==============================] - 5s 197ms/step - loss: 0.1359 - accuracy: 0.9993 - val_loss: 0.5504 - val_accuracy: 0.9352\n",
            "Epoch 38/200\n",
            "26/26 [==============================] - 5s 196ms/step - loss: 0.1298 - accuracy: 0.9994 - val_loss: 0.5475 - val_accuracy: 0.9327\n",
            "Epoch 39/200\n",
            "26/26 [==============================] - 7s 251ms/step - loss: 0.1268 - accuracy: 0.9990 - val_loss: 0.5495 - val_accuracy: 0.9345\n",
            "Epoch 40/200\n",
            "26/26 [==============================] - 5s 210ms/step - loss: 0.1219 - accuracy: 0.9989 - val_loss: 0.5405 - val_accuracy: 0.9342\n",
            "Epoch 41/200\n",
            "26/26 [==============================] - 6s 217ms/step - loss: 0.1154 - accuracy: 0.9995 - val_loss: 0.5447 - val_accuracy: 0.9336\n",
            "Epoch 42/200\n",
            "26/26 [==============================] - 5s 190ms/step - loss: 0.1109 - accuracy: 0.9995 - val_loss: 0.5554 - val_accuracy: 0.9330\n",
            "Epoch 43/200\n",
            "26/26 [==============================] - 5s 192ms/step - loss: 0.1083 - accuracy: 0.9991 - val_loss: 0.5430 - val_accuracy: 0.9333\n",
            "Epoch 44/200\n",
            "26/26 [==============================] - 5s 205ms/step - loss: 0.1036 - accuracy: 0.9991 - val_loss: 0.5321 - val_accuracy: 0.9308\n",
            "Epoch 45/200\n",
            "26/26 [==============================] - 5s 199ms/step - loss: 0.0994 - accuracy: 0.9994 - val_loss: 0.5237 - val_accuracy: 0.9327\n",
            "Epoch 46/200\n",
            "26/26 [==============================] - 5s 204ms/step - loss: 0.0972 - accuracy: 0.9988 - val_loss: 0.5138 - val_accuracy: 0.9333\n",
            "Epoch 47/200\n",
            "26/26 [==============================] - 5s 202ms/step - loss: 0.0934 - accuracy: 0.9988 - val_loss: 0.5012 - val_accuracy: 0.9324\n",
            "Epoch 48/200\n",
            "26/26 [==============================] - 5s 194ms/step - loss: 0.0889 - accuracy: 0.9989 - val_loss: 0.4927 - val_accuracy: 0.9348\n",
            "Epoch 49/200\n",
            "26/26 [==============================] - 6s 212ms/step - loss: 0.0850 - accuracy: 0.9990 - val_loss: 0.4832 - val_accuracy: 0.9352\n",
            "Epoch 50/200\n",
            "26/26 [==============================] - 5s 193ms/step - loss: 0.0801 - accuracy: 0.9997 - val_loss: 0.4949 - val_accuracy: 0.9370\n",
            "Epoch 51/200\n",
            "26/26 [==============================] - 5s 201ms/step - loss: 0.0772 - accuracy: 0.9996 - val_loss: 0.5065 - val_accuracy: 0.9358\n",
            "Epoch 52/200\n",
            "26/26 [==============================] - 6s 210ms/step - loss: 0.0739 - accuracy: 0.9996 - val_loss: 0.5022 - val_accuracy: 0.9317\n",
            "Epoch 53/200\n",
            "26/26 [==============================] - 5s 197ms/step - loss: 0.0708 - accuracy: 0.9997 - val_loss: 0.5015 - val_accuracy: 0.9355\n",
            "Epoch 54/200\n",
            "26/26 [==============================] - 5s 208ms/step - loss: 0.0674 - accuracy: 0.9997 - val_loss: 0.5074 - val_accuracy: 0.9330\n",
            "Epoch 55/200\n",
            "26/26 [==============================] - 5s 191ms/step - loss: 0.0651 - accuracy: 0.9994 - val_loss: 0.5095 - val_accuracy: 0.9355\n",
            "Epoch 56/200\n",
            "26/26 [==============================] - 5s 207ms/step - loss: 0.0631 - accuracy: 0.9995 - val_loss: 0.4790 - val_accuracy: 0.9348\n",
            "Epoch 57/200\n",
            "26/26 [==============================] - 5s 202ms/step - loss: 0.0600 - accuracy: 0.9996 - val_loss: 0.4827 - val_accuracy: 0.9352\n",
            "Epoch 58/200\n",
            "26/26 [==============================] - 5s 200ms/step - loss: 0.0569 - accuracy: 0.9996 - val_loss: 0.4903 - val_accuracy: 0.9370\n",
            "Epoch 59/200\n",
            "26/26 [==============================] - 5s 190ms/step - loss: 0.0544 - accuracy: 0.9997 - val_loss: 0.5066 - val_accuracy: 0.9364\n",
            "Epoch 60/200\n",
            "26/26 [==============================] - 5s 197ms/step - loss: 0.0521 - accuracy: 0.9997 - val_loss: 0.4999 - val_accuracy: 0.9364\n",
            "Epoch 61/200\n",
            "26/26 [==============================] - 5s 190ms/step - loss: 0.0497 - accuracy: 0.9998 - val_loss: 0.4960 - val_accuracy: 0.9358\n",
            "Epoch 62/200\n",
            "26/26 [==============================] - 6s 214ms/step - loss: 0.0475 - accuracy: 0.9998 - val_loss: 0.5041 - val_accuracy: 0.9314\n",
            "Epoch 63/200\n",
            "26/26 [==============================] - 5s 198ms/step - loss: 0.0474 - accuracy: 0.9994 - val_loss: 0.4870 - val_accuracy: 0.9358\n",
            "Epoch 64/200\n",
            "26/26 [==============================] - 5s 181ms/step - loss: 0.0452 - accuracy: 0.9992 - val_loss: 0.4888 - val_accuracy: 0.9314\n",
            "Epoch 65/200\n",
            "26/26 [==============================] - 5s 206ms/step - loss: 0.0423 - accuracy: 0.9997 - val_loss: 0.4864 - val_accuracy: 0.9314\n",
            "Epoch 66/200\n",
            "26/26 [==============================] - 5s 191ms/step - loss: 0.0398 - accuracy: 0.9997 - val_loss: 0.4960 - val_accuracy: 0.9330\n",
            "Epoch 67/200\n",
            "26/26 [==============================] - 5s 186ms/step - loss: 0.0380 - accuracy: 0.9998 - val_loss: 0.5190 - val_accuracy: 0.9336\n",
            "Epoch 68/200\n",
            "26/26 [==============================] - 5s 203ms/step - loss: 0.0366 - accuracy: 0.9998 - val_loss: 0.5069 - val_accuracy: 0.9314\n",
            "Epoch 69/200\n",
            "26/26 [==============================] - 5s 198ms/step - loss: 0.0355 - accuracy: 0.9997 - val_loss: 0.4960 - val_accuracy: 0.9311\n",
            "Epoch 70/200\n",
            "26/26 [==============================] - 5s 204ms/step - loss: 0.0337 - accuracy: 0.9995 - val_loss: 0.4772 - val_accuracy: 0.9333\n",
            "Epoch 71/200\n",
            "26/26 [==============================] - 6s 215ms/step - loss: 0.0318 - accuracy: 0.9997 - val_loss: 0.4958 - val_accuracy: 0.9345\n",
            "Epoch 72/200\n",
            "26/26 [==============================] - 5s 189ms/step - loss: 0.0312 - accuracy: 0.9997 - val_loss: 0.4878 - val_accuracy: 0.9339\n",
            "Epoch 73/200\n",
            "26/26 [==============================] - 5s 212ms/step - loss: 0.0298 - accuracy: 0.9995 - val_loss: 0.4796 - val_accuracy: 0.9317\n",
            "Epoch 74/200\n",
            "26/26 [==============================] - 5s 181ms/step - loss: 0.0280 - accuracy: 0.9998 - val_loss: 0.4804 - val_accuracy: 0.9314\n",
            "Epoch 75/200\n",
            "26/26 [==============================] - 5s 192ms/step - loss: 0.0263 - accuracy: 0.9998 - val_loss: 0.4873 - val_accuracy: 0.9339\n",
            "Epoch 76/200\n",
            "26/26 [==============================] - 5s 192ms/step - loss: 0.0252 - accuracy: 0.9997 - val_loss: 0.4921 - val_accuracy: 0.9339\n",
            "Epoch 77/200\n",
            "26/26 [==============================] - 5s 190ms/step - loss: 0.0242 - accuracy: 0.9997 - val_loss: 0.4828 - val_accuracy: 0.9339\n",
            "Epoch 78/200\n",
            "26/26 [==============================] - 5s 194ms/step - loss: 0.0230 - accuracy: 0.9998 - val_loss: 0.4925 - val_accuracy: 0.9302\n",
            "Epoch 79/200\n",
            "26/26 [==============================] - 5s 192ms/step - loss: 0.0238 - accuracy: 0.9992 - val_loss: 0.5077 - val_accuracy: 0.9324\n",
            "Epoch 80/200\n",
            "26/26 [==============================] - 5s 185ms/step - loss: 0.0210 - accuracy: 0.9998 - val_loss: 0.5284 - val_accuracy: 0.9327\n",
            "Epoch 81/200\n",
            "26/26 [==============================] - 5s 204ms/step - loss: 0.0207 - accuracy: 0.9998 - val_loss: 0.5025 - val_accuracy: 0.9321\n",
            "Epoch 82/200\n",
            "26/26 [==============================] - 5s 196ms/step - loss: 0.0191 - accuracy: 0.9998 - val_loss: 0.5036 - val_accuracy: 0.9339\n",
            "Epoch 83/200\n",
            "26/26 [==============================] - 5s 191ms/step - loss: 0.0182 - accuracy: 0.9998 - val_loss: 0.5027 - val_accuracy: 0.9330\n",
            "Epoch 84/200\n",
            "26/26 [==============================] - 6s 217ms/step - loss: 0.0178 - accuracy: 0.9997 - val_loss: 0.4694 - val_accuracy: 0.9330\n",
            "Epoch 85/200\n",
            "26/26 [==============================] - 5s 188ms/step - loss: 0.0167 - accuracy: 0.9998 - val_loss: 0.4761 - val_accuracy: 0.9308\n",
            "Epoch 86/200\n",
            "26/26 [==============================] - 5s 198ms/step - loss: 0.0158 - accuracy: 0.9997 - val_loss: 0.4948 - val_accuracy: 0.9330\n",
            "Epoch 87/200\n",
            "26/26 [==============================] - 5s 198ms/step - loss: 0.0151 - accuracy: 0.9998 - val_loss: 0.5046 - val_accuracy: 0.9299\n",
            "Epoch 88/200\n",
            "26/26 [==============================] - 5s 199ms/step - loss: 0.0143 - accuracy: 0.9998 - val_loss: 0.5145 - val_accuracy: 0.9327\n",
            "Epoch 89/200\n",
            "26/26 [==============================] - 5s 207ms/step - loss: 0.0138 - accuracy: 0.9998 - val_loss: 0.5084 - val_accuracy: 0.9286\n",
            "Epoch 90/200\n",
            "26/26 [==============================] - 5s 190ms/step - loss: 0.0130 - accuracy: 0.9996 - val_loss: 0.5183 - val_accuracy: 0.9311\n",
            "Epoch 91/200\n",
            "26/26 [==============================] - 5s 196ms/step - loss: 0.0124 - accuracy: 0.9997 - val_loss: 0.4967 - val_accuracy: 0.9308\n",
            "Epoch 92/200\n",
            "26/26 [==============================] - 5s 202ms/step - loss: 0.0118 - accuracy: 0.9997 - val_loss: 0.5031 - val_accuracy: 0.9333\n",
            "Epoch 93/200\n",
            "26/26 [==============================] - 5s 185ms/step - loss: 0.0121 - accuracy: 0.9997 - val_loss: 0.4945 - val_accuracy: 0.9333\n",
            "Epoch 94/200\n",
            "26/26 [==============================] - 5s 202ms/step - loss: 0.0109 - accuracy: 0.9998 - val_loss: 0.4762 - val_accuracy: 0.9311\n",
            "Epoch 95/200\n",
            "26/26 [==============================] - 5s 210ms/step - loss: 0.0108 - accuracy: 0.9997 - val_loss: 0.5166 - val_accuracy: 0.9293\n",
            "Epoch 96/200\n",
            "26/26 [==============================] - 5s 193ms/step - loss: 0.0244 - accuracy: 0.9964 - val_loss: 0.3049 - val_accuracy: 0.9333\n",
            "Epoch 97/200\n",
            "26/26 [==============================] - 5s 187ms/step - loss: 0.0144 - accuracy: 0.9984 - val_loss: 0.4322 - val_accuracy: 0.9305\n",
            "Epoch 98/200\n",
            "26/26 [==============================] - 5s 188ms/step - loss: 0.0101 - accuracy: 0.9997 - val_loss: 0.4493 - val_accuracy: 0.9324\n",
            "Epoch 99/200\n",
            "26/26 [==============================] - 5s 188ms/step - loss: 0.0100 - accuracy: 0.9996 - val_loss: 0.4635 - val_accuracy: 0.9314\n",
            "Epoch 100/200\n",
            "26/26 [==============================] - 5s 198ms/step - loss: 0.0098 - accuracy: 0.9995 - val_loss: 0.4445 - val_accuracy: 0.9314\n",
            "Epoch 101/200\n",
            "26/26 [==============================] - 5s 206ms/step - loss: 0.0098 - accuracy: 0.9995 - val_loss: 0.4331 - val_accuracy: 0.9330\n",
            "Epoch 102/200\n",
            "26/26 [==============================] - 5s 185ms/step - loss: 0.0089 - accuracy: 0.9996 - val_loss: 0.4667 - val_accuracy: 0.9305\n",
            "Epoch 103/200\n",
            "26/26 [==============================] - 5s 200ms/step - loss: 0.0095 - accuracy: 0.9993 - val_loss: 0.4727 - val_accuracy: 0.9289\n",
            "Epoch 104/200\n",
            "26/26 [==============================] - 5s 190ms/step - loss: 0.0088 - accuracy: 0.9994 - val_loss: 0.4270 - val_accuracy: 0.9324\n",
            "Epoch 105/200\n",
            "26/26 [==============================] - 5s 183ms/step - loss: 0.0077 - accuracy: 0.9996 - val_loss: 0.4335 - val_accuracy: 0.9314\n",
            "Epoch 106/200\n",
            "26/26 [==============================] - 5s 205ms/step - loss: 0.0069 - accuracy: 0.9998 - val_loss: 0.4435 - val_accuracy: 0.9311\n",
            "Epoch 107/200\n",
            "26/26 [==============================] - 5s 185ms/step - loss: 0.0068 - accuracy: 0.9998 - val_loss: 0.4534 - val_accuracy: 0.9333\n",
            "Epoch 108/200\n",
            "26/26 [==============================] - 5s 209ms/step - loss: 0.0062 - accuracy: 0.9995 - val_loss: 0.4605 - val_accuracy: 0.9333\n",
            "Epoch 109/200\n",
            "26/26 [==============================] - 5s 195ms/step - loss: 0.0062 - accuracy: 0.9997 - val_loss: 0.4586 - val_accuracy: 0.9333\n",
            "Epoch 110/200\n",
            "26/26 [==============================] - 5s 185ms/step - loss: 0.0059 - accuracy: 0.9996 - val_loss: 0.4588 - val_accuracy: 0.9317\n",
            "Epoch 111/200\n",
            "26/26 [==============================] - 6s 222ms/step - loss: 0.0058 - accuracy: 0.9997 - val_loss: 0.4562 - val_accuracy: 0.9302\n",
            "Epoch 112/200\n",
            "26/26 [==============================] - 5s 188ms/step - loss: 0.0054 - accuracy: 0.9998 - val_loss: 0.4911 - val_accuracy: 0.9327\n",
            "Epoch 113/200\n",
            "26/26 [==============================] - 5s 188ms/step - loss: 0.0051 - accuracy: 0.9998 - val_loss: 0.4943 - val_accuracy: 0.9317\n",
            "Epoch 114/200\n",
            "26/26 [==============================] - 5s 201ms/step - loss: 0.0053 - accuracy: 0.9998 - val_loss: 0.4764 - val_accuracy: 0.9302\n",
            "Epoch 115/200\n",
            "26/26 [==============================] - 5s 184ms/step - loss: 0.0063 - accuracy: 0.9990 - val_loss: 0.4528 - val_accuracy: 0.9305\n",
            "Epoch 116/200\n",
            "26/26 [==============================] - 5s 194ms/step - loss: 0.0063 - accuracy: 0.9992 - val_loss: 0.4478 - val_accuracy: 0.9314\n",
            "Epoch 117/200\n",
            "26/26 [==============================] - 5s 193ms/step - loss: 0.0050 - accuracy: 0.9997 - val_loss: 0.4339 - val_accuracy: 0.9339\n",
            "Epoch 118/200\n",
            "26/26 [==============================] - 5s 198ms/step - loss: 0.0046 - accuracy: 0.9998 - val_loss: 0.4292 - val_accuracy: 0.9327\n",
            "Epoch 119/200\n",
            "26/26 [==============================] - 5s 189ms/step - loss: 0.0042 - accuracy: 0.9997 - val_loss: 0.4469 - val_accuracy: 0.9348\n",
            "Epoch 120/200\n",
            "26/26 [==============================] - 5s 199ms/step - loss: 0.0041 - accuracy: 0.9998 - val_loss: 0.4541 - val_accuracy: 0.9327\n",
            "Epoch 121/200\n",
            "26/26 [==============================] - 5s 193ms/step - loss: 0.0039 - accuracy: 0.9998 - val_loss: 0.4775 - val_accuracy: 0.9348\n",
            "Epoch 122/200\n",
            "26/26 [==============================] - 5s 208ms/step - loss: 0.0043 - accuracy: 0.9996 - val_loss: 0.4756 - val_accuracy: 0.9324\n",
            "Epoch 123/200\n",
            "26/26 [==============================] - 5s 194ms/step - loss: 0.0047 - accuracy: 0.9996 - val_loss: 0.4531 - val_accuracy: 0.9265\n",
            "Epoch 124/200\n",
            "26/26 [==============================] - 5s 188ms/step - loss: 0.0045 - accuracy: 0.9996 - val_loss: 0.4452 - val_accuracy: 0.9345\n",
            "Epoch 125/200\n",
            "26/26 [==============================] - 5s 199ms/step - loss: 0.0039 - accuracy: 0.9997 - val_loss: 0.4591 - val_accuracy: 0.9342\n",
            "Epoch 126/200\n",
            "26/26 [==============================] - 5s 184ms/step - loss: 0.0037 - accuracy: 0.9996 - val_loss: 0.4672 - val_accuracy: 0.9342\n",
            "Epoch 127/200\n",
            "26/26 [==============================] - 5s 201ms/step - loss: 0.0034 - accuracy: 0.9998 - val_loss: 0.5113 - val_accuracy: 0.9339\n",
            "Epoch 128/200\n",
            "26/26 [==============================] - 5s 189ms/step - loss: 0.0038 - accuracy: 0.9997 - val_loss: 0.5180 - val_accuracy: 0.9336\n",
            "Epoch 129/200\n",
            "26/26 [==============================] - 5s 182ms/step - loss: 0.0103 - accuracy: 0.9974 - val_loss: 0.4290 - val_accuracy: 0.9305\n",
            "Epoch 130/200\n",
            "26/26 [==============================] - 5s 190ms/step - loss: 0.0062 - accuracy: 0.9990 - val_loss: 0.4312 - val_accuracy: 0.9317\n",
            "Epoch 131/200\n",
            "26/26 [==============================] - 5s 201ms/step - loss: 0.0035 - accuracy: 0.9998 - val_loss: 0.4706 - val_accuracy: 0.9321\n",
            "Epoch 132/200\n",
            "26/26 [==============================] - 5s 195ms/step - loss: 0.0033 - accuracy: 0.9998 - val_loss: 0.4829 - val_accuracy: 0.9314\n",
            "Epoch 133/200\n",
            "26/26 [==============================] - 5s 203ms/step - loss: 0.0032 - accuracy: 0.9998 - val_loss: 0.4928 - val_accuracy: 0.9317\n",
            "Epoch 134/200\n",
            "26/26 [==============================] - 5s 194ms/step - loss: 0.0030 - accuracy: 0.9998 - val_loss: 0.5095 - val_accuracy: 0.9289\n",
            "Epoch 135/200\n",
            "26/26 [==============================] - 5s 190ms/step - loss: 0.0032 - accuracy: 0.9998 - val_loss: 0.4786 - val_accuracy: 0.9317\n",
            "Epoch 136/200\n",
            "26/26 [==============================] - 5s 196ms/step - loss: 0.0030 - accuracy: 0.9998 - val_loss: 0.4838 - val_accuracy: 0.9305\n",
            "Epoch 137/200\n",
            "26/26 [==============================] - 5s 193ms/step - loss: 0.0031 - accuracy: 0.9997 - val_loss: 0.4811 - val_accuracy: 0.9321\n",
            "Epoch 138/200\n",
            "26/26 [==============================] - 5s 194ms/step - loss: 0.0028 - accuracy: 0.9996 - val_loss: 0.4837 - val_accuracy: 0.9308\n",
            "Epoch 139/200\n",
            "26/26 [==============================] - 5s 190ms/step - loss: 0.0028 - accuracy: 0.9996 - val_loss: 0.4865 - val_accuracy: 0.9314\n",
            "Epoch 140/200\n",
            "26/26 [==============================] - 5s 186ms/step - loss: 0.0031 - accuracy: 0.9998 - val_loss: 0.4897 - val_accuracy: 0.9314\n",
            "Epoch 141/200\n",
            "26/26 [==============================] - 5s 207ms/step - loss: 0.0031 - accuracy: 0.9996 - val_loss: 0.4937 - val_accuracy: 0.9308\n",
            "Epoch 142/200\n",
            "26/26 [==============================] - 5s 189ms/step - loss: 0.0030 - accuracy: 0.9996 - val_loss: 0.4972 - val_accuracy: 0.9293\n",
            "Epoch 143/200\n",
            "26/26 [==============================] - 5s 196ms/step - loss: 0.0026 - accuracy: 0.9996 - val_loss: 0.4927 - val_accuracy: 0.9314\n",
            "Epoch 144/200\n",
            "26/26 [==============================] - 5s 201ms/step - loss: 0.0026 - accuracy: 0.9998 - val_loss: 0.5043 - val_accuracy: 0.9293\n",
            "Epoch 145/200\n",
            "26/26 [==============================] - 5s 180ms/step - loss: 0.0027 - accuracy: 0.9998 - val_loss: 0.5004 - val_accuracy: 0.9314\n",
            "Epoch 146/200\n",
            "26/26 [==============================] - 5s 199ms/step - loss: 0.0028 - accuracy: 0.9997 - val_loss: 0.5080 - val_accuracy: 0.9293\n",
            "Epoch 147/200\n",
            "26/26 [==============================] - 5s 186ms/step - loss: 0.0035 - accuracy: 0.9996 - val_loss: 0.4836 - val_accuracy: 0.9302\n",
            "Epoch 148/200\n",
            "26/26 [==============================] - 5s 190ms/step - loss: 0.0023 - accuracy: 0.9998 - val_loss: 0.4903 - val_accuracy: 0.9299\n",
            "Epoch 149/200\n",
            "26/26 [==============================] - 5s 202ms/step - loss: 0.0024 - accuracy: 0.9997 - val_loss: 0.4923 - val_accuracy: 0.9311\n",
            "Epoch 150/200\n",
            "26/26 [==============================] - 5s 205ms/step - loss: 0.0034 - accuracy: 0.9995 - val_loss: 0.5302 - val_accuracy: 0.9293\n",
            "Epoch 151/200\n",
            "26/26 [==============================] - 5s 193ms/step - loss: 0.0027 - accuracy: 0.9997 - val_loss: 0.5187 - val_accuracy: 0.9296\n",
            "Epoch 152/200\n",
            "26/26 [==============================] - 5s 200ms/step - loss: 0.0024 - accuracy: 0.9998 - val_loss: 0.5397 - val_accuracy: 0.9286\n",
            "Epoch 153/200\n",
            "26/26 [==============================] - 5s 185ms/step - loss: 0.0031 - accuracy: 0.9996 - val_loss: 0.5048 - val_accuracy: 0.9299\n",
            "Epoch 154/200\n",
            "26/26 [==============================] - 5s 182ms/step - loss: 0.0024 - accuracy: 0.9998 - val_loss: 0.5043 - val_accuracy: 0.9293\n",
            "Epoch 155/200\n",
            "26/26 [==============================] - 5s 198ms/step - loss: 0.0022 - accuracy: 0.9998 - val_loss: 0.5180 - val_accuracy: 0.9289\n",
            "Epoch 156/200\n",
            "26/26 [==============================] - 5s 199ms/step - loss: 0.0021 - accuracy: 0.9998 - val_loss: 0.5236 - val_accuracy: 0.9293\n",
            "Epoch 157/200\n",
            "26/26 [==============================] - 5s 193ms/step - loss: 0.0023 - accuracy: 0.9997 - val_loss: 0.5153 - val_accuracy: 0.9296\n",
            "Epoch 158/200\n",
            "26/26 [==============================] - 5s 196ms/step - loss: 0.0021 - accuracy: 0.9998 - val_loss: 0.5360 - val_accuracy: 0.9293\n",
            "Epoch 159/200\n",
            "26/26 [==============================] - 5s 185ms/step - loss: 0.0021 - accuracy: 0.9998 - val_loss: 0.5325 - val_accuracy: 0.9289\n",
            "Epoch 160/200\n",
            "26/26 [==============================] - 5s 198ms/step - loss: 0.0020 - accuracy: 0.9998 - val_loss: 0.5330 - val_accuracy: 0.9293\n",
            "Epoch 161/200\n",
            "26/26 [==============================] - 5s 179ms/step - loss: 0.0021 - accuracy: 0.9997 - val_loss: 0.5407 - val_accuracy: 0.9296\n",
            "Epoch 162/200\n",
            "26/26 [==============================] - 5s 184ms/step - loss: 0.0019 - accuracy: 0.9998 - val_loss: 0.5383 - val_accuracy: 0.9296\n",
            "Epoch 163/200\n",
            "26/26 [==============================] - 5s 190ms/step - loss: 0.0020 - accuracy: 0.9998 - val_loss: 0.5456 - val_accuracy: 0.9293\n",
            "Epoch 164/200\n",
            "26/26 [==============================] - 5s 186ms/step - loss: 0.0028 - accuracy: 0.9997 - val_loss: 0.5449 - val_accuracy: 0.9262\n",
            "Epoch 165/200\n",
            "26/26 [==============================] - 5s 193ms/step - loss: 0.0036 - accuracy: 0.9996 - val_loss: 0.5462 - val_accuracy: 0.9280\n",
            "Epoch 166/200\n",
            "26/26 [==============================] - 5s 188ms/step - loss: 0.0026 - accuracy: 0.9997 - val_loss: 0.5370 - val_accuracy: 0.9274\n",
            "Epoch 167/200\n",
            "26/26 [==============================] - 5s 178ms/step - loss: 0.0034 - accuracy: 0.9996 - val_loss: 0.5073 - val_accuracy: 0.9280\n",
            "Epoch 168/200\n",
            "26/26 [==============================] - 5s 188ms/step - loss: 0.0024 - accuracy: 0.9997 - val_loss: 0.5131 - val_accuracy: 0.9283\n",
            "Epoch 169/200\n",
            "26/26 [==============================] - 5s 206ms/step - loss: 0.0023 - accuracy: 0.9998 - val_loss: 0.5169 - val_accuracy: 0.9299\n",
            "Epoch 170/200\n",
            "26/26 [==============================] - 5s 194ms/step - loss: 0.0020 - accuracy: 0.9998 - val_loss: 0.5207 - val_accuracy: 0.9299\n",
            "Epoch 171/200\n",
            "26/26 [==============================] - 5s 197ms/step - loss: 0.0019 - accuracy: 0.9998 - val_loss: 0.5281 - val_accuracy: 0.9286\n",
            "Epoch 172/200\n",
            "26/26 [==============================] - 5s 184ms/step - loss: 0.0022 - accuracy: 0.9996 - val_loss: 0.5253 - val_accuracy: 0.9286\n",
            "Epoch 173/200\n",
            "26/26 [==============================] - 5s 177ms/step - loss: 0.0021 - accuracy: 0.9998 - val_loss: 0.5181 - val_accuracy: 0.9299\n",
            "Epoch 174/200\n",
            "26/26 [==============================] - 5s 189ms/step - loss: 0.0019 - accuracy: 0.9997 - val_loss: 0.5258 - val_accuracy: 0.9296\n",
            "Epoch 175/200\n",
            "26/26 [==============================] - 5s 182ms/step - loss: 0.0019 - accuracy: 0.9997 - val_loss: 0.5300 - val_accuracy: 0.9286\n",
            "Epoch 176/200\n",
            "26/26 [==============================] - 5s 193ms/step - loss: 0.0018 - accuracy: 0.9997 - val_loss: 0.5370 - val_accuracy: 0.9296\n",
            "Epoch 177/200\n",
            "26/26 [==============================] - 5s 203ms/step - loss: 0.0019 - accuracy: 0.9997 - val_loss: 0.5428 - val_accuracy: 0.9289\n",
            "Epoch 178/200\n",
            "26/26 [==============================] - 5s 181ms/step - loss: 0.0019 - accuracy: 0.9998 - val_loss: 0.5576 - val_accuracy: 0.9293\n",
            "Epoch 179/200\n",
            "26/26 [==============================] - 5s 189ms/step - loss: 0.0020 - accuracy: 0.9996 - val_loss: 0.5541 - val_accuracy: 0.9296\n",
            "Epoch 180/200\n",
            "26/26 [==============================] - 5s 186ms/step - loss: 0.0017 - accuracy: 0.9997 - val_loss: 0.5628 - val_accuracy: 0.9289\n",
            "Epoch 181/200\n",
            "26/26 [==============================] - 5s 183ms/step - loss: 0.0015 - accuracy: 0.9998 - val_loss: 0.5603 - val_accuracy: 0.9289\n",
            "Epoch 182/200\n",
            "26/26 [==============================] - 5s 195ms/step - loss: 0.0018 - accuracy: 0.9996 - val_loss: 0.5668 - val_accuracy: 0.9302\n",
            "Epoch 183/200\n",
            "26/26 [==============================] - 5s 197ms/step - loss: 0.0018 - accuracy: 0.9997 - val_loss: 0.5762 - val_accuracy: 0.9299\n",
            "Epoch 184/200\n",
            "26/26 [==============================] - 5s 192ms/step - loss: 0.0016 - accuracy: 0.9998 - val_loss: 0.5571 - val_accuracy: 0.9271\n",
            "Epoch 185/200\n",
            "26/26 [==============================] - 5s 198ms/step - loss: 0.0016 - accuracy: 0.9998 - val_loss: 0.5605 - val_accuracy: 0.9286\n",
            "Epoch 186/200\n",
            "26/26 [==============================] - 5s 190ms/step - loss: 0.0017 - accuracy: 0.9998 - val_loss: 0.5646 - val_accuracy: 0.9286\n",
            "Epoch 187/200\n",
            "26/26 [==============================] - 5s 184ms/step - loss: 0.0017 - accuracy: 0.9998 - val_loss: 0.5787 - val_accuracy: 0.9305\n",
            "Epoch 188/200\n",
            "26/26 [==============================] - 5s 207ms/step - loss: 0.0016 - accuracy: 0.9998 - val_loss: 0.5602 - val_accuracy: 0.9274\n",
            "Epoch 189/200\n",
            "26/26 [==============================] - 5s 190ms/step - loss: 0.0017 - accuracy: 0.9998 - val_loss: 0.5580 - val_accuracy: 0.9277\n",
            "Epoch 190/200\n",
            "26/26 [==============================] - 5s 195ms/step - loss: 0.0017 - accuracy: 0.9997 - val_loss: 0.5695 - val_accuracy: 0.9289\n",
            "Epoch 191/200\n",
            "26/26 [==============================] - 5s 207ms/step - loss: 0.0018 - accuracy: 0.9997 - val_loss: 0.5674 - val_accuracy: 0.9293\n",
            "Epoch 192/200\n",
            "26/26 [==============================] - 5s 185ms/step - loss: 0.0016 - accuracy: 0.9998 - val_loss: 0.5761 - val_accuracy: 0.9296\n",
            "Epoch 193/200\n",
            "26/26 [==============================] - 5s 184ms/step - loss: 0.0015 - accuracy: 0.9998 - val_loss: 0.5673 - val_accuracy: 0.9277\n",
            "Epoch 194/200\n",
            "26/26 [==============================] - 5s 205ms/step - loss: 0.0014 - accuracy: 0.9998 - val_loss: 0.5685 - val_accuracy: 0.9274\n",
            "Epoch 195/200\n",
            "26/26 [==============================] - 5s 180ms/step - loss: 0.0017 - accuracy: 0.9998 - val_loss: 0.5814 - val_accuracy: 0.9302\n",
            "Epoch 196/200\n",
            "26/26 [==============================] - 5s 202ms/step - loss: 0.0015 - accuracy: 0.9998 - val_loss: 0.5670 - val_accuracy: 0.9277\n",
            "Epoch 197/200\n",
            "26/26 [==============================] - 5s 201ms/step - loss: 0.0015 - accuracy: 0.9998 - val_loss: 0.5891 - val_accuracy: 0.9293\n",
            "Epoch 198/200\n",
            "26/26 [==============================] - 5s 194ms/step - loss: 0.0017 - accuracy: 0.9997 - val_loss: 0.5811 - val_accuracy: 0.9271\n",
            "Epoch 199/200\n",
            "26/26 [==============================] - 5s 195ms/step - loss: 0.0017 - accuracy: 0.9996 - val_loss: 0.5789 - val_accuracy: 0.9280\n",
            "Epoch 200/200\n",
            "26/26 [==============================] - 5s 189ms/step - loss: 0.0017 - accuracy: 0.9997 - val_loss: 0.5732 - val_accuracy: 0.9268\n"
          ]
        }
      ]
    },
    {
      "cell_type": "code",
      "source": [
        "import matplotlib.pyplot as plt"
      ],
      "metadata": {
        "id": "zAXW3tqNhc70"
      },
      "execution_count": 24,
      "outputs": []
    },
    {
      "cell_type": "code",
      "source": [
        "print(history.history.keys())\n",
        "loss = history.history['loss']\n",
        "val_loss = history.history['val_loss']\n",
        "plt.plot(loss)\n",
        "plt.plot(val_loss)\n",
        "plt.title('model loss')\n",
        "plt.ylabel('loss')\n",
        "plt.xlabel('epoch')\n",
        "plt.legend(['loss', 'val_loss'])\n",
        "plt.show()\n",
        "\n",
        "accuracy = history.history['accuracy']\n",
        "val_accuracy= history.history['val_accuracy']\n",
        "plt.plot(accuracy)\n",
        "plt.plot(val_accuracy)\n",
        "plt.title('model accuracy')\n",
        "plt.ylabel('accuracy')\n",
        "plt.xlabel('epoch')\n",
        "plt.legend(['accuracy', 'val_accuracy'])\n",
        "plt.show()"
      ],
      "metadata": {
        "colab": {
          "base_uri": "https://localhost:8080/",
          "height": 944
        },
        "id": "DH3honh7hgDE",
        "outputId": "494e8e4b-1ed0-47d2-f04a-661809ef06cd"
      },
      "execution_count": 25,
      "outputs": [
        {
          "output_type": "stream",
          "name": "stdout",
          "text": [
            "dict_keys(['loss', 'accuracy', 'val_loss', 'val_accuracy'])\n"
          ]
        },
        {
          "output_type": "display_data",
          "data": {
            "text/plain": [
              "<Figure size 640x480 with 1 Axes>"
            ],
            "image/png": "[encoded data removed]"
          },
          "metadata": {}
        },
        {
          "output_type": "display_data",
          "data": {
            "text/plain": [
              "<Figure size 640x480 with 1 Axes>"
            ],
            "image/png": "[encoded data removed]"
          },
          "metadata": {}
        }
      ]
    },
    {
      "cell_type": "code",
      "source": [
        "model.save_weights('model_weights_sentiment_94%.h5')"
      ],
      "metadata": {
        "id": "qnoX1KZyhibL"
      },
      "execution_count": 26,
      "outputs": []
    },
    {
      "cell_type": "code",
      "source": [],
      "metadata": {
        "id": "jCQIyFTTpKBX"
      },
      "execution_count": null,
      "outputs": []
    },
    {
      "cell_type": "code",
      "source": [
        "twt = [input()]\n",
        "#twt\n",
        "#vectorizing the tweet by the pre-fitted tokenizer instance\n",
        "twt = tokenizer.texts_to_sequences(twt)\n",
        "#padding the tweet to have exactly the same shape as `embedding_2` input\n",
        "twt = pad_sequences(twt, maxlen=200, dtype='int32', value=0)\n",
        "#print(twt)\n",
        "\n",
        "sentiment = model.predict(twt,batch_size=1,verbose = 2)[0]\n",
        "if(np.argmax(sentiment) == 0):\n",
        "    print(\"negative\")\n",
        "elif (np.argmax(sentiment) == 1):\n",
        "    print(\"positive\")"
      ],
      "metadata": {
        "id": "Qpzg7pnRiRkO"
      },
      "execution_count": null,
      "outputs": []
    },
    {
      "cell_type": "code",
      "source": [],
      "metadata": {
        "id": "XKFmtCboVqo5"
      },
      "execution_count": null,
      "outputs": []
    }
  ]
}