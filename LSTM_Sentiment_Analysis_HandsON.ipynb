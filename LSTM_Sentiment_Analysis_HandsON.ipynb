{
  "nbformat": 4,
  "nbformat_minor": 0,
  "metadata": {
    "colab": {
      "provenance": [],
      "gpuType": "T4"
    },
    "kernelspec": {
      "name": "python3",
      "display_name": "Python 3"
    },
    "language_info": {
      "name": "python"
    },
    "accelerator": "GPU"
  },
  "cells": [
    {
      "cell_type": "code",
      "execution_count": null,
      "metadata": {
        "colab": {
          "base_uri": "https://localhost:8080/"
        },
        "id": "ub7wUDqb9QXe",
        "outputId": "7fbfb04e-8862-4795-e76a-e7ef244c1f8d"
      },
      "outputs": [
        {
          "output_type": "stream",
          "name": "stdout",
          "text": [
            "Cloning into 'Bangla-Sentiment-Analysis'...\n",
            "remote: Enumerating objects: 14, done.\u001b[K\n",
            "remote: Counting objects: 100% (14/14), done.\u001b[K\n",
            "remote: Compressing objects: 100% (12/12), done.\u001b[K\n",
            "remote: Total 14 (delta 1), reused 0 (delta 0), pack-reused 0\u001b[K\n",
            "Receiving objects: 100% (14/14), 2.44 MiB | 4.52 MiB/s, done.\n",
            "Resolving deltas: 100% (1/1), done.\n"
          ]
        }
      ],
      "source": [
        "!git clone https://github.com/mahedishato/Bangla-Sentiment-Analysis.git"
      ]
    },
    {
      "cell_type": "code",
      "source": [
        "import pandas as pd, numpy as np, plotly.express as px, seaborn as sns, re\n",
        "from sklearn.model_selection import train_test_split\n",
        "import keras"
      ],
      "metadata": {
        "id": "bys8cHbddvz_"
      },
      "execution_count": 1,
      "outputs": []
    },
    {
      "cell_type": "code",
      "source": [
        "from keras.preprocessing.text import Tokenizer"
      ],
      "metadata": {
        "id": "4wEqzb6_dxbE"
      },
      "execution_count": 2,
      "outputs": []
    },
    {
      "cell_type": "code",
      "source": [
        "def text_to_word_list(text):\n",
        "    text = text.split()\n",
        "    return text\n",
        "\n",
        "def replace_strings(text):\n",
        "    emoji_pattern = re.compile(\"[\"\n",
        "                           u\"\\U0001F600-\\U0001F64F\"  # emoticons\n",
        "                           u\"\\U0001F300-\\U0001F5FF\"  # symbols & pictographs\n",
        "                           u\"\\U0001F680-\\U0001F6FF\"  # transport & map symbols\n",
        "                           u\"\\U0001F1E0-\\U0001F1FF\"  # flags (iOS)\n",
        "                           u\"\\U00002702-\\U000027B0\"\n",
        "                           u\"\\U000024C2-\\U0001F251\"\n",
        "                           u\"\\u00C0-\\u017F\"          #latin\n",
        "                           u\"\\u2000-\\u206F\"          #generalPunctuations\n",
        "\n",
        "                           \"]+\", flags=re.UNICODE)\n",
        "    english_pattern=re.compile('[a-zA-Z0-9]+', flags=re.I)\n",
        "    #latin_pattern=re.compile('[A-Za-z\\u00C0-\\u00D6\\u00D8-\\u00f6\\u00f8-\\u00ff\\s]*',)\n",
        "\n",
        "    text=emoji_pattern.sub(r'', text)\n",
        "    text=english_pattern.sub(r'', text)\n",
        "\n",
        "    return text\n",
        "\n",
        "def remove_punctuations(my_str):\n",
        "    # define punctuation\n",
        "    punctuations = '''````£|¢|Ñ+-*/=EROero৳০১২৩৪৫৬৭৮৯012–34567•89।!()-[]{};:'\"“\\’,<>./?@#$%^&*_~‘—॥”‰⚽️✌�￰৷￰'''\n",
        "\n",
        "    no_punct = \"\"\n",
        "    for char in my_str:\n",
        "        if char not in punctuations:\n",
        "            no_punct = no_punct + char\n",
        "\n",
        "    # display the unpunctuated string\n",
        "    return no_punct\n",
        "\n",
        "\n",
        "\n",
        "def joining(text):\n",
        "    out=' '.join(text)\n",
        "    return out\n",
        "\n",
        "def preprocessing(text):\n",
        "    out=remove_punctuations(replace_strings(text))\n",
        "    return out"
      ],
      "metadata": {
        "id": "QIuINUHBd5g1"
      },
      "execution_count": 3,
      "outputs": []
    },
    {
      "cell_type": "code",
      "source": [
        "df = pd.read_csv('/content/file1.csv')\n",
        "display(df)"
      ],
      "metadata": {
        "colab": {
          "base_uri": "https://localhost:8080/",
          "height": 423
        },
        "id": "imqV_UPJeDRq",
        "outputId": "4fafa359-eabc-487c-eede-8d194afc6cb5"
      },
      "execution_count": 5,
      "outputs": [
        {
          "output_type": "display_data",
          "data": {
            "text/plain": [
              "      Unnamed: 0.1  Unnamed: 0  Unnamed: 1  Unnamed: 2  \\\n",
              "0                0         0.0         NaN         NaN   \n",
              "1                1         1.0         NaN         NaN   \n",
              "2                2         2.0         NaN         NaN   \n",
              "3                3         3.0         NaN         NaN   \n",
              "4                4         4.0         NaN         NaN   \n",
              "...            ...         ...         ...         ...   \n",
              "7382           730         NaN         NaN         NaN   \n",
              "7383           731         NaN         NaN         NaN   \n",
              "7384           732         NaN         NaN         NaN   \n",
              "7385           733         NaN         NaN         NaN   \n",
              "7386           734         NaN         NaN         NaN   \n",
              "\n",
              "                                               sentence  sentiment  \n",
              "0                               ওয়ও আমি গর্বিত বাঙ্গালি          1  \n",
              "1     বাংলাদেশ এর কিছু মানুষ নিজে কিছু করতে পারবেনা ...          0  \n",
              "2                                    রামোসের ঘুম আসে না          0  \n",
              "3                     কোহলির প্রতি শ্রদ্ধা হারিয়ে ফেলছি          1  \n",
              "4     থ্যাঙ্ক ইউ মাছরাঙ্গা টেলিভিশনকিন্তু ছাপোষা আন্...          0  \n",
              "...                                                 ...        ...  \n",
              "7382                             ভালোবাসি ভাই অনেক বেশী          1  \n",
              "7383                               তোমারে ভাই অনেক বেশী          1  \n",
              "7384                                  কসম ভাই অনেক বেশী          1  \n",
              "7385                               তোমায় ভাই অনেক বেশী          1  \n",
              "7386                                 তোকে ভাই অনেক বেশী          1  \n",
              "\n",
              "[7387 rows x 6 columns]"
            ],
            "text/html": [
              "\n",
              "  <div id=\"df-ed970715-fe51-4e02-aeb3-fcfb3165f87c\" class=\"colab-df-container\">\n",
              "    <div>\n",
              "<style scoped>\n",
              "    .dataframe tbody tr th:only-of-type {\n",
              "        vertical-align: middle;\n",
              "    }\n",
              "\n",
              "    .dataframe tbody tr th {\n",
              "        vertical-align: top;\n",
              "    }\n",
              "\n",
              "    .dataframe thead th {\n",
              "        text-align: right;\n",
              "    }\n",
              "</style>\n",
              "<table border=\"1\" class=\"dataframe\">\n",
              "  <thead>\n",
              "    <tr style=\"text-align: right;\">\n",
              "      <th></th>\n",
              "      <th>Unnamed: 0.1</th>\n",
              "      <th>Unnamed: 0</th>\n",
              "      <th>Unnamed: 1</th>\n",
              "      <th>Unnamed: 2</th>\n",
              "      <th>sentence</th>\n",
              "      <th>sentiment</th>\n",
              "    </tr>\n",
              "  </thead>\n",
              "  <tbody>\n",
              "    <tr>\n",
              "      <th>0</th>\n",
              "      <td>0</td>\n",
              "      <td>0.0</td>\n",
              "      <td>NaN</td>\n",
              "      <td>NaN</td>\n",
              "      <td>ওয়ও আমি গর্বিত বাঙ্গালি</td>\n",
              "      <td>1</td>\n",
              "    </tr>\n",
              "    <tr>\n",
              "      <th>1</th>\n",
              "      <td>1</td>\n",
              "      <td>1.0</td>\n",
              "      <td>NaN</td>\n",
              "      <td>NaN</td>\n",
              "      <td>বাংলাদেশ এর কিছু মানুষ নিজে কিছু করতে পারবেনা ...</td>\n",
              "      <td>0</td>\n",
              "    </tr>\n",
              "    <tr>\n",
              "      <th>2</th>\n",
              "      <td>2</td>\n",
              "      <td>2.0</td>\n",
              "      <td>NaN</td>\n",
              "      <td>NaN</td>\n",
              "      <td>রামোসের ঘুম আসে না</td>\n",
              "      <td>0</td>\n",
              "    </tr>\n",
              "    <tr>\n",
              "      <th>3</th>\n",
              "      <td>3</td>\n",
              "      <td>3.0</td>\n",
              "      <td>NaN</td>\n",
              "      <td>NaN</td>\n",
              "      <td>কোহলির প্রতি শ্রদ্ধা হারিয়ে ফেলছি</td>\n",
              "      <td>1</td>\n",
              "    </tr>\n",
              "    <tr>\n",
              "      <th>4</th>\n",
              "      <td>4</td>\n",
              "      <td>4.0</td>\n",
              "      <td>NaN</td>\n",
              "      <td>NaN</td>\n",
              "      <td>থ্যাঙ্ক ইউ মাছরাঙ্গা টেলিভিশনকিন্তু ছাপোষা আন্...</td>\n",
              "      <td>0</td>\n",
              "    </tr>\n",
              "    <tr>\n",
              "      <th>...</th>\n",
              "      <td>...</td>\n",
              "      <td>...</td>\n",
              "      <td>...</td>\n",
              "      <td>...</td>\n",
              "      <td>...</td>\n",
              "      <td>...</td>\n",
              "    </tr>\n",
              "    <tr>\n",
              "      <th>7382</th>\n",
              "      <td>730</td>\n",
              "      <td>NaN</td>\n",
              "      <td>NaN</td>\n",
              "      <td>NaN</td>\n",
              "      <td>ভালোবাসি ভাই অনেক বেশী</td>\n",
              "      <td>1</td>\n",
              "    </tr>\n",
              "    <tr>\n",
              "      <th>7383</th>\n",
              "      <td>731</td>\n",
              "      <td>NaN</td>\n",
              "      <td>NaN</td>\n",
              "      <td>NaN</td>\n",
              "      <td>তোমারে ভাই অনেক বেশী</td>\n",
              "      <td>1</td>\n",
              "    </tr>\n",
              "    <tr>\n",
              "      <th>7384</th>\n",
              "      <td>732</td>\n",
              "      <td>NaN</td>\n",
              "      <td>NaN</td>\n",
              "      <td>NaN</td>\n",
              "      <td>কসম ভাই অনেক বেশী</td>\n",
              "      <td>1</td>\n",
              "    </tr>\n",
              "    <tr>\n",
              "      <th>7385</th>\n",
              "      <td>733</td>\n",
              "      <td>NaN</td>\n",
              "      <td>NaN</td>\n",
              "      <td>NaN</td>\n",
              "      <td>তোমায় ভাই অনেক বেশী</td>\n",
              "      <td>1</td>\n",
              "    </tr>\n",
              "    <tr>\n",
              "      <th>7386</th>\n",
              "      <td>734</td>\n",
              "      <td>NaN</td>\n",
              "      <td>NaN</td>\n",
              "      <td>NaN</td>\n",
              "      <td>তোকে ভাই অনেক বেশী</td>\n",
              "      <td>1</td>\n",
              "    </tr>\n",
              "  </tbody>\n",
              "</table>\n",
              "<p>7387 rows × 6 columns</p>\n",
              "</div>\n",
              "    <div class=\"colab-df-buttons\">\n",
              "\n",
              "  <div class=\"colab-df-container\">\n",
              "    <button class=\"colab-df-convert\" onclick=\"convertToInteractive('df-ed970715-fe51-4e02-aeb3-fcfb3165f87c')\"\n",
              "            title=\"Convert this dataframe to an interactive table.\"\n",
              "            style=\"display:none;\">\n",
              "\n",
              "  <svg xmlns=\"http://www.w3.org/2000/svg\" height=\"24px\" viewBox=\"0 -960 960 960\">\n",
              "    <path d=\"M120-120v-720h720v720H120Zm60-500h600v-160H180v160Zm220 220h160v-160H400v160Zm0 220h160v-160H400v160ZM180-400h160v-160H180v160Zm440 0h160v-160H620v160ZM180-180h160v-160H180v160Zm440 0h160v-160H620v160Z\"/>\n",
              "  </svg>\n",
              "    </button>\n",
              "\n",
              "  <style>\n",
              "    .colab-df-container {\n",
              "      display:flex;\n",
              "      gap: 12px;\n",
              "    }\n",
              "\n",
              "    .colab-df-convert {\n",
              "      background-color: #E8F0FE;\n",
              "      border: none;\n",
              "      border-radius: 50%;\n",
              "      cursor: pointer;\n",
              "      display: none;\n",
              "      fill: #1967D2;\n",
              "      height: 32px;\n",
              "      padding: 0 0 0 0;\n",
              "      width: 32px;\n",
              "    }\n",
              "\n",
              "    .colab-df-convert:hover {\n",
              "      background-color: #E2EBFA;\n",
              "      box-shadow: 0px 1px 2px rgba(60, 64, 67, 0.3), 0px 1px 3px 1px rgba(60, 64, 67, 0.15);\n",
              "      fill: #174EA6;\n",
              "    }\n",
              "\n",
              "    .colab-df-buttons div {\n",
              "      margin-bottom: 4px;\n",
              "    }\n",
              "\n",
              "    [theme=dark] .colab-df-convert {\n",
              "      background-color: #3B4455;\n",
              "      fill: #D2E3FC;\n",
              "    }\n",
              "\n",
              "    [theme=dark] .colab-df-convert:hover {\n",
              "      background-color: #434B5C;\n",
              "      box-shadow: 0px 1px 3px 1px rgba(0, 0, 0, 0.15);\n",
              "      filter: drop-shadow(0px 1px 2px rgba(0, 0, 0, 0.3));\n",
              "      fill: #FFFFFF;\n",
              "    }\n",
              "  </style>\n",
              "\n",
              "    <script>\n",
              "      const buttonEl =\n",
              "        document.querySelector('#df-ed970715-fe51-4e02-aeb3-fcfb3165f87c button.colab-df-convert');\n",
              "      buttonEl.style.display =\n",
              "        google.colab.kernel.accessAllowed ? 'block' : 'none';\n",
              "\n",
              "      async function convertToInteractive(key) {\n",
              "        const element = document.querySelector('#df-ed970715-fe51-4e02-aeb3-fcfb3165f87c');\n",
              "        const dataTable =\n",
              "          await google.colab.kernel.invokeFunction('convertToInteractive',\n",
              "                                                    [key], {});\n",
              "        if (!dataTable) return;\n",
              "\n",
              "        const docLinkHtml = 'Like what you see? Visit the ' +\n",
              "          '<a target=\"_blank\" href=https://colab.research.google.com/notebooks/data_table.ipynb>data table notebook</a>'\n",
              "          + ' to learn more about interactive tables.';\n",
              "        element.innerHTML = '';\n",
              "        dataTable['output_type'] = 'display_data';\n",
              "        await google.colab.output.renderOutput(dataTable, element);\n",
              "        const docLink = document.createElement('div');\n",
              "        docLink.innerHTML = docLinkHtml;\n",
              "        element.appendChild(docLink);\n",
              "      }\n",
              "    </script>\n",
              "  </div>\n",
              "\n",
              "\n",
              "<div id=\"df-2e66b1b7-aeee-44fb-8323-d3e97499fcbd\">\n",
              "  <button class=\"colab-df-quickchart\" onclick=\"quickchart('df-2e66b1b7-aeee-44fb-8323-d3e97499fcbd')\"\n",
              "            title=\"Suggest charts\"\n",
              "            style=\"display:none;\">\n",
              "\n",
              "<svg xmlns=\"http://www.w3.org/2000/svg\" height=\"24px\"viewBox=\"0 0 24 24\"\n",
              "     width=\"24px\">\n",
              "    <g>\n",
              "        <path d=\"M19 3H5c-1.1 0-2 .9-2 2v14c0 1.1.9 2 2 2h14c1.1 0 2-.9 2-2V5c0-1.1-.9-2-2-2zM9 17H7v-7h2v7zm4 0h-2V7h2v10zm4 0h-2v-4h2v4z\"/>\n",
              "    </g>\n",
              "</svg>\n",
              "  </button>\n",
              "\n",
              "<style>\n",
              "  .colab-df-quickchart {\n",
              "      --bg-color: #E8F0FE;\n",
              "      --fill-color: #1967D2;\n",
              "      --hover-bg-color: #E2EBFA;\n",
              "      --hover-fill-color: #174EA6;\n",
              "      --disabled-fill-color: #AAA;\n",
              "      --disabled-bg-color: #DDD;\n",
              "  }\n",
              "\n",
              "  [theme=dark] .colab-df-quickchart {\n",
              "      --bg-color: #3B4455;\n",
              "      --fill-color: #D2E3FC;\n",
              "      --hover-bg-color: #434B5C;\n",
              "      --hover-fill-color: #FFFFFF;\n",
              "      --disabled-bg-color: #3B4455;\n",
              "      --disabled-fill-color: #666;\n",
              "  }\n",
              "\n",
              "  .colab-df-quickchart {\n",
              "    background-color: var(--bg-color);\n",
              "    border: none;\n",
              "    border-radius: 50%;\n",
              "    cursor: pointer;\n",
              "    display: none;\n",
              "    fill: var(--fill-color);\n",
              "    height: 32px;\n",
              "    padding: 0;\n",
              "    width: 32px;\n",
              "  }\n",
              "\n",
              "  .colab-df-quickchart:hover {\n",
              "    background-color: var(--hover-bg-color);\n",
              "    box-shadow: 0 1px 2px rgba(60, 64, 67, 0.3), 0 1px 3px 1px rgba(60, 64, 67, 0.15);\n",
              "    fill: var(--button-hover-fill-color);\n",
              "  }\n",
              "\n",
              "  .colab-df-quickchart-complete:disabled,\n",
              "  .colab-df-quickchart-complete:disabled:hover {\n",
              "    background-color: var(--disabled-bg-color);\n",
              "    fill: var(--disabled-fill-color);\n",
              "    box-shadow: none;\n",
              "  }\n",
              "\n",
              "  .colab-df-spinner {\n",
              "    border: 2px solid var(--fill-color);\n",
              "    border-color: transparent;\n",
              "    border-bottom-color: var(--fill-color);\n",
              "    animation:\n",
              "      spin 1s steps(1) infinite;\n",
              "  }\n",
              "\n",
              "  @keyframes spin {\n",
              "    0% {\n",
              "      border-color: transparent;\n",
              "      border-bottom-color: var(--fill-color);\n",
              "      border-left-color: var(--fill-color);\n",
              "    }\n",
              "    20% {\n",
              "      border-color: transparent;\n",
              "      border-left-color: var(--fill-color);\n",
              "      border-top-color: var(--fill-color);\n",
              "    }\n",
              "    30% {\n",
              "      border-color: transparent;\n",
              "      border-left-color: var(--fill-color);\n",
              "      border-top-color: var(--fill-color);\n",
              "      border-right-color: var(--fill-color);\n",
              "    }\n",
              "    40% {\n",
              "      border-color: transparent;\n",
              "      border-right-color: var(--fill-color);\n",
              "      border-top-color: var(--fill-color);\n",
              "    }\n",
              "    60% {\n",
              "      border-color: transparent;\n",
              "      border-right-color: var(--fill-color);\n",
              "    }\n",
              "    80% {\n",
              "      border-color: transparent;\n",
              "      border-right-color: var(--fill-color);\n",
              "      border-bottom-color: var(--fill-color);\n",
              "    }\n",
              "    90% {\n",
              "      border-color: transparent;\n",
              "      border-bottom-color: var(--fill-color);\n",
              "    }\n",
              "  }\n",
              "</style>\n",
              "\n",
              "  <script>\n",
              "    async function quickchart(key) {\n",
              "      const quickchartButtonEl =\n",
              "        document.querySelector('#' + key + ' button');\n",
              "      quickchartButtonEl.disabled = true;  // To prevent multiple clicks.\n",
              "      quickchartButtonEl.classList.add('colab-df-spinner');\n",
              "      try {\n",
              "        const charts = await google.colab.kernel.invokeFunction(\n",
              "            'suggestCharts', [key], {});\n",
              "      } catch (error) {\n",
              "        console.error('Error during call to suggestCharts:', error);\n",
              "      }\n",
              "      quickchartButtonEl.classList.remove('colab-df-spinner');\n",
              "      quickchartButtonEl.classList.add('colab-df-quickchart-complete');\n",
              "    }\n",
              "    (() => {\n",
              "      let quickchartButtonEl =\n",
              "        document.querySelector('#df-2e66b1b7-aeee-44fb-8323-d3e97499fcbd button');\n",
              "      quickchartButtonEl.style.display =\n",
              "        google.colab.kernel.accessAllowed ? 'block' : 'none';\n",
              "    })();\n",
              "  </script>\n",
              "</div>\n",
              "    </div>\n",
              "  </div>\n"
            ]
          },
          "metadata": {}
        }
      ]
    },
    {
      "cell_type": "code",
      "source": [
        "df.shape"
      ],
      "metadata": {
        "colab": {
          "base_uri": "https://localhost:8080/"
        },
        "id": "jwffhZDKeJgN",
        "outputId": "cba2668a-6c0e-43e3-eb43-3f35f29d1357"
      },
      "execution_count": 6,
      "outputs": [
        {
          "output_type": "execute_result",
          "data": {
            "text/plain": [
              "(7387, 6)"
            ]
          },
          "metadata": {},
          "execution_count": 6
        }
      ]
    },
    {
      "cell_type": "code",
      "source": [
        "# Display general information about the DataFrame\n",
        "print(\"DataFrame Information:\")\n",
        "print(df.info())\n",
        "\n",
        "# Display the number of rows and columns in the DataFrame\n",
        "print(\"\\nDataFrame Shape:\")\n",
        "print(df.shape)\n",
        "\n",
        "# Display the total number of elements in the DataFrame\n",
        "print(\"\\nDataFrame Size:\")\n",
        "print(df.size)\n",
        "\n",
        "# Display descriptive statistics of the DataFrame\n",
        "print(\"\\nDataFrame Descriptive Statistics:\")\n",
        "print(df.describe())\n",
        "\n",
        "# Display the first few rows of the DataFrame\n",
        "print(\"\\nFirst few rows of the DataFrame:\")\n",
        "print(df.head())\n",
        "\n",
        "# Display the last few rows of the DataFrame\n",
        "print(\"\\nLast few rows of the DataFrame:\")\n",
        "print(df.tail())"
      ],
      "metadata": {
        "colab": {
          "base_uri": "https://localhost:8080/"
        },
        "id": "Gmqfx-K6eNzb",
        "outputId": "4a0801de-e719-48da-fe7a-50e3f64e560a"
      },
      "execution_count": 7,
      "outputs": [
        {
          "output_type": "stream",
          "name": "stdout",
          "text": [
            "DataFrame Information:\n",
            "<class 'pandas.core.frame.DataFrame'>\n",
            "RangeIndex: 7387 entries, 0 to 7386\n",
            "Data columns (total 6 columns):\n",
            " #   Column        Non-Null Count  Dtype  \n",
            "---  ------        --------------  -----  \n",
            " 0   Unnamed: 0.1  7387 non-null   int64  \n",
            " 1   Unnamed: 0    6652 non-null   float64\n",
            " 2   Unnamed: 1    0 non-null      float64\n",
            " 3   Unnamed: 2    0 non-null      float64\n",
            " 4   sentence      7387 non-null   object \n",
            " 5   sentiment     7387 non-null   int64  \n",
            "dtypes: float64(3), int64(2), object(1)\n",
            "memory usage: 346.4+ KB\n",
            "None\n",
            "\n",
            "DataFrame Shape:\n",
            "(7387, 6)\n",
            "\n",
            "DataFrame Size:\n",
            "44322\n",
            "\n",
            "DataFrame Descriptive Statistics:\n",
            "       Unnamed: 0.1   Unnamed: 0  Unnamed: 1  Unnamed: 2    sentiment\n",
            "count   7387.000000  6652.000000         0.0         0.0  7387.000000\n",
            "mean    3031.131853  3325.500000         NaN         NaN     0.453770\n",
            "std     2027.264391  1920.411327         NaN         NaN     0.497892\n",
            "min        0.000000     0.000000         NaN         NaN     0.000000\n",
            "25%     1111.500000  1662.750000         NaN         NaN     0.000000\n",
            "50%     2958.000000  3325.500000         NaN         NaN     0.000000\n",
            "75%     4804.500000  4988.250000         NaN         NaN     1.000000\n",
            "max     6651.000000  6651.000000         NaN         NaN     1.000000\n",
            "\n",
            "First few rows of the DataFrame:\n",
            "   Unnamed: 0.1  Unnamed: 0  Unnamed: 1  Unnamed: 2  \\\n",
            "0             0         0.0         NaN         NaN   \n",
            "1             1         1.0         NaN         NaN   \n",
            "2             2         2.0         NaN         NaN   \n",
            "3             3         3.0         NaN         NaN   \n",
            "4             4         4.0         NaN         NaN   \n",
            "\n",
            "                                            sentence  sentiment  \n",
            "0                            ওয়ও আমি গর্বিত বাঙ্গালি          1  \n",
            "1  বাংলাদেশ এর কিছু মানুষ নিজে কিছু করতে পারবেনা ...          0  \n",
            "2                                 রামোসের ঘুম আসে না          0  \n",
            "3                  কোহলির প্রতি শ্রদ্ধা হারিয়ে ফেলছি          1  \n",
            "4  থ্যাঙ্ক ইউ মাছরাঙ্গা টেলিভিশনকিন্তু ছাপোষা আন্...          0  \n",
            "\n",
            "Last few rows of the DataFrame:\n",
            "      Unnamed: 0.1  Unnamed: 0  Unnamed: 1  Unnamed: 2  \\\n",
            "7382           730         NaN         NaN         NaN   \n",
            "7383           731         NaN         NaN         NaN   \n",
            "7384           732         NaN         NaN         NaN   \n",
            "7385           733         NaN         NaN         NaN   \n",
            "7386           734         NaN         NaN         NaN   \n",
            "\n",
            "                    sentence  sentiment  \n",
            "7382  ভালোবাসি ভাই অনেক বেশী          1  \n",
            "7383    তোমারে ভাই অনেক বেশী          1  \n",
            "7384       কসম ভাই অনেক বেশী          1  \n",
            "7385    তোমায় ভাই অনেক বেশী          1  \n",
            "7386      তোকে ভাই অনেক বেশী          1  \n"
          ]
        }
      ]
    },
    {
      "cell_type": "code",
      "source": [
        "df['sentiment'].value_counts()"
      ],
      "metadata": {
        "colab": {
          "base_uri": "https://localhost:8080/"
        },
        "id": "OMaclDMreQ1E",
        "outputId": "57d7121b-6138-4091-863d-652ac075f53f"
      },
      "execution_count": 8,
      "outputs": [
        {
          "output_type": "execute_result",
          "data": {
            "text/plain": [
              "0    4035\n",
              "1    3352\n",
              "Name: sentiment, dtype: int64"
            ]
          },
          "metadata": {},
          "execution_count": 8
        }
      ]
    },
    {
      "cell_type": "code",
      "source": [
        "df.reset_index(drop=True, inplace=True)\n",
        "df['sentence'] = df.sentence.apply(lambda x: preprocessing(str(x)))"
      ],
      "metadata": {
        "id": "zWbUoTZheUHa"
      },
      "execution_count": 9,
      "outputs": []
    },
    {
      "cell_type": "code",
      "source": [
        "train1, test1 = train_test_split(df,random_state=69, test_size=0.2)\n",
        "training_sentences = []\n",
        "testing_sentences = []\n",
        "\n",
        "train_sentences=train1['sentence'].values\n",
        "train_labels=train1['sentiment'].values\n",
        "for i in range(train_sentences.shape[0]):\n",
        "    #print(train_sentences[i])\n",
        "    x=str(train_sentences[i])\n",
        "    training_sentences.append(x)\n",
        "\n",
        "training_sentences=np.array(training_sentences)"
      ],
      "metadata": {
        "id": "TDzt_e15eXtS"
      },
      "execution_count": 10,
      "outputs": []
    },
    {
      "cell_type": "code",
      "source": [
        "test_sentences=test1['sentence'].values\n",
        "test_labels=test1['sentiment'].values\n",
        "\n",
        "for i in range(test_sentences.shape[0]):\n",
        "    x=str(test_sentences[i])\n",
        "    testing_sentences.append(x)\n",
        "\n",
        "testing_sentences=np.array(testing_sentences)\n",
        "\n",
        "\n",
        "train_labels=keras.utils.to_categorical(train_labels)\n",
        "\n",
        "\n",
        "test_labels=keras.utils.to_categorical(test_labels)"
      ],
      "metadata": {
        "id": "l2bn49a0eacf"
      },
      "execution_count": 11,
      "outputs": []
    },
    {
      "cell_type": "code",
      "source": [
        "print(\"Training Set Length: \"+str(len(train1)))\n",
        "print(\"Testing Set Length: \"+str(len(test1)))\n",
        "print(\"training_sentences shape: \"+str(training_sentences.shape))\n",
        "print(\"testing_sentences shape: \"+str(testing_sentences.shape))\n",
        "print(\"train_labels shape: \"+str(train_labels.shape))\n",
        "print(\"test_labels shape: \"+str(test_labels.shape))"
      ],
      "metadata": {
        "colab": {
          "base_uri": "https://localhost:8080/"
        },
        "id": "yRgbU6cBedHA",
        "outputId": "ee566ce4-b13d-493e-c501-5ddf216de3fc"
      },
      "execution_count": 12,
      "outputs": [
        {
          "output_type": "stream",
          "name": "stdout",
          "text": [
            "Training Set Length: 5909\n",
            "Testing Set Length: 1478\n",
            "training_sentences shape: (5909,)\n",
            "testing_sentences shape: (1478,)\n",
            "train_labels shape: (5909, 2)\n",
            "test_labels shape: (1478, 2)\n"
          ]
        }
      ]
    },
    {
      "cell_type": "code",
      "source": [
        "training_sentences[3]"
      ],
      "metadata": {
        "colab": {
          "base_uri": "https://localhost:8080/",
          "height": 36
        },
        "id": "xWHPIlbAegQw",
        "outputId": "1eba13e9-46d2-4340-8f21-a40445ebcd7b"
      },
      "execution_count": 13,
      "outputs": [
        {
          "output_type": "execute_result",
          "data": {
            "text/plain": [
              "'দুদক এর কাজ পায় না ও তো বলেছিলেন পদ্মা সেতুর অর্থায়ন করবে ও তো আন্তজাতিক ওর কাছে এতটাকা না থাকলে আম জনতার কাছে থাকবে'"
            ],
            "application/vnd.google.colaboratory.intrinsic+json": {
              "type": "string"
            }
          },
          "metadata": {},
          "execution_count": 13
        }
      ]
    },
    {
      "cell_type": "code",
      "source": [
        "train_labels[3]"
      ],
      "metadata": {
        "colab": {
          "base_uri": "https://localhost:8080/"
        },
        "id": "_sctdrh3eitN",
        "outputId": "4b40e890-52e3-46ff-d86e-e5df543c2385"
      },
      "execution_count": 14,
      "outputs": [
        {
          "output_type": "execute_result",
          "data": {
            "text/plain": [
              "array([1., 0.], dtype=float32)"
            ]
          },
          "metadata": {},
          "execution_count": 14
        }
      ]
    },
    {
      "cell_type": "code",
      "source": [
        "print(training_sentences.shape)\n",
        "print(train_labels.shape)"
      ],
      "metadata": {
        "colab": {
          "base_uri": "https://localhost:8080/"
        },
        "id": "91kiF8odelT0",
        "outputId": "9067d405-516e-41bd-bf9a-7e8446d9c2a5"
      },
      "execution_count": 15,
      "outputs": [
        {
          "output_type": "stream",
          "name": "stdout",
          "text": [
            "(5909,)\n",
            "(5909, 2)\n"
          ]
        }
      ]
    },
    {
      "cell_type": "code",
      "source": [
        "vocab_size = 20000\n",
        "embedding_dim = 300\n",
        "max_length = 150\n",
        "trunc_type='post'\n",
        "oov_tok = \"\""
      ],
      "metadata": {
        "id": "QQ0wObC8eoXj"
      },
      "execution_count": 16,
      "outputs": []
    },
    {
      "cell_type": "code",
      "source": [
        "tokenizer = Tokenizer(num_words = vocab_size, oov_token=oov_tok)\n",
        "tokenizer.fit_on_texts(training_sentences)\n",
        "word_index = tokenizer.word_index\n",
        "print(len(word_index))"
      ],
      "metadata": {
        "colab": {
          "base_uri": "https://localhost:8080/"
        },
        "id": "UGz0YH5Peq-v",
        "outputId": "41510f04-cc9a-46d2-b0d2-dcd953bbc4ee"
      },
      "execution_count": 17,
      "outputs": [
        {
          "output_type": "stream",
          "name": "stdout",
          "text": [
            "18673\n"
          ]
        }
      ]
    },
    {
      "cell_type": "code",
      "source": [
        "from keras.preprocessing.sequence import pad_sequences"
      ],
      "metadata": {
        "id": "bU8sL1AxeuRb"
      },
      "execution_count": 18,
      "outputs": []
    },
    {
      "cell_type": "code",
      "source": [
        "sequences = tokenizer.texts_to_sequences(training_sentences)\n",
        "padded = pad_sequences(sequences,maxlen=max_length, truncating=trunc_type)\n",
        "\n",
        "\n",
        "test_sequences = tokenizer.texts_to_sequences(testing_sentences)\n",
        "testing_padded = pad_sequences(test_sequences,maxlen=max_length)"
      ],
      "metadata": {
        "id": "-n5QHBX1evav"
      },
      "execution_count": 19,
      "outputs": []
    },
    {
      "cell_type": "code",
      "source": [
        "print(\"Sentence :--> \\n\")\n",
        "print(training_sentences[3]+\"\\n\")\n",
        "print(\"Sentence Tokenized and Converted into Sequence :--> \\n\")\n",
        "print(str(sequences[3])+\"\\n\")\n",
        "print(\"After Padding the Sequence with padding length 100 :--> \\n\")\n",
        "print(padded[3])"
      ],
      "metadata": {
        "colab": {
          "base_uri": "https://localhost:8080/"
        },
        "id": "ilTEfac-e1wE",
        "outputId": "131d97cf-a2ca-447a-b654-df27f331b6d5"
      },
      "execution_count": 20,
      "outputs": [
        {
          "output_type": "stream",
          "name": "stdout",
          "text": [
            "Sentence :--> \n",
            "\n",
            "দুদক এর কাজ পায় না ও তো বলেছিলেন পদ্মা সেতুর অর্থায়ন করবে ও তো আন্তজাতিক ওর কাছে এতটাকা না থাকলে আম জনতার কাছে থাকবে\n",
            "\n",
            "Sentence Tokenized and Converted into Sequence :--> \n",
            "\n",
            "[1886, 20, 67, 309, 2, 8, 24, 2144, 832, 1107, 7136, 103, 8, 24, 3699, 259, 87, 4789, 2, 193, 3060, 3061, 87, 236]\n",
            "\n",
            "After Padding the Sequence with padding length 100 :--> \n",
            "\n",
            "[   0    0    0    0    0    0    0    0    0    0    0    0    0    0\n",
            "    0    0    0    0    0    0    0    0    0    0    0    0    0    0\n",
            "    0    0    0    0    0    0    0    0    0    0    0    0    0    0\n",
            "    0    0    0    0    0    0    0    0    0    0    0    0    0    0\n",
            "    0    0    0    0    0    0    0    0    0    0    0    0    0    0\n",
            "    0    0    0    0    0    0    0    0    0    0    0    0    0    0\n",
            "    0    0    0    0    0    0    0    0    0    0    0    0    0    0\n",
            "    0    0    0    0    0    0    0    0    0    0    0    0    0    0\n",
            "    0    0    0    0    0    0    0    0    0    0    0    0    0    0\n",
            " 1886   20   67  309    2    8   24 2144  832 1107 7136  103    8   24\n",
            " 3699  259   87 4789    2  193 3060 3061   87  236]\n"
          ]
        }
      ]
    },
    {
      "cell_type": "code",
      "source": [
        "print(\"Padded shape(training): \"+str(padded.shape))\n",
        "print(\"Padded shape(testing): \"+str(testing_padded.shape))"
      ],
      "metadata": {
        "colab": {
          "base_uri": "https://localhost:8080/"
        },
        "id": "AJ1gtpUofB-2",
        "outputId": "5b1d0176-2633-4090-f3d5-2c317869bbbe"
      },
      "execution_count": 21,
      "outputs": [
        {
          "output_type": "stream",
          "name": "stdout",
          "text": [
            "Padded shape(training): (5909, 150)\n",
            "Padded shape(testing): (1478, 150)\n"
          ]
        }
      ]
    },
    {
      "cell_type": "code",
      "source": [
        "import tensorflow as tf\n",
        "from tensorflow.keras.models import Sequential\n",
        "from tensorflow.keras.layers import Embedding, Conv1D, LSTM, Dropout, Dense, Bidirectional, Flatten\n",
        "from tensorflow.keras import regularizers\n",
        "from tensorflow.keras.optimizers import Adam"
      ],
      "metadata": {
        "id": "udffXaHDfKx-"
      },
      "execution_count": 22,
      "outputs": []
    },
    {
      "cell_type": "code",
      "source": [
        "with tf.device('/gpu:0'):\n",
        "    model = Sequential()\n",
        "    model.add(Embedding(vocab_size, embedding_dim, input_length=max_length))\n",
        "    model.add(Conv1D(128, kernel_size=3, activation=\"relu\"))\n",
        "    model.add(Bidirectional(LSTM(128, return_sequences=True)))\n",
        "    model.add(Dropout(0.2))\n",
        "    model.add(Bidirectional(LSTM(128)))\n",
        "    model.add(Dense(64, activation='relu'))\n",
        "    model.add(Dense(32, activation='relu'))\n",
        "    model.add(Flatten())\n",
        "    model.add(Dense(100, kernel_regularizer=regularizers.l2(0.01), activation=\"relu\"))\n",
        "    model.add(Dropout(0.2))\n",
        "    model.add(Dense(2, activation='sigmoid'))\n",
        "    adam = Adam(learning_rate=0.0001, beta_1=0.9, beta_2=0.999, epsilon=1e-07, amsgrad=False)\n",
        "    model.summary()\n",
        "    model.compile(loss='binary_crossentropy', optimizer=adam, metrics=['accuracy'])\n",
        "\n"
      ],
      "metadata": {
        "colab": {
          "base_uri": "https://localhost:8080/"
        },
        "id": "yOMXIEjQfOTJ",
        "outputId": "4edb5a2d-9283-4cf3-9297-4c41dbe2bc47"
      },
      "execution_count": 25,
      "outputs": [
        {
          "output_type": "stream",
          "name": "stdout",
          "text": [
            "Model: \"sequential_2\"\n",
            "_________________________________________________________________\n",
            " Layer (type)                Output Shape              Param #   \n",
            "=================================================================\n",
            " embedding_2 (Embedding)     (None, 150, 300)          6000000   \n",
            "                                                                 \n",
            " conv1d_3 (Conv1D)           (None, 148, 128)          115328    \n",
            "                                                                 \n",
            " bidirectional_4 (Bidirecti  (None, 148, 256)          263168    \n",
            " onal)                                                           \n",
            "                                                                 \n",
            " dropout_4 (Dropout)         (None, 148, 256)          0         \n",
            "                                                                 \n",
            " bidirectional_5 (Bidirecti  (None, 256)               394240    \n",
            " onal)                                                           \n",
            "                                                                 \n",
            " dense_8 (Dense)             (None, 64)                16448     \n",
            "                                                                 \n",
            " dense_9 (Dense)             (None, 32)                2080      \n",
            "                                                                 \n",
            " flatten_1 (Flatten)         (None, 32)                0         \n",
            "                                                                 \n",
            " dense_10 (Dense)            (None, 100)               3300      \n",
            "                                                                 \n",
            " dropout_5 (Dropout)         (None, 100)               0         \n",
            "                                                                 \n",
            " dense_11 (Dense)            (None, 2)                 202       \n",
            "                                                                 \n",
            "=================================================================\n",
            "Total params: 6794766 (25.92 MB)\n",
            "Trainable params: 6794766 (25.92 MB)\n",
            "Non-trainable params: 0 (0.00 Byte)\n",
            "_________________________________________________________________\n"
          ]
        }
      ]
    },
    {
      "cell_type": "markdown",
      "source": [
        "### **MODEL 2**"
      ],
      "metadata": {
        "id": "5BKs5i6gqqGN"
      }
    },
    {
      "cell_type": "code",
      "source": [
        "from tensorflow.keras.layers import Embedding, Conv1D, Bidirectional, LSTM, Dropout, Dense, Flatten, BatchNormalization\n",
        "\n",
        "# Define your model\n",
        "with tf.device('/gpu:0'):\n",
        "    model = Sequential()\n",
        "\n",
        "    # Embedding Layer\n",
        "    #embedding_matrix = load_pretrained_embeddings()  # Implement a function to load pre-trained embeddings\n",
        "    model.add(Embedding(vocab_size, embedding_dim, input_length=max_length, trainable=False))\n",
        "\n",
        "    # Convolutional Layers\n",
        "    model.add(Conv1D(128, kernel_size=3, activation=\"relu\"))\n",
        "    model.add(Conv1D(128, kernel_size=5, activation=\"relu\"))\n",
        "\n",
        "    # LSTM Layers\n",
        "    model.add(Bidirectional(LSTM(256, return_sequences=True)))\n",
        "    model.add(Dropout(0.5))\n",
        "    model.add(Bidirectional(LSTM(256)))\n",
        "\n",
        "    # Dense Layers with Regularization\n",
        "    model.add(Dense(64, activation='relu'))\n",
        "    model.add(Dense(32, activation='relu'))\n",
        "    model.add(Dropout(0.5))\n",
        "    model.add(Dense(100, kernel_regularizer=regularizers.l2(0.001), activation=\"relu\"))\n",
        "\n",
        "    # Batch Normalization\n",
        "    model.add(BatchNormalization())\n",
        "\n",
        "    # Output Layer\n",
        "    model.add(Dense(2, activation='sigmoid'))\n",
        "\n",
        "    # Adam Optimizer\n",
        "    adam = Adam(learning_rate=0.001, beta_1=0.9, beta_2=0.999, epsilon=1e-07, amsgrad=False)\n",
        "\n",
        "    # Model Summary\n",
        "    model.summary()\n",
        "\n",
        "    # Compile the model\n",
        "    model.compile(loss='binary_crossentropy', optimizer=adam, metrics=['accuracy'])\n"
      ],
      "metadata": {
        "colab": {
          "base_uri": "https://localhost:8080/"
        },
        "id": "tYqzl5atqpwc",
        "outputId": "3b90b453-0149-4894-9593-6263062c39e8"
      },
      "execution_count": 24,
      "outputs": [
        {
          "output_type": "stream",
          "name": "stdout",
          "text": [
            "Model: \"sequential_1\"\n",
            "_________________________________________________________________\n",
            " Layer (type)                Output Shape              Param #   \n",
            "=================================================================\n",
            " embedding_1 (Embedding)     (None, 150, 300)          6000000   \n",
            "                                                                 \n",
            " conv1d_1 (Conv1D)           (None, 148, 128)          115328    \n",
            "                                                                 \n",
            " conv1d_2 (Conv1D)           (None, 144, 128)          82048     \n",
            "                                                                 \n",
            " bidirectional_2 (Bidirecti  (None, 144, 512)          788480    \n",
            " onal)                                                           \n",
            "                                                                 \n",
            " dropout_2 (Dropout)         (None, 144, 512)          0         \n",
            "                                                                 \n",
            " bidirectional_3 (Bidirecti  (None, 512)               1574912   \n",
            " onal)                                                           \n",
            "                                                                 \n",
            " dense_4 (Dense)             (None, 64)                32832     \n",
            "                                                                 \n",
            " dense_5 (Dense)             (None, 32)                2080      \n",
            "                                                                 \n",
            " dropout_3 (Dropout)         (None, 32)                0         \n",
            "                                                                 \n",
            " dense_6 (Dense)             (None, 100)               3300      \n",
            "                                                                 \n",
            " batch_normalization (Batch  (None, 100)               400       \n",
            " Normalization)                                                  \n",
            "                                                                 \n",
            " dense_7 (Dense)             (None, 2)                 202       \n",
            "                                                                 \n",
            "=================================================================\n",
            "Total params: 8599582 (32.80 MB)\n",
            "Trainable params: 2599382 (9.92 MB)\n",
            "Non-trainable params: 6000200 (22.89 MB)\n",
            "_________________________________________________________________\n"
          ]
        }
      ]
    },
    {
      "cell_type": "code",
      "source": [
        "history=model.fit(padded,train_labels,epochs=100,batch_size=512,\n",
        "                  validation_data=(testing_padded,test_labels),\n",
        "                  use_multiprocessing=True, workers=8)"
      ],
      "metadata": {
        "colab": {
          "base_uri": "https://localhost:8080/"
        },
        "id": "8JY24wRXfS8Y",
        "outputId": "56d4d2e0-71e9-46f1-e3f9-5439ad36897a"
      },
      "execution_count": 26,
      "outputs": [
        {
          "output_type": "stream",
          "name": "stdout",
          "text": [
            "Epoch 1/100\n",
            "12/12 [==============================] - 23s 430ms/step - loss: 1.1678 - accuracy: 0.5356 - val_loss: 1.1604 - val_accuracy: 0.5690\n",
            "Epoch 2/100\n",
            "12/12 [==============================] - 4s 358ms/step - loss: 1.1569 - accuracy: 0.5405 - val_loss: 1.1477 - val_accuracy: 0.5690\n",
            "Epoch 3/100\n",
            "12/12 [==============================] - 3s 256ms/step - loss: 1.1441 - accuracy: 0.5414 - val_loss: 1.1324 - val_accuracy: 0.5690\n",
            "Epoch 4/100\n",
            "12/12 [==============================] - 3s 241ms/step - loss: 1.1269 - accuracy: 0.5752 - val_loss: 1.1134 - val_accuracy: 0.5954\n",
            "Epoch 5/100\n",
            "12/12 [==============================] - 3s 240ms/step - loss: 1.1082 - accuracy: 0.6026 - val_loss: 1.0976 - val_accuracy: 0.5974\n",
            "Epoch 6/100\n",
            "12/12 [==============================] - 3s 294ms/step - loss: 1.0879 - accuracy: 0.6169 - val_loss: 1.0719 - val_accuracy: 0.6292\n",
            "Epoch 7/100\n",
            "12/12 [==============================] - 3s 267ms/step - loss: 1.0473 - accuracy: 0.6607 - val_loss: 1.0268 - val_accuracy: 0.6834\n",
            "Epoch 8/100\n",
            "12/12 [==============================] - 3s 246ms/step - loss: 0.9647 - accuracy: 0.7483 - val_loss: 0.9428 - val_accuracy: 0.7679\n",
            "Epoch 9/100\n",
            "12/12 [==============================] - 4s 313ms/step - loss: 0.8153 - accuracy: 0.8766 - val_loss: 0.8942 - val_accuracy: 0.8315\n",
            "Epoch 10/100\n",
            "12/12 [==============================] - 4s 311ms/step - loss: 0.6819 - accuracy: 0.9277 - val_loss: 0.8950 - val_accuracy: 0.8430\n",
            "Epoch 11/100\n",
            "12/12 [==============================] - 3s 249ms/step - loss: 0.5933 - accuracy: 0.9499 - val_loss: 0.8665 - val_accuracy: 0.8444\n",
            "Epoch 12/100\n",
            "12/12 [==============================] - 3s 214ms/step - loss: 0.5273 - accuracy: 0.9685 - val_loss: 0.8987 - val_accuracy: 0.8464\n",
            "Epoch 13/100\n",
            "12/12 [==============================] - 3s 229ms/step - loss: 0.4757 - accuracy: 0.9817 - val_loss: 0.9280 - val_accuracy: 0.8518\n",
            "Epoch 14/100\n",
            "12/12 [==============================] - 3s 246ms/step - loss: 0.4520 - accuracy: 0.9853 - val_loss: 1.0664 - val_accuracy: 0.8457\n",
            "Epoch 15/100\n",
            "12/12 [==============================] - 4s 304ms/step - loss: 0.4348 - accuracy: 0.9885 - val_loss: 1.0654 - val_accuracy: 0.8457\n",
            "Epoch 16/100\n",
            "12/12 [==============================] - 3s 263ms/step - loss: 0.4203 - accuracy: 0.9902 - val_loss: 1.0301 - val_accuracy: 0.8505\n",
            "Epoch 17/100\n",
            "12/12 [==============================] - 3s 240ms/step - loss: 0.4018 - accuracy: 0.9937 - val_loss: 1.0944 - val_accuracy: 0.8505\n",
            "Epoch 18/100\n",
            "12/12 [==============================] - 3s 237ms/step - loss: 0.3891 - accuracy: 0.9963 - val_loss: 1.1816 - val_accuracy: 0.8457\n",
            "Epoch 19/100\n",
            "12/12 [==============================] - 3s 281ms/step - loss: 0.3838 - accuracy: 0.9959 - val_loss: 1.1798 - val_accuracy: 0.8491\n",
            "Epoch 20/100\n",
            "12/12 [==============================] - 3s 273ms/step - loss: 0.3720 - accuracy: 0.9973 - val_loss: 1.1132 - val_accuracy: 0.8579\n",
            "Epoch 21/100\n",
            "12/12 [==============================] - 3s 229ms/step - loss: 0.3629 - accuracy: 0.9981 - val_loss: 1.1333 - val_accuracy: 0.8552\n",
            "Epoch 22/100\n",
            "12/12 [==============================] - 3s 222ms/step - loss: 0.3525 - accuracy: 0.9993 - val_loss: 1.2075 - val_accuracy: 0.8545\n",
            "Epoch 23/100\n",
            "12/12 [==============================] - 3s 232ms/step - loss: 0.3470 - accuracy: 0.9992 - val_loss: 1.1926 - val_accuracy: 0.8572\n",
            "Epoch 24/100\n",
            "12/12 [==============================] - 4s 299ms/step - loss: 0.3411 - accuracy: 0.9993 - val_loss: 1.3058 - val_accuracy: 0.8478\n",
            "Epoch 25/100\n",
            "12/12 [==============================] - 3s 264ms/step - loss: 0.3417 - accuracy: 0.9978 - val_loss: 1.2241 - val_accuracy: 0.8539\n",
            "Epoch 26/100\n",
            "12/12 [==============================] - 3s 243ms/step - loss: 0.3330 - accuracy: 0.9981 - val_loss: 1.2216 - val_accuracy: 0.8539\n",
            "Epoch 27/100\n",
            "12/12 [==============================] - 3s 247ms/step - loss: 0.3283 - accuracy: 0.9981 - val_loss: 1.2378 - val_accuracy: 0.8505\n",
            "Epoch 28/100\n",
            "12/12 [==============================] - 3s 245ms/step - loss: 0.3204 - accuracy: 0.9988 - val_loss: 1.1584 - val_accuracy: 0.8545\n",
            "Epoch 29/100\n",
            "12/12 [==============================] - 3s 265ms/step - loss: 0.3133 - accuracy: 0.9992 - val_loss: 1.2354 - val_accuracy: 0.8484\n",
            "Epoch 30/100\n",
            "12/12 [==============================] - 3s 215ms/step - loss: 0.3087 - accuracy: 0.9992 - val_loss: 1.2075 - val_accuracy: 0.8525\n",
            "Epoch 31/100\n",
            "12/12 [==============================] - 2s 200ms/step - loss: 0.3047 - accuracy: 0.9993 - val_loss: 1.2606 - val_accuracy: 0.8532\n",
            "Epoch 32/100\n",
            "12/12 [==============================] - 3s 223ms/step - loss: 0.2986 - accuracy: 0.9992 - val_loss: 1.3264 - val_accuracy: 0.8498\n",
            "Epoch 33/100\n",
            "12/12 [==============================] - 3s 269ms/step - loss: 0.2929 - accuracy: 0.9995 - val_loss: 1.2853 - val_accuracy: 0.8484\n",
            "Epoch 34/100\n",
            "12/12 [==============================] - 3s 283ms/step - loss: 0.2887 - accuracy: 0.9995 - val_loss: 1.3308 - val_accuracy: 0.8512\n",
            "Epoch 35/100\n",
            "12/12 [==============================] - 3s 216ms/step - loss: 0.2828 - accuracy: 0.9997 - val_loss: 1.3411 - val_accuracy: 0.8525\n",
            "Epoch 36/100\n",
            "12/12 [==============================] - 3s 223ms/step - loss: 0.2782 - accuracy: 0.9997 - val_loss: 1.3411 - val_accuracy: 0.8518\n",
            "Epoch 37/100\n",
            "12/12 [==============================] - 3s 224ms/step - loss: 0.2734 - accuracy: 0.9997 - val_loss: 1.3387 - val_accuracy: 0.8512\n",
            "Epoch 38/100\n",
            "12/12 [==============================] - 3s 250ms/step - loss: 0.2684 - accuracy: 0.9997 - val_loss: 1.3467 - val_accuracy: 0.8484\n",
            "Epoch 39/100\n",
            "12/12 [==============================] - 3s 257ms/step - loss: 0.2640 - accuracy: 0.9997 - val_loss: 1.3549 - val_accuracy: 0.8532\n",
            "Epoch 40/100\n",
            "12/12 [==============================] - 2s 210ms/step - loss: 0.2599 - accuracy: 0.9997 - val_loss: 1.3655 - val_accuracy: 0.8512\n",
            "Epoch 41/100\n",
            "12/12 [==============================] - 3s 223ms/step - loss: 0.2553 - accuracy: 0.9997 - val_loss: 1.3708 - val_accuracy: 0.8512\n",
            "Epoch 42/100\n",
            "12/12 [==============================] - 3s 235ms/step - loss: 0.2515 - accuracy: 0.9997 - val_loss: 1.3682 - val_accuracy: 0.8525\n",
            "Epoch 43/100\n",
            "12/12 [==============================] - 2s 194ms/step - loss: 0.2474 - accuracy: 0.9997 - val_loss: 1.3736 - val_accuracy: 0.8532\n",
            "Epoch 44/100\n",
            "12/12 [==============================] - 3s 225ms/step - loss: 0.2435 - accuracy: 0.9997 - val_loss: 1.3768 - val_accuracy: 0.8525\n",
            "Epoch 45/100\n",
            "12/12 [==============================] - 3s 225ms/step - loss: 0.2391 - accuracy: 0.9997 - val_loss: 1.3797 - val_accuracy: 0.8512\n",
            "Epoch 46/100\n",
            "12/12 [==============================] - 3s 243ms/step - loss: 0.2349 - accuracy: 0.9997 - val_loss: 1.3891 - val_accuracy: 0.8478\n",
            "Epoch 47/100\n",
            "12/12 [==============================] - 2s 197ms/step - loss: 0.2312 - accuracy: 0.9997 - val_loss: 1.3888 - val_accuracy: 0.8478\n",
            "Epoch 48/100\n",
            "12/12 [==============================] - 3s 234ms/step - loss: 0.2271 - accuracy: 0.9997 - val_loss: 1.3935 - val_accuracy: 0.8478\n",
            "Epoch 49/100\n",
            "12/12 [==============================] - 3s 228ms/step - loss: 0.2231 - accuracy: 0.9998 - val_loss: 1.4017 - val_accuracy: 0.8478\n",
            "Epoch 50/100\n",
            "12/12 [==============================] - 2s 205ms/step - loss: 0.2195 - accuracy: 0.9998 - val_loss: 1.4034 - val_accuracy: 0.8464\n",
            "Epoch 51/100\n",
            "12/12 [==============================] - 2s 201ms/step - loss: 0.2157 - accuracy: 0.9998 - val_loss: 1.3960 - val_accuracy: 0.8457\n",
            "Epoch 52/100\n",
            "12/12 [==============================] - 3s 229ms/step - loss: 0.2113 - accuracy: 0.9998 - val_loss: 1.3978 - val_accuracy: 0.8464\n",
            "Epoch 53/100\n",
            "12/12 [==============================] - 2s 210ms/step - loss: 0.2083 - accuracy: 0.9998 - val_loss: 1.3984 - val_accuracy: 0.8471\n",
            "Epoch 54/100\n",
            "12/12 [==============================] - 3s 269ms/step - loss: 0.2046 - accuracy: 0.9998 - val_loss: 1.4011 - val_accuracy: 0.8457\n",
            "Epoch 55/100\n",
            "12/12 [==============================] - 3s 218ms/step - loss: 0.2011 - accuracy: 0.9998 - val_loss: 1.4014 - val_accuracy: 0.8457\n",
            "Epoch 56/100\n",
            "12/12 [==============================] - 3s 223ms/step - loss: 0.1980 - accuracy: 0.9998 - val_loss: 1.3932 - val_accuracy: 0.8464\n",
            "Epoch 57/100\n",
            "12/12 [==============================] - 2s 199ms/step - loss: 0.1941 - accuracy: 0.9998 - val_loss: 1.3802 - val_accuracy: 0.8464\n",
            "Epoch 58/100\n",
            "12/12 [==============================] - 3s 236ms/step - loss: 0.1907 - accuracy: 0.9998 - val_loss: 1.3753 - val_accuracy: 0.8464\n",
            "Epoch 59/100\n",
            "12/12 [==============================] - 3s 243ms/step - loss: 0.1872 - accuracy: 0.9998 - val_loss: 1.4035 - val_accuracy: 0.8478\n",
            "Epoch 60/100\n",
            "12/12 [==============================] - 3s 241ms/step - loss: 0.1838 - accuracy: 0.9998 - val_loss: 1.4156 - val_accuracy: 0.8478\n",
            "Epoch 61/100\n",
            "12/12 [==============================] - 3s 210ms/step - loss: 0.1807 - accuracy: 0.9998 - val_loss: 1.4188 - val_accuracy: 0.8464\n",
            "Epoch 62/100\n",
            "12/12 [==============================] - 3s 216ms/step - loss: 0.1774 - accuracy: 0.9998 - val_loss: 1.4280 - val_accuracy: 0.8464\n",
            "Epoch 63/100\n",
            "12/12 [==============================] - 2s 198ms/step - loss: 0.1744 - accuracy: 0.9998 - val_loss: 1.4376 - val_accuracy: 0.8471\n",
            "Epoch 64/100\n",
            "12/12 [==============================] - 3s 230ms/step - loss: 0.1727 - accuracy: 0.9997 - val_loss: 1.4436 - val_accuracy: 0.8471\n",
            "Epoch 65/100\n",
            "12/12 [==============================] - 3s 232ms/step - loss: 0.1684 - accuracy: 0.9998 - val_loss: 1.4442 - val_accuracy: 0.8464\n",
            "Epoch 66/100\n",
            "12/12 [==============================] - 2s 206ms/step - loss: 0.1653 - accuracy: 0.9998 - val_loss: 1.4513 - val_accuracy: 0.8471\n",
            "Epoch 67/100\n",
            "12/12 [==============================] - 3s 214ms/step - loss: 0.1624 - accuracy: 0.9998 - val_loss: 1.4528 - val_accuracy: 0.8464\n",
            "Epoch 68/100\n",
            "12/12 [==============================] - 2s 203ms/step - loss: 0.1596 - accuracy: 0.9998 - val_loss: 1.4519 - val_accuracy: 0.8464\n",
            "Epoch 69/100\n",
            "12/12 [==============================] - 3s 260ms/step - loss: 0.1567 - accuracy: 0.9998 - val_loss: 1.4560 - val_accuracy: 0.8457\n",
            "Epoch 70/100\n",
            "12/12 [==============================] - 3s 240ms/step - loss: 0.1544 - accuracy: 0.9998 - val_loss: 1.4591 - val_accuracy: 0.8451\n",
            "Epoch 71/100\n",
            "12/12 [==============================] - 3s 223ms/step - loss: 0.1515 - accuracy: 0.9998 - val_loss: 1.4561 - val_accuracy: 0.8464\n",
            "Epoch 72/100\n",
            "12/12 [==============================] - 3s 242ms/step - loss: 0.1486 - accuracy: 0.9998 - val_loss: 1.4673 - val_accuracy: 0.8464\n",
            "Epoch 73/100\n",
            "12/12 [==============================] - 2s 210ms/step - loss: 0.1459 - accuracy: 0.9998 - val_loss: 1.4792 - val_accuracy: 0.8471\n",
            "Epoch 74/100\n",
            "12/12 [==============================] - 2s 202ms/step - loss: 0.1432 - accuracy: 0.9998 - val_loss: 1.4940 - val_accuracy: 0.8471\n",
            "Epoch 75/100\n",
            "12/12 [==============================] - 3s 237ms/step - loss: 0.1408 - accuracy: 0.9998 - val_loss: 1.5041 - val_accuracy: 0.8471\n",
            "Epoch 76/100\n",
            "12/12 [==============================] - 3s 217ms/step - loss: 0.1382 - accuracy: 0.9998 - val_loss: 1.5164 - val_accuracy: 0.8471\n",
            "Epoch 77/100\n",
            "12/12 [==============================] - 3s 225ms/step - loss: 0.1355 - accuracy: 0.9998 - val_loss: 1.5210 - val_accuracy: 0.8464\n",
            "Epoch 78/100\n",
            "12/12 [==============================] - 2s 198ms/step - loss: 0.1330 - accuracy: 0.9998 - val_loss: 1.5297 - val_accuracy: 0.8457\n",
            "Epoch 79/100\n",
            "12/12 [==============================] - 2s 193ms/step - loss: 0.1307 - accuracy: 0.9998 - val_loss: 1.5276 - val_accuracy: 0.8471\n",
            "Epoch 80/100\n",
            "12/12 [==============================] - 3s 256ms/step - loss: 0.1280 - accuracy: 0.9998 - val_loss: 1.5307 - val_accuracy: 0.8471\n",
            "Epoch 81/100\n",
            "12/12 [==============================] - 2s 180ms/step - loss: 0.1259 - accuracy: 0.9998 - val_loss: 1.5347 - val_accuracy: 0.8471\n",
            "Epoch 82/100\n",
            "12/12 [==============================] - 2s 205ms/step - loss: 0.1234 - accuracy: 0.9998 - val_loss: 1.5451 - val_accuracy: 0.8464\n",
            "Epoch 83/100\n",
            "12/12 [==============================] - 2s 202ms/step - loss: 0.1213 - accuracy: 0.9998 - val_loss: 1.5459 - val_accuracy: 0.8464\n",
            "Epoch 84/100\n",
            "12/12 [==============================] - 2s 205ms/step - loss: 0.1189 - accuracy: 0.9998 - val_loss: 1.5502 - val_accuracy: 0.8464\n",
            "Epoch 85/100\n",
            "12/12 [==============================] - 3s 215ms/step - loss: 0.1166 - accuracy: 0.9998 - val_loss: 1.5546 - val_accuracy: 0.8464\n",
            "Epoch 86/100\n",
            "12/12 [==============================] - 3s 221ms/step - loss: 0.1147 - accuracy: 0.9998 - val_loss: 1.5557 - val_accuracy: 0.8464\n",
            "Epoch 87/100\n",
            "12/12 [==============================] - 2s 206ms/step - loss: 0.1125 - accuracy: 0.9998 - val_loss: 1.5500 - val_accuracy: 0.8471\n",
            "Epoch 88/100\n",
            "12/12 [==============================] - 3s 216ms/step - loss: 0.1103 - accuracy: 0.9998 - val_loss: 1.5619 - val_accuracy: 0.8464\n",
            "Epoch 89/100\n",
            "12/12 [==============================] - 2s 191ms/step - loss: 0.1083 - accuracy: 0.9998 - val_loss: 1.5660 - val_accuracy: 0.8464\n",
            "Epoch 90/100\n",
            "12/12 [==============================] - 2s 193ms/step - loss: 0.1062 - accuracy: 0.9998 - val_loss: 1.5691 - val_accuracy: 0.8464\n",
            "Epoch 91/100\n",
            "12/12 [==============================] - 3s 239ms/step - loss: 0.1041 - accuracy: 0.9998 - val_loss: 1.5745 - val_accuracy: 0.8464\n",
            "Epoch 92/100\n",
            "12/12 [==============================] - 3s 214ms/step - loss: 0.1022 - accuracy: 0.9998 - val_loss: 1.5739 - val_accuracy: 0.8464\n",
            "Epoch 93/100\n",
            "12/12 [==============================] - 3s 216ms/step - loss: 0.1002 - accuracy: 0.9998 - val_loss: 1.5748 - val_accuracy: 0.8464\n",
            "Epoch 94/100\n",
            "12/12 [==============================] - 3s 219ms/step - loss: 0.0983 - accuracy: 0.9998 - val_loss: 1.5765 - val_accuracy: 0.8471\n",
            "Epoch 95/100\n",
            "12/12 [==============================] - 2s 203ms/step - loss: 0.0965 - accuracy: 0.9998 - val_loss: 1.5767 - val_accuracy: 0.8471\n",
            "Epoch 96/100\n",
            "12/12 [==============================] - 3s 214ms/step - loss: 0.0947 - accuracy: 0.9998 - val_loss: 1.5736 - val_accuracy: 0.8478\n",
            "Epoch 97/100\n",
            "12/12 [==============================] - 2s 210ms/step - loss: 0.0927 - accuracy: 0.9998 - val_loss: 1.5746 - val_accuracy: 0.8478\n",
            "Epoch 98/100\n",
            "12/12 [==============================] - 2s 197ms/step - loss: 0.0911 - accuracy: 0.9998 - val_loss: 1.5779 - val_accuracy: 0.8471\n",
            "Epoch 99/100\n",
            "12/12 [==============================] - 2s 197ms/step - loss: 0.0893 - accuracy: 0.9998 - val_loss: 1.5831 - val_accuracy: 0.8471\n",
            "Epoch 100/100\n",
            "12/12 [==============================] - 2s 196ms/step - loss: 0.0876 - accuracy: 0.9998 - val_loss: 1.5831 - val_accuracy: 0.8478\n"
          ]
        }
      ]
    },
    {
      "cell_type": "code",
      "source": [
        "import matplotlib.pyplot as plt"
      ],
      "metadata": {
        "id": "zAXW3tqNhc70"
      },
      "execution_count": 27,
      "outputs": []
    },
    {
      "cell_type": "code",
      "source": [
        "print(history.history.keys())\n",
        "loss = history.history['loss']\n",
        "val_loss = history.history['val_loss']\n",
        "plt.plot(loss)\n",
        "plt.plot(val_loss)\n",
        "plt.title('model loss')\n",
        "plt.ylabel('loss')\n",
        "plt.xlabel('epoch')\n",
        "plt.legend(['loss', 'val_loss'])\n",
        "plt.show()\n",
        "\n",
        "accuracy = history.history['accuracy']\n",
        "val_accuracy= history.history['val_accuracy']\n",
        "plt.plot(accuracy)\n",
        "plt.plot(val_accuracy)\n",
        "plt.title('model accuracy')\n",
        "plt.ylabel('accuracy')\n",
        "plt.xlabel('epoch')\n",
        "plt.legend(['accuracy', 'val_accuracy'])\n",
        "plt.show()"
      ],
      "metadata": {
        "colab": {
          "base_uri": "https://localhost:8080/",
          "height": 944
        },
        "id": "DH3honh7hgDE",
        "outputId": "d4d50d22-2327-47ba-839c-98edc9905e9e"
      },
      "execution_count": 28,
      "outputs": [
        {
          "output_type": "stream",
          "name": "stdout",
          "text": [
            "dict_keys(['loss', 'accuracy', 'val_loss', 'val_accuracy'])\n"
          ]
        },
        {
          "output_type": "display_data",
          "data": {
            "text/plain": [
              "<Figure size 640x480 with 1 Axes>"
            ],
            "image/png": "[encoded data removed]"
          },
          "metadata": {}
        },
        {
          "output_type": "display_data",
          "data": {
            "text/plain": [
              "<Figure size 640x480 with 1 Axes>"
            ],
            "image/png": "[encoded data removed]"
          },
          "metadata": {}
        }
      ]
    },
    {
      "cell_type": "code",
      "source": [
        "model.save_weights('model_weights_sentiment_82%.h5')"
      ],
      "metadata": {
        "id": "qnoX1KZyhibL"
      },
      "execution_count": 29,
      "outputs": []
    },
    {
      "cell_type": "code",
      "source": [],
      "metadata": {
        "id": "jCQIyFTTpKBX"
      },
      "execution_count": null,
      "outputs": []
    },
    {
      "cell_type": "code",
      "source": [
        "twt = [input()]\n",
        "#twt\n",
        "#vectorizing the tweet by the pre-fitted tokenizer instance\n",
        "twt = tokenizer.texts_to_sequences(twt)\n",
        "#padding the tweet to have exactly the same shape as `embedding_2` input\n",
        "twt = pad_sequences(twt, maxlen=200, dtype='int32', value=0)\n",
        "#print(twt)\n",
        "\n",
        "sentiment = model.predict(twt,batch_size=1,verbose = 2)[0]\n",
        "if(np.argmax(sentiment) == 0):\n",
        "    print(\"negative\")\n",
        "elif (np.argmax(sentiment) == 1):\n",
        "    print(\"positive\")"
      ],
      "metadata": {
        "id": "Qpzg7pnRiRkO"
      },
      "execution_count": null,
      "outputs": []
    },
    {
      "cell_type": "code",
      "source": [],
      "metadata": {
        "id": "XKFmtCboVqo5"
      },
      "execution_count": null,
      "outputs": []
    }
  ]
}